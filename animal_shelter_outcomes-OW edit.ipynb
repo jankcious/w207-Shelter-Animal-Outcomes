{
 "cells": [
  {
   "cell_type": "markdown",
   "metadata": {},
   "source": [
    "### Initial Setup"
   ]
  },
  {
   "cell_type": "code",
   "execution_count": 36,
   "metadata": {
    "collapsed": false
   },
   "outputs": [],
   "source": [
    "# Load libraries\n",
    "import numpy as np\n",
    "import pandas as pd\n",
    "from sklearn.model_selection import *\n",
    "from sklearn.linear_model import LogisticRegression"
   ]
  },
  {
   "cell_type": "code",
   "execution_count": 37,
   "metadata": {
    "collapsed": true
   },
   "outputs": [],
   "source": [
    "# Read in data\n",
    "raw_data = pd.read_csv('train.csv')\n",
    "test_data = pd.read_csv('test.csv')"
   ]
  },
  {
   "cell_type": "code",
   "execution_count": 38,
   "metadata": {
    "collapsed": false
   },
   "outputs": [
    {
     "name": "stdout",
     "output_type": "stream",
     "text": [
      "(26729, 10)\n",
      "  AnimalID     Name             DateTime      OutcomeType OutcomeSubtype  \\\n",
      "0  A671945  Hambone  2014-02-12 18:22:00  Return_to_owner            NaN   \n",
      "1  A656520    Emily  2013-10-13 12:44:00       Euthanasia      Suffering   \n",
      "2  A686464   Pearce  2015-01-31 12:28:00         Adoption         Foster   \n",
      "3  A683430      NaN  2014-07-11 19:09:00         Transfer        Partner   \n",
      "4  A667013      NaN  2013-11-15 12:52:00         Transfer        Partner   \n",
      "\n",
      "  AnimalType SexuponOutcome AgeuponOutcome                        Breed  \\\n",
      "0        Dog  Neutered Male         1 year        Shetland Sheepdog Mix   \n",
      "1        Cat  Spayed Female         1 year       Domestic Shorthair Mix   \n",
      "2        Dog  Neutered Male        2 years                 Pit Bull Mix   \n",
      "3        Cat    Intact Male        3 weeks       Domestic Shorthair Mix   \n",
      "4        Dog  Neutered Male        2 years  Lhasa Apso/Miniature Poodle   \n",
      "\n",
      "         Color  \n",
      "0  Brown/White  \n",
      "1  Cream Tabby  \n",
      "2   Blue/White  \n",
      "3   Blue Cream  \n",
      "4          Tan  \n"
     ]
    }
   ],
   "source": [
    "# Examine the data a little bit\n",
    "print raw_data.shape\n",
    "print raw_data.head()"
   ]
  },
  {
   "cell_type": "markdown",
   "metadata": {},
   "source": [
    "### Exploratory Data Analysis"
   ]
  },
  {
   "cell_type": "code",
   "execution_count": 39,
   "metadata": {
    "collapsed": false
   },
   "outputs": [
    {
     "data": {
      "text/plain": [
       "Adoption           10769\n",
       "Transfer            9422\n",
       "Return_to_owner     4786\n",
       "Euthanasia          1555\n",
       "Died                 197\n",
       "Name: OutcomeType, dtype: int64"
      ]
     },
     "execution_count": 39,
     "metadata": {},
     "output_type": "execute_result"
    }
   ],
   "source": [
    "raw_data['OutcomeType'].value_counts()"
   ]
  },
  {
   "cell_type": "code",
   "execution_count": 40,
   "metadata": {
    "collapsed": false
   },
   "outputs": [
    {
     "data": {
      "text/plain": [
       "Partner                7816\n",
       "Foster                 1800\n",
       "SCRP                   1599\n",
       "Suffering              1002\n",
       "Aggressive              320\n",
       "Offsite                 165\n",
       "In Kennel               114\n",
       "Behavior                 86\n",
       "Rabies Risk              74\n",
       "Medical                  66\n",
       "In Foster                52\n",
       "Enroute                   8\n",
       "Court/Investigation       6\n",
       "At Vet                    4\n",
       "In Surgery                3\n",
       "Barn                      2\n",
       "Name: OutcomeSubtype, dtype: int64"
      ]
     },
     "execution_count": 40,
     "metadata": {},
     "output_type": "execute_result"
    }
   ],
   "source": [
    "raw_data['OutcomeSubtype'].value_counts()"
   ]
  },
  {
   "cell_type": "code",
   "execution_count": 41,
   "metadata": {
    "collapsed": false
   },
   "outputs": [
    {
     "data": {
      "text/html": [
       "<div>\n",
       "<table border=\"1\" class=\"dataframe\">\n",
       "  <thead>\n",
       "    <tr style=\"text-align: right;\">\n",
       "      <th>OutcomeType</th>\n",
       "      <th>Adoption</th>\n",
       "      <th>Died</th>\n",
       "      <th>Euthanasia</th>\n",
       "      <th>Transfer</th>\n",
       "    </tr>\n",
       "    <tr>\n",
       "      <th>OutcomeSubtype</th>\n",
       "      <th></th>\n",
       "      <th></th>\n",
       "      <th></th>\n",
       "      <th></th>\n",
       "    </tr>\n",
       "  </thead>\n",
       "  <tbody>\n",
       "    <tr>\n",
       "      <th>Aggressive</th>\n",
       "      <td>0</td>\n",
       "      <td>0</td>\n",
       "      <td>320</td>\n",
       "      <td>0</td>\n",
       "    </tr>\n",
       "    <tr>\n",
       "      <th>At Vet</th>\n",
       "      <td>0</td>\n",
       "      <td>4</td>\n",
       "      <td>0</td>\n",
       "      <td>0</td>\n",
       "    </tr>\n",
       "    <tr>\n",
       "      <th>Barn</th>\n",
       "      <td>1</td>\n",
       "      <td>0</td>\n",
       "      <td>0</td>\n",
       "      <td>1</td>\n",
       "    </tr>\n",
       "    <tr>\n",
       "      <th>Behavior</th>\n",
       "      <td>0</td>\n",
       "      <td>0</td>\n",
       "      <td>86</td>\n",
       "      <td>0</td>\n",
       "    </tr>\n",
       "    <tr>\n",
       "      <th>Court/Investigation</th>\n",
       "      <td>0</td>\n",
       "      <td>0</td>\n",
       "      <td>6</td>\n",
       "      <td>0</td>\n",
       "    </tr>\n",
       "    <tr>\n",
       "      <th>Enroute</th>\n",
       "      <td>0</td>\n",
       "      <td>8</td>\n",
       "      <td>0</td>\n",
       "      <td>0</td>\n",
       "    </tr>\n",
       "    <tr>\n",
       "      <th>Foster</th>\n",
       "      <td>1800</td>\n",
       "      <td>0</td>\n",
       "      <td>0</td>\n",
       "      <td>0</td>\n",
       "    </tr>\n",
       "    <tr>\n",
       "      <th>In Foster</th>\n",
       "      <td>0</td>\n",
       "      <td>52</td>\n",
       "      <td>0</td>\n",
       "      <td>0</td>\n",
       "    </tr>\n",
       "    <tr>\n",
       "      <th>In Kennel</th>\n",
       "      <td>0</td>\n",
       "      <td>114</td>\n",
       "      <td>0</td>\n",
       "      <td>0</td>\n",
       "    </tr>\n",
       "    <tr>\n",
       "      <th>In Surgery</th>\n",
       "      <td>0</td>\n",
       "      <td>3</td>\n",
       "      <td>0</td>\n",
       "      <td>0</td>\n",
       "    </tr>\n",
       "    <tr>\n",
       "      <th>Medical</th>\n",
       "      <td>0</td>\n",
       "      <td>0</td>\n",
       "      <td>66</td>\n",
       "      <td>0</td>\n",
       "    </tr>\n",
       "    <tr>\n",
       "      <th>Offsite</th>\n",
       "      <td>165</td>\n",
       "      <td>0</td>\n",
       "      <td>0</td>\n",
       "      <td>0</td>\n",
       "    </tr>\n",
       "    <tr>\n",
       "      <th>Partner</th>\n",
       "      <td>0</td>\n",
       "      <td>0</td>\n",
       "      <td>0</td>\n",
       "      <td>7816</td>\n",
       "    </tr>\n",
       "    <tr>\n",
       "      <th>Rabies Risk</th>\n",
       "      <td>0</td>\n",
       "      <td>0</td>\n",
       "      <td>74</td>\n",
       "      <td>0</td>\n",
       "    </tr>\n",
       "    <tr>\n",
       "      <th>SCRP</th>\n",
       "      <td>0</td>\n",
       "      <td>0</td>\n",
       "      <td>0</td>\n",
       "      <td>1599</td>\n",
       "    </tr>\n",
       "    <tr>\n",
       "      <th>Suffering</th>\n",
       "      <td>0</td>\n",
       "      <td>0</td>\n",
       "      <td>1002</td>\n",
       "      <td>0</td>\n",
       "    </tr>\n",
       "  </tbody>\n",
       "</table>\n",
       "</div>"
      ],
      "text/plain": [
       "OutcomeType          Adoption  Died  Euthanasia  Transfer\n",
       "OutcomeSubtype                                           \n",
       "Aggressive                  0     0         320         0\n",
       "At Vet                      0     4           0         0\n",
       "Barn                        1     0           0         1\n",
       "Behavior                    0     0          86         0\n",
       "Court/Investigation         0     0           6         0\n",
       "Enroute                     0     8           0         0\n",
       "Foster                   1800     0           0         0\n",
       "In Foster                   0    52           0         0\n",
       "In Kennel                   0   114           0         0\n",
       "In Surgery                  0     3           0         0\n",
       "Medical                     0     0          66         0\n",
       "Offsite                   165     0           0         0\n",
       "Partner                     0     0           0      7816\n",
       "Rabies Risk                 0     0          74         0\n",
       "SCRP                        0     0           0      1599\n",
       "Suffering                   0     0        1002         0"
      ]
     },
     "execution_count": 41,
     "metadata": {},
     "output_type": "execute_result"
    }
   ],
   "source": [
    "pd.crosstab(raw_data['OutcomeSubtype'], raw_data['OutcomeType'])"
   ]
  },
  {
   "cell_type": "code",
   "execution_count": 42,
   "metadata": {
    "collapsed": false
   },
   "outputs": [
    {
     "data": {
      "text/plain": [
       "Dog    15595\n",
       "Cat    11134\n",
       "Name: AnimalType, dtype: int64"
      ]
     },
     "execution_count": 42,
     "metadata": {},
     "output_type": "execute_result"
    }
   ],
   "source": [
    "raw_data['AnimalType'].value_counts()"
   ]
  },
  {
   "cell_type": "code",
   "execution_count": 43,
   "metadata": {
    "collapsed": false
   },
   "outputs": [
    {
     "data": {
      "text/plain": [
       "Neutered Male    9779\n",
       "Spayed Female    8820\n",
       "Intact Male      3525\n",
       "Intact Female    3511\n",
       "Unknown          1093\n",
       "Name: SexuponOutcome, dtype: int64"
      ]
     },
     "execution_count": 43,
     "metadata": {},
     "output_type": "execute_result"
    }
   ],
   "source": [
    "raw_data['SexuponOutcome'].value_counts()"
   ]
  },
  {
   "cell_type": "code",
   "execution_count": 44,
   "metadata": {
    "collapsed": false
   },
   "outputs": [
    {
     "data": {
      "text/plain": [
       "1 year       3969\n",
       "2 years      3742\n",
       "2 months     3397\n",
       "3 years      1823\n",
       "1 month      1281\n",
       "3 months     1277\n",
       "4 years      1071\n",
       "5 years       992\n",
       "4 months      888\n",
       "6 years       670\n",
       "3 weeks       659\n",
       "5 months      652\n",
       "6 months      588\n",
       "8 years       536\n",
       "7 years       531\n",
       "2 weeks       529\n",
       "10 months     457\n",
       "10 years      446\n",
       "8 months      402\n",
       "4 weeks       334\n",
       "9 years       288\n",
       "7 months      288\n",
       "12 years      234\n",
       "9 months      224\n",
       "1 weeks       171\n",
       "11 months     166\n",
       "1 week        146\n",
       "13 years      143\n",
       "11 years      126\n",
       "3 days        109\n",
       "2 days         99\n",
       "14 years       97\n",
       "15 years       85\n",
       "1 day          66\n",
       "6 days         50\n",
       "4 days         50\n",
       "16 years       36\n",
       "5 days         24\n",
       "0 years        22\n",
       "17 years       17\n",
       "5 weeks        11\n",
       "18 years       10\n",
       "19 years        3\n",
       "20 years        2\n",
       "Name: AgeuponOutcome, dtype: int64"
      ]
     },
     "execution_count": 44,
     "metadata": {},
     "output_type": "execute_result"
    }
   ],
   "source": [
    "raw_data['AgeuponOutcome'].value_counts()"
   ]
  },
  {
   "cell_type": "code",
   "execution_count": 45,
   "metadata": {
    "collapsed": false
   },
   "outputs": [
    {
     "name": "stdout",
     "output_type": "stream",
     "text": [
      "<type 'numpy.float64'>\n"
     ]
    }
   ],
   "source": [
    "raw_data_rev = raw_data['AgeuponOutcome'].apply(lambda x: pd.Series(str(x).split(' ')))\n",
    "\n",
    "raw_data_rev[0]=raw_data_rev[0].apply(pd.to_numeric, args=('coerce',))\n",
    "\n",
    "print type(raw_data_rev[0][0])"
   ]
  },
  {
   "cell_type": "code",
   "execution_count": 46,
   "metadata": {
    "collapsed": false
   },
   "outputs": [
    {
     "name": "stdout",
     "output_type": "stream",
     "text": [
      "807.460418804\n"
     ]
    }
   ],
   "source": [
    "raw_data_rev2 = pd.concat([raw_data, raw_data_rev], axis=1, join='inner')\n",
    "\n",
    "raw_data_rev2.rename(columns = {0:\"Time\",1:\"Units\"}, inplace = True)\n",
    "\n",
    "def daycalc(x):\n",
    "    if x['Units']=='year':\n",
    "        return 365.0\n",
    "    elif x['Units']=='years':\n",
    "        return 365.0*x['Time']\n",
    "    elif x['Units']=='month':\n",
    "        return 31.0\n",
    "    elif x['Units']=='months':\n",
    "        return 31.0*x['Time']\n",
    "    elif x['Units']=='week':\n",
    "        return 7.0\n",
    "    elif x['Units']=='weeks':\n",
    "        return 7.0*x['Time']\n",
    "    \n",
    "raw_data_rev2['days'] = raw_data_rev2.apply(lambda x:daycalc(x), axis=1 )\n",
    "\n",
    "print np.mean(raw_data_rev2['days'])"
   ]
  },
  {
   "cell_type": "code",
   "execution_count": 47,
   "metadata": {
    "collapsed": true
   },
   "outputs": [],
   "source": [
    "raw_data = raw_data_rev2"
   ]
  },
  {
   "cell_type": "code",
   "execution_count": 48,
   "metadata": {
    "collapsed": false
   },
   "outputs": [],
   "source": [
    "# Seperate out label and data\n",
    "labels = raw_data.OutcomeType\n",
    "data = raw_data.drop('OutcomeType', 1)"
   ]
  },
  {
   "cell_type": "markdown",
   "metadata": {},
   "source": [
    "### Data manipulation: Convert string to numeric categories\n"
   ]
  },
  {
   "cell_type": "code",
   "execution_count": 49,
   "metadata": {
    "collapsed": false
   },
   "outputs": [
    {
     "data": {
      "text/html": [
       "<div>\n",
       "<table border=\"1\" class=\"dataframe\">\n",
       "  <thead>\n",
       "    <tr style=\"text-align: right;\">\n",
       "      <th></th>\n",
       "      <th>AnimalID</th>\n",
       "      <th>Name</th>\n",
       "      <th>DateTime</th>\n",
       "      <th>OutcomeSubtype</th>\n",
       "      <th>AnimalType</th>\n",
       "      <th>SexuponOutcome</th>\n",
       "      <th>AgeuponOutcome</th>\n",
       "      <th>Breed</th>\n",
       "      <th>Color</th>\n",
       "      <th>Time</th>\n",
       "      <th>Units</th>\n",
       "      <th>days</th>\n",
       "      <th>Year</th>\n",
       "      <th>Month</th>\n",
       "      <th>Day_Num</th>\n",
       "    </tr>\n",
       "  </thead>\n",
       "  <tbody>\n",
       "    <tr>\n",
       "      <th>0</th>\n",
       "      <td>A671945</td>\n",
       "      <td>Hambone</td>\n",
       "      <td>2014-02-12 18:22:00</td>\n",
       "      <td>NaN</td>\n",
       "      <td>Dog</td>\n",
       "      <td>Neutered Male</td>\n",
       "      <td>1 year</td>\n",
       "      <td>Shetland Sheepdog Mix</td>\n",
       "      <td>Brown/White</td>\n",
       "      <td>1.0</td>\n",
       "      <td>year</td>\n",
       "      <td>365.0</td>\n",
       "      <td>2014</td>\n",
       "      <td>2</td>\n",
       "      <td>12</td>\n",
       "    </tr>\n",
       "    <tr>\n",
       "      <th>1</th>\n",
       "      <td>A656520</td>\n",
       "      <td>Emily</td>\n",
       "      <td>2013-10-13 12:44:00</td>\n",
       "      <td>Suffering</td>\n",
       "      <td>Cat</td>\n",
       "      <td>Spayed Female</td>\n",
       "      <td>1 year</td>\n",
       "      <td>Domestic Shorthair Mix</td>\n",
       "      <td>Cream Tabby</td>\n",
       "      <td>1.0</td>\n",
       "      <td>year</td>\n",
       "      <td>365.0</td>\n",
       "      <td>2013</td>\n",
       "      <td>10</td>\n",
       "      <td>13</td>\n",
       "    </tr>\n",
       "    <tr>\n",
       "      <th>2</th>\n",
       "      <td>A686464</td>\n",
       "      <td>Pearce</td>\n",
       "      <td>2015-01-31 12:28:00</td>\n",
       "      <td>Foster</td>\n",
       "      <td>Dog</td>\n",
       "      <td>Neutered Male</td>\n",
       "      <td>2 years</td>\n",
       "      <td>Pit Bull Mix</td>\n",
       "      <td>Blue/White</td>\n",
       "      <td>2.0</td>\n",
       "      <td>years</td>\n",
       "      <td>730.0</td>\n",
       "      <td>2015</td>\n",
       "      <td>1</td>\n",
       "      <td>31</td>\n",
       "    </tr>\n",
       "    <tr>\n",
       "      <th>3</th>\n",
       "      <td>A683430</td>\n",
       "      <td>NaN</td>\n",
       "      <td>2014-07-11 19:09:00</td>\n",
       "      <td>Partner</td>\n",
       "      <td>Cat</td>\n",
       "      <td>Intact Male</td>\n",
       "      <td>3 weeks</td>\n",
       "      <td>Domestic Shorthair Mix</td>\n",
       "      <td>Blue Cream</td>\n",
       "      <td>3.0</td>\n",
       "      <td>weeks</td>\n",
       "      <td>21.0</td>\n",
       "      <td>2014</td>\n",
       "      <td>7</td>\n",
       "      <td>11</td>\n",
       "    </tr>\n",
       "    <tr>\n",
       "      <th>4</th>\n",
       "      <td>A667013</td>\n",
       "      <td>NaN</td>\n",
       "      <td>2013-11-15 12:52:00</td>\n",
       "      <td>Partner</td>\n",
       "      <td>Dog</td>\n",
       "      <td>Neutered Male</td>\n",
       "      <td>2 years</td>\n",
       "      <td>Lhasa Apso/Miniature Poodle</td>\n",
       "      <td>Tan</td>\n",
       "      <td>2.0</td>\n",
       "      <td>years</td>\n",
       "      <td>730.0</td>\n",
       "      <td>2013</td>\n",
       "      <td>11</td>\n",
       "      <td>15</td>\n",
       "    </tr>\n",
       "  </tbody>\n",
       "</table>\n",
       "</div>"
      ],
      "text/plain": [
       "  AnimalID     Name             DateTime OutcomeSubtype AnimalType  \\\n",
       "0  A671945  Hambone  2014-02-12 18:22:00            NaN        Dog   \n",
       "1  A656520    Emily  2013-10-13 12:44:00      Suffering        Cat   \n",
       "2  A686464   Pearce  2015-01-31 12:28:00         Foster        Dog   \n",
       "3  A683430      NaN  2014-07-11 19:09:00        Partner        Cat   \n",
       "4  A667013      NaN  2013-11-15 12:52:00        Partner        Dog   \n",
       "\n",
       "  SexuponOutcome AgeuponOutcome                        Breed        Color  \\\n",
       "0  Neutered Male         1 year        Shetland Sheepdog Mix  Brown/White   \n",
       "1  Spayed Female         1 year       Domestic Shorthair Mix  Cream Tabby   \n",
       "2  Neutered Male        2 years                 Pit Bull Mix   Blue/White   \n",
       "3    Intact Male        3 weeks       Domestic Shorthair Mix   Blue Cream   \n",
       "4  Neutered Male        2 years  Lhasa Apso/Miniature Poodle          Tan   \n",
       "\n",
       "   Time  Units   days  Year  Month  Day_Num  \n",
       "0   1.0   year  365.0  2014      2       12  \n",
       "1   1.0   year  365.0  2013     10       13  \n",
       "2   2.0  years  730.0  2015      1       31  \n",
       "3   3.0  weeks   21.0  2014      7       11  \n",
       "4   2.0  years  730.0  2013     11       15  "
      ]
     },
     "execution_count": 49,
     "metadata": {},
     "output_type": "execute_result"
    }
   ],
   "source": [
    "data['Year'] = pd.to_datetime(data['DateTime']).dt.year\n",
    "data['Month'] = pd.to_datetime(data['DateTime']).dt.month\n",
    "data['Day_Num']= pd.to_datetime(data['DateTime']).dt.day\n",
    "data.head()"
   ]
  },
  {
   "cell_type": "code",
   "execution_count": 50,
   "metadata": {
    "collapsed": false
   },
   "outputs": [],
   "source": [
    "data['HasName'] = -pd.isnull(data['Name'])"
   ]
  },
  {
   "cell_type": "code",
   "execution_count": 51,
   "metadata": {
    "collapsed": false
   },
   "outputs": [
    {
     "name": "stdout",
     "output_type": "stream",
     "text": [
      "Neutered    9779\n",
      "Spayed      8820\n",
      "Intact      7036\n",
      "Unknown     1093\n",
      "Name: fixed, dtype: int64\n",
      "Male      13304\n",
      "Female    12331\n",
      "Name: gender, dtype: int64\n"
     ]
    }
   ],
   "source": [
    "data['fixed']=data['SexuponOutcome'].str.split(' ', expand=True)[0]\n",
    "data['gender']=data['SexuponOutcome'].str.split(' ', expand=True)[1]\n",
    "print data['fixed'].value_counts()\n",
    "print data['gender'].value_counts()"
   ]
  },
  {
   "cell_type": "code",
   "execution_count": 55,
   "metadata": {
    "collapsed": true
   },
   "outputs": [],
   "source": [
    "# Replace animal type to numeric: Dog = 1, Cat = 0\n",
    "data.replace(to_replace='Dog', value=1, inplace=True)\n",
    "data.replace(to_replace='Cat', value=0, inplace=True)\n",
    "\n",
    "test_data.replace(to_replace='Dog', value=1, inplace=True)\n",
    "test_data.replace(to_replace='Cat', value=0, inplace=True)\n"
   ]
  },
  {
   "cell_type": "code",
   "execution_count": 56,
   "metadata": {
    "collapsed": true
   },
   "outputs": [],
   "source": [
    "# Gender\n",
    "data.replace(to_replace='Male', value=0, inplace=True)\n",
    "data.replace(to_replace='Female', value=1, inplace=True)\n",
    "data.replace(to_replace='nan', value=99, inplace=True)\n",
    "\n",
    "\n",
    "data.replace(to_replace='Neutered', value=0, inplace=True)\n",
    "data.replace(to_replace='Spayed', value=1, inplace=True)\n",
    "data.replace(to_replace='Intact', value=2, inplace=True)\n",
    "data.replace(to_replace='Unknown', value=99, inplace=True)\n",
    "data.replace(to_replace='nan', value=99, inplace=True)\n"
   ]
  },
  {
   "cell_type": "code",
   "execution_count": 57,
   "metadata": {
    "collapsed": false
   },
   "outputs": [],
   "source": [
    "# Replace outcome label: Return to owner = 1, Adoption = 2, Euthanasia = 3, Transfer = 4, Died = 5\n",
    "labels.replace(to_replace='Return_to_owner', value=1, inplace=True)\n",
    "labels.replace(to_replace='Adoption', value=2, inplace=True)\n",
    "labels.replace(to_replace='Euthanasia', value=3, inplace=True)\n",
    "labels.replace(to_replace='Transfer', value=4, inplace=True)\n",
    "labels.replace(to_replace='Died', value=5, inplace=True)"
   ]
  },
  {
   "cell_type": "code",
   "execution_count": 58,
   "metadata": {
    "collapsed": false
   },
   "outputs": [],
   "source": [
    "# Splitting data into train set and development set\n",
    "train_data, dev_data, train_labels, dev_labels = train_test_split(data, labels, test_size=0.3, random_state=0)"
   ]
  },
  {
   "cell_type": "code",
   "execution_count": 59,
   "metadata": {
    "collapsed": false
   },
   "outputs": [
    {
     "data": {
      "text/html": [
       "<div>\n",
       "<table border=\"1\" class=\"dataframe\">\n",
       "  <thead>\n",
       "    <tr style=\"text-align: right;\">\n",
       "      <th></th>\n",
       "      <th>AnimalID</th>\n",
       "      <th>Name</th>\n",
       "      <th>DateTime</th>\n",
       "      <th>OutcomeSubtype</th>\n",
       "      <th>AnimalType</th>\n",
       "      <th>SexuponOutcome</th>\n",
       "      <th>AgeuponOutcome</th>\n",
       "      <th>Breed</th>\n",
       "      <th>Color</th>\n",
       "      <th>Time</th>\n",
       "      <th>Units</th>\n",
       "      <th>days</th>\n",
       "      <th>Year</th>\n",
       "      <th>Month</th>\n",
       "      <th>Day_Num</th>\n",
       "      <th>HasName</th>\n",
       "      <th>fixed</th>\n",
       "      <th>gender</th>\n",
       "    </tr>\n",
       "  </thead>\n",
       "  <tbody>\n",
       "    <tr>\n",
       "      <th>11109</th>\n",
       "      <td>A673979</td>\n",
       "      <td>Curly</td>\n",
       "      <td>2014-03-09 17:33:00</td>\n",
       "      <td>NaN</td>\n",
       "      <td>1</td>\n",
       "      <td>Neutered Male</td>\n",
       "      <td>7 years</td>\n",
       "      <td>Toy Poodle Mix</td>\n",
       "      <td>White</td>\n",
       "      <td>7.0</td>\n",
       "      <td>years</td>\n",
       "      <td>2555.0</td>\n",
       "      <td>2014</td>\n",
       "      <td>3</td>\n",
       "      <td>9</td>\n",
       "      <td>True</td>\n",
       "      <td>0.0</td>\n",
       "      <td>0.0</td>\n",
       "    </tr>\n",
       "    <tr>\n",
       "      <th>18649</th>\n",
       "      <td>A692191</td>\n",
       "      <td>NaN</td>\n",
       "      <td>2014-11-20 14:36:00</td>\n",
       "      <td>Suffering</td>\n",
       "      <td>1</td>\n",
       "      <td>Intact Female</td>\n",
       "      <td>8 years</td>\n",
       "      <td>Beagle Mix</td>\n",
       "      <td>Tricolor</td>\n",
       "      <td>8.0</td>\n",
       "      <td>years</td>\n",
       "      <td>2920.0</td>\n",
       "      <td>2014</td>\n",
       "      <td>11</td>\n",
       "      <td>20</td>\n",
       "      <td>False</td>\n",
       "      <td>2.0</td>\n",
       "      <td>1.0</td>\n",
       "    </tr>\n",
       "    <tr>\n",
       "      <th>15515</th>\n",
       "      <td>A705499</td>\n",
       "      <td>NaN</td>\n",
       "      <td>2015-06-18 13:44:00</td>\n",
       "      <td>Partner</td>\n",
       "      <td>0</td>\n",
       "      <td>99</td>\n",
       "      <td>1 week</td>\n",
       "      <td>Domestic Shorthair Mix</td>\n",
       "      <td>White/Blue</td>\n",
       "      <td>1.0</td>\n",
       "      <td>week</td>\n",
       "      <td>7.0</td>\n",
       "      <td>2015</td>\n",
       "      <td>6</td>\n",
       "      <td>18</td>\n",
       "      <td>False</td>\n",
       "      <td>99.0</td>\n",
       "      <td>99.0</td>\n",
       "    </tr>\n",
       "    <tr>\n",
       "      <th>12078</th>\n",
       "      <td>A682480</td>\n",
       "      <td>Pebble</td>\n",
       "      <td>2014-08-01 11:28:00</td>\n",
       "      <td>NaN</td>\n",
       "      <td>0</td>\n",
       "      <td>Neutered Male</td>\n",
       "      <td>4 months</td>\n",
       "      <td>Domestic Shorthair Mix</td>\n",
       "      <td>Black/White</td>\n",
       "      <td>4.0</td>\n",
       "      <td>months</td>\n",
       "      <td>124.0</td>\n",
       "      <td>2014</td>\n",
       "      <td>8</td>\n",
       "      <td>1</td>\n",
       "      <td>True</td>\n",
       "      <td>0.0</td>\n",
       "      <td>0.0</td>\n",
       "    </tr>\n",
       "    <tr>\n",
       "      <th>8455</th>\n",
       "      <td>A689097</td>\n",
       "      <td>NaN</td>\n",
       "      <td>2014-10-04 19:15:00</td>\n",
       "      <td>NaN</td>\n",
       "      <td>0</td>\n",
       "      <td>Spayed Female</td>\n",
       "      <td>2 months</td>\n",
       "      <td>Domestic Shorthair Mix</td>\n",
       "      <td>Tortie</td>\n",
       "      <td>2.0</td>\n",
       "      <td>months</td>\n",
       "      <td>62.0</td>\n",
       "      <td>2014</td>\n",
       "      <td>10</td>\n",
       "      <td>4</td>\n",
       "      <td>False</td>\n",
       "      <td>1.0</td>\n",
       "      <td>1.0</td>\n",
       "    </tr>\n",
       "  </tbody>\n",
       "</table>\n",
       "</div>"
      ],
      "text/plain": [
       "      AnimalID    Name             DateTime OutcomeSubtype  AnimalType  \\\n",
       "11109  A673979   Curly  2014-03-09 17:33:00            NaN           1   \n",
       "18649  A692191     NaN  2014-11-20 14:36:00      Suffering           1   \n",
       "15515  A705499     NaN  2015-06-18 13:44:00        Partner           0   \n",
       "12078  A682480  Pebble  2014-08-01 11:28:00            NaN           0   \n",
       "8455   A689097     NaN  2014-10-04 19:15:00            NaN           0   \n",
       "\n",
       "      SexuponOutcome AgeuponOutcome                   Breed        Color  \\\n",
       "11109  Neutered Male        7 years          Toy Poodle Mix        White   \n",
       "18649  Intact Female        8 years              Beagle Mix     Tricolor   \n",
       "15515             99         1 week  Domestic Shorthair Mix   White/Blue   \n",
       "12078  Neutered Male       4 months  Domestic Shorthair Mix  Black/White   \n",
       "8455   Spayed Female       2 months  Domestic Shorthair Mix       Tortie   \n",
       "\n",
       "       Time   Units    days  Year  Month  Day_Num HasName  fixed  gender  \n",
       "11109   7.0   years  2555.0  2014      3        9    True    0.0     0.0  \n",
       "18649   8.0   years  2920.0  2014     11       20   False    2.0     1.0  \n",
       "15515   1.0    week     7.0  2015      6       18   False   99.0    99.0  \n",
       "12078   4.0  months   124.0  2014      8        1    True    0.0     0.0  \n",
       "8455    2.0  months    62.0  2014     10        4   False    1.0     1.0  "
      ]
     },
     "execution_count": 59,
     "metadata": {},
     "output_type": "execute_result"
    }
   ],
   "source": [
    "train_data.head()"
   ]
  },
  {
   "cell_type": "markdown",
   "metadata": {},
   "source": [
    "### Predictions"
   ]
  },
  {
   "cell_type": "code",
   "execution_count": 62,
   "metadata": {
    "collapsed": false
   },
   "outputs": [
    {
     "name": "stdout",
     "output_type": "stream",
     "text": [
      "Prediction accuracy: 0.650953984287\n"
     ]
    }
   ],
   "source": [
    "from sklearn.ensemble import GradientBoostingClassifier\n",
    "from sklearn.model_selection import GridSearchCV\n",
    "parameter = {'n_estimators':[100,400,800,1000]}\n",
    "predictors = ['AnimalType','days','HasName','Year','Month','Day_Num','fixed','gender']\n",
    "dt = GradientBoostingClassifier()\n",
    "gs = GridSearchCV(dt,parameter)\n",
    "\n",
    "gs.fit(train_data[predictors], train_labels)\n",
    "prediction = gs.predict(dev_data[predictors])\n",
    "\n",
    "# Prediction accuracy\n",
    "print 'Prediction accuracy:', np.mean(prediction == dev_labels)\n"
   ]
  },
  {
   "cell_type": "code",
   "execution_count": null,
   "metadata": {
    "collapsed": true
   },
   "outputs": [],
   "source": []
  }
 ],
 "metadata": {
  "anaconda-cloud": {},
  "kernelspec": {
   "display_name": "Python 2",
   "language": "python",
   "name": "python2"
  },
  "language_info": {
   "codemirror_mode": {
    "name": "ipython",
    "version": 2
   },
   "file_extension": ".py",
   "mimetype": "text/x-python",
   "name": "python",
   "nbconvert_exporter": "python",
   "pygments_lexer": "ipython2",
   "version": "2.7.13"
  }
 },
 "nbformat": 4,
 "nbformat_minor": 1
}
