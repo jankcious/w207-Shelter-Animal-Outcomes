{
 "cells": [
  {
   "cell_type": "markdown",
   "metadata": {},
   "source": [
    "### Initial Setup"
   ]
  },
  {
   "cell_type": "code",
   "execution_count": 1,
   "metadata": {
    "collapsed": false
   },
   "outputs": [],
   "source": [
    "# Load libraries\n",
    "import numpy as np\n",
    "import pandas as pd\n",
    "from sklearn.model_selection import *\n",
    "from sklearn.linear_model import LogisticRegression\n",
    "from sklearn.ensemble import GradientBoostingClassifier\n",
    "from sklearn.model_selection import GridSearchCV\n",
    "from sklearn.feature_extraction import DictVectorizer"
   ]
  },
  {
   "cell_type": "code",
   "execution_count": 2,
   "metadata": {
    "collapsed": true
   },
   "outputs": [],
   "source": [
    "# Read in data\n",
    "raw_data = pd.read_csv('train.csv')\n",
    "test_data = pd.read_csv('test.csv')"
   ]
  },
  {
   "cell_type": "code",
   "execution_count": 3,
   "metadata": {
    "collapsed": false
   },
   "outputs": [
    {
     "name": "stdout",
     "output_type": "stream",
     "text": [
      "(26729, 10)\n",
      "  AnimalID     Name             DateTime      OutcomeType OutcomeSubtype  \\\n",
      "0  A671945  Hambone  2014-02-12 18:22:00  Return_to_owner            NaN   \n",
      "1  A656520    Emily  2013-10-13 12:44:00       Euthanasia      Suffering   \n",
      "2  A686464   Pearce  2015-01-31 12:28:00         Adoption         Foster   \n",
      "3  A683430      NaN  2014-07-11 19:09:00         Transfer        Partner   \n",
      "4  A667013      NaN  2013-11-15 12:52:00         Transfer        Partner   \n",
      "\n",
      "  AnimalType SexuponOutcome AgeuponOutcome                        Breed  \\\n",
      "0        Dog  Neutered Male         1 year        Shetland Sheepdog Mix   \n",
      "1        Cat  Spayed Female         1 year       Domestic Shorthair Mix   \n",
      "2        Dog  Neutered Male        2 years                 Pit Bull Mix   \n",
      "3        Cat    Intact Male        3 weeks       Domestic Shorthair Mix   \n",
      "4        Dog  Neutered Male        2 years  Lhasa Apso/Miniature Poodle   \n",
      "\n",
      "         Color  \n",
      "0  Brown/White  \n",
      "1  Cream Tabby  \n",
      "2   Blue/White  \n",
      "3   Blue Cream  \n",
      "4          Tan  \n"
     ]
    }
   ],
   "source": [
    "# Examine the data a little bit\n",
    "print raw_data.shape\n",
    "print raw_data.head()"
   ]
  },
  {
   "cell_type": "markdown",
   "metadata": {},
   "source": [
    "### Exploratory Data Analysis"
   ]
  },
  {
   "cell_type": "code",
   "execution_count": null,
   "metadata": {
    "collapsed": false
   },
   "outputs": [],
   "source": [
    "raw_data['OutcomeType'].value_counts()"
   ]
  },
  {
   "cell_type": "code",
   "execution_count": null,
   "metadata": {
    "collapsed": false
   },
   "outputs": [],
   "source": [
    "raw_data['OutcomeSubtype'].value_counts()"
   ]
  },
  {
   "cell_type": "code",
   "execution_count": null,
   "metadata": {
    "collapsed": false
   },
   "outputs": [],
   "source": [
    "pd.crosstab(raw_data['OutcomeSubtype'], raw_data['OutcomeType'])"
   ]
  },
  {
   "cell_type": "code",
   "execution_count": null,
   "metadata": {
    "collapsed": false
   },
   "outputs": [],
   "source": [
    "raw_data['AnimalType'].value_counts()"
   ]
  },
  {
   "cell_type": "code",
   "execution_count": null,
   "metadata": {
    "collapsed": false
   },
   "outputs": [],
   "source": [
    "raw_data['SexuponOutcome'].value_counts()"
   ]
  },
  {
   "cell_type": "code",
   "execution_count": null,
   "metadata": {
    "collapsed": false
   },
   "outputs": [],
   "source": [
    "raw_data['AgeuponOutcome'].value_counts()"
   ]
  },
  {
   "cell_type": "code",
   "execution_count": 3,
   "metadata": {
    "collapsed": false
   },
   "outputs": [
    {
     "name": "stderr",
     "output_type": "stream",
     "text": [
      "C:\\Users\\owitek\\AppData\\Local\\Continuum\\Anaconda2\\lib\\site-packages\\ipykernel\\__main__.py:10: SettingWithCopyWarning: \n",
      "A value is trying to be set on a copy of a slice from a DataFrame\n",
      "\n",
      "See the caveats in the documentation: http://pandas.pydata.org/pandas-docs/stable/indexing.html#indexing-view-versus-copy\n",
      "C:\\Users\\owitek\\AppData\\Local\\Continuum\\Anaconda2\\lib\\site-packages\\ipykernel\\__main__.py:11: SettingWithCopyWarning: \n",
      "A value is trying to be set on a copy of a slice from a DataFrame\n",
      "\n",
      "See the caveats in the documentation: http://pandas.pydata.org/pandas-docs/stable/indexing.html#indexing-view-versus-copy\n",
      "C:\\Users\\owitek\\AppData\\Local\\Continuum\\Anaconda2\\lib\\site-packages\\ipykernel\\__main__.py:12: SettingWithCopyWarning: \n",
      "A value is trying to be set on a copy of a slice from a DataFrame\n",
      "\n",
      "See the caveats in the documentation: http://pandas.pydata.org/pandas-docs/stable/indexing.html#indexing-view-versus-copy\n",
      "C:\\Users\\owitek\\AppData\\Local\\Continuum\\Anaconda2\\lib\\site-packages\\ipykernel\\__main__.py:13: SettingWithCopyWarning: \n",
      "A value is trying to be set on a copy of a slice from a DataFrame\n",
      "\n",
      "See the caveats in the documentation: http://pandas.pydata.org/pandas-docs/stable/indexing.html#indexing-view-versus-copy\n",
      "C:\\Users\\owitek\\AppData\\Local\\Continuum\\Anaconda2\\lib\\site-packages\\ipykernel\\__main__.py:14: SettingWithCopyWarning: \n",
      "A value is trying to be set on a copy of a slice from a DataFrame\n",
      "\n",
      "See the caveats in the documentation: http://pandas.pydata.org/pandas-docs/stable/indexing.html#indexing-view-versus-copy\n",
      "C:\\Users\\owitek\\AppData\\Local\\Continuum\\Anaconda2\\lib\\site-packages\\ipykernel\\__main__.py:15: SettingWithCopyWarning: \n",
      "A value is trying to be set on a copy of a slice from a DataFrame\n",
      "\n",
      "See the caveats in the documentation: http://pandas.pydata.org/pandas-docs/stable/indexing.html#indexing-view-versus-copy\n",
      "C:\\Users\\owitek\\AppData\\Local\\Continuum\\Anaconda2\\lib\\site-packages\\ipykernel\\__main__.py:16: SettingWithCopyWarning: \n",
      "A value is trying to be set on a copy of a slice from a DataFrame\n",
      "\n",
      "See the caveats in the documentation: http://pandas.pydata.org/pandas-docs/stable/indexing.html#indexing-view-versus-copy\n",
      "C:\\Users\\owitek\\AppData\\Local\\Continuum\\Anaconda2\\lib\\site-packages\\ipykernel\\__main__.py:17: SettingWithCopyWarning: \n",
      "A value is trying to be set on a copy of a slice from a DataFrame\n",
      "\n",
      "See the caveats in the documentation: http://pandas.pydata.org/pandas-docs/stable/indexing.html#indexing-view-versus-copy\n",
      "C:\\Users\\owitek\\AppData\\Local\\Continuum\\Anaconda2\\lib\\site-packages\\ipykernel\\__main__.py:20: SettingWithCopyWarning: \n",
      "A value is trying to be set on a copy of a slice from a DataFrame\n",
      "\n",
      "See the caveats in the documentation: http://pandas.pydata.org/pandas-docs/stable/indexing.html#indexing-view-versus-copy\n",
      "C:\\Users\\owitek\\AppData\\Local\\Continuum\\Anaconda2\\lib\\site-packages\\ipykernel\\__main__.py:21: SettingWithCopyWarning: \n",
      "A value is trying to be set on a copy of a slice from a DataFrame\n",
      "\n",
      "See the caveats in the documentation: http://pandas.pydata.org/pandas-docs/stable/indexing.html#indexing-view-versus-copy\n",
      "C:\\Users\\owitek\\AppData\\Local\\Continuum\\Anaconda2\\lib\\site-packages\\ipykernel\\__main__.py:22: SettingWithCopyWarning: \n",
      "A value is trying to be set on a copy of a slice from a DataFrame\n",
      "\n",
      "See the caveats in the documentation: http://pandas.pydata.org/pandas-docs/stable/indexing.html#indexing-view-versus-copy\n",
      "C:\\Users\\owitek\\AppData\\Local\\Continuum\\Anaconda2\\lib\\site-packages\\ipykernel\\__main__.py:23: SettingWithCopyWarning: \n",
      "A value is trying to be set on a copy of a slice from a DataFrame\n",
      "\n",
      "See the caveats in the documentation: http://pandas.pydata.org/pandas-docs/stable/indexing.html#indexing-view-versus-copy\n",
      "C:\\Users\\owitek\\AppData\\Local\\Continuum\\Anaconda2\\lib\\site-packages\\ipykernel\\__main__.py:24: SettingWithCopyWarning: \n",
      "A value is trying to be set on a copy of a slice from a DataFrame\n",
      "\n",
      "See the caveats in the documentation: http://pandas.pydata.org/pandas-docs/stable/indexing.html#indexing-view-versus-copy\n",
      "C:\\Users\\owitek\\AppData\\Local\\Continuum\\Anaconda2\\lib\\site-packages\\ipykernel\\__main__.py:25: SettingWithCopyWarning: \n",
      "A value is trying to be set on a copy of a slice from a DataFrame\n",
      "\n",
      "See the caveats in the documentation: http://pandas.pydata.org/pandas-docs/stable/indexing.html#indexing-view-versus-copy\n",
      "C:\\Users\\owitek\\AppData\\Local\\Continuum\\Anaconda2\\lib\\site-packages\\ipykernel\\__main__.py:26: SettingWithCopyWarning: \n",
      "A value is trying to be set on a copy of a slice from a DataFrame\n",
      "\n",
      "See the caveats in the documentation: http://pandas.pydata.org/pandas-docs/stable/indexing.html#indexing-view-versus-copy\n",
      "C:\\Users\\owitek\\AppData\\Local\\Continuum\\Anaconda2\\lib\\site-packages\\ipykernel\\__main__.py:27: SettingWithCopyWarning: \n",
      "A value is trying to be set on a copy of a slice from a DataFrame\n",
      "\n",
      "See the caveats in the documentation: http://pandas.pydata.org/pandas-docs/stable/indexing.html#indexing-view-versus-copy\n"
     ]
    }
   ],
   "source": [
    "#Separate age into a number and a string\n",
    "raw_data['Age_num'] = raw_data['AgeuponOutcome'].str[:2].str.strip().astype(int, raise_on_error=False)\n",
    "raw_data['Age_str'] = raw_data['AgeuponOutcome'].str[2:].str.strip()\n",
    "\n",
    "test_data['Age_num'] = test_data['AgeuponOutcome'].str[:2].str.strip().astype(int, raise_on_error=False)\n",
    "test_data['Age_str'] = test_data['AgeuponOutcome'].str[2:].str.strip()\n",
    "\n",
    "#Create an age factor column based on each possible unit of measure\n",
    "raw_data['Age_factor'] = 0\n",
    "raw_data['Age_factor'][raw_data['Age_str'] == 'years'] = 365\n",
    "raw_data['Age_factor'][raw_data['Age_str'] == 'months'] = 30\n",
    "raw_data['Age_factor'][raw_data['Age_str'] == 'year'] = 365\n",
    "raw_data['Age_factor'][raw_data['Age_str'] == 'weeks'] = 7\n",
    "raw_data['Age_factor'][raw_data['Age_str'] == 'month'] = 30\n",
    "raw_data['Age_factor'][raw_data['Age_str'] == 'days'] = 1\n",
    "raw_data['Age_factor'][raw_data['Age_str'] == 'week'] = 7\n",
    "raw_data['Age_factor'][raw_data['Age_str'] == 'day'] = 1\n",
    "\n",
    "test_data['Age_factor'] = 0\n",
    "test_data['Age_factor'][test_data['Age_str'] == 'years'] = 365\n",
    "test_data['Age_factor'][test_data['Age_str'] == 'months'] = 30\n",
    "test_data['Age_factor'][test_data['Age_str'] == 'year'] = 365\n",
    "test_data['Age_factor'][test_data['Age_str'] == 'weeks'] = 7\n",
    "test_data['Age_factor'][test_data['Age_str'] == 'month'] = 30\n",
    "test_data['Age_factor'][test_data['Age_str'] == 'days'] = 1\n",
    "test_data['Age_factor'][test_data['Age_str'] == 'week'] = 7\n",
    "test_data['Age_factor'][test_data['Age_str'] == 'day'] = 1\n",
    "\n",
    "#Multiply the number in the age by the factor for comparable numerical column.  Drop and derivitive columns\n",
    "raw_data['Age_num'] = raw_data['Age_num'].astype(float)\n",
    "raw_data['Age_days'] = raw_data['Age_num'].mul(raw_data['Age_factor'], axis='index').fillna(0)\n",
    "raw_data.drop('AgeuponOutcome', 1, inplace = True)\n",
    "raw_data.drop('Age_num', 1, inplace = True)\n",
    "raw_data.drop('Age_str', 1, inplace = True)\n",
    "raw_data.drop('Age_factor', 1, inplace = True)\n",
    "\n",
    "test_data['Age_num'] = test_data['Age_num'].astype(float)\n",
    "test_data['Age_days'] = test_data['Age_num'].mul(test_data['Age_factor'], axis='index').fillna(0)\n",
    "test_data.drop('AgeuponOutcome', 1, inplace = True)\n",
    "test_data.drop('Age_num', 1, inplace = True)\n",
    "test_data.drop('Age_str', 1, inplace = True)\n",
    "test_data.drop('Age_factor', 1, inplace = True)"
   ]
  },
  {
   "cell_type": "code",
   "execution_count": 4,
   "metadata": {
    "collapsed": false
   },
   "outputs": [],
   "source": [
    "# Seperate out label and data\n",
    "labels = raw_data.OutcomeType\n",
    "data = raw_data.drop('OutcomeType', 1)"
   ]
  },
  {
   "cell_type": "markdown",
   "metadata": {},
   "source": [
    "### Data manipulation: Convert string to numeric categories\n"
   ]
  },
  {
   "cell_type": "code",
   "execution_count": 5,
   "metadata": {
    "collapsed": false
   },
   "outputs": [
    {
     "data": {
      "text/html": [
       "<div>\n",
       "<table border=\"1\" class=\"dataframe\">\n",
       "  <thead>\n",
       "    <tr style=\"text-align: right;\">\n",
       "      <th></th>\n",
       "      <th>AnimalID</th>\n",
       "      <th>Name</th>\n",
       "      <th>DateTime</th>\n",
       "      <th>OutcomeSubtype</th>\n",
       "      <th>AnimalType</th>\n",
       "      <th>SexuponOutcome</th>\n",
       "      <th>Breed</th>\n",
       "      <th>Color</th>\n",
       "      <th>Age_days</th>\n",
       "      <th>Year</th>\n",
       "      <th>Month</th>\n",
       "      <th>Day_Num</th>\n",
       "    </tr>\n",
       "  </thead>\n",
       "  <tbody>\n",
       "    <tr>\n",
       "      <th>0</th>\n",
       "      <td>A671945</td>\n",
       "      <td>Hambone</td>\n",
       "      <td>2014-02-12 18:22:00</td>\n",
       "      <td>NaN</td>\n",
       "      <td>Dog</td>\n",
       "      <td>Neutered Male</td>\n",
       "      <td>Shetland Sheepdog Mix</td>\n",
       "      <td>Brown/White</td>\n",
       "      <td>365.0</td>\n",
       "      <td>2014</td>\n",
       "      <td>2</td>\n",
       "      <td>12</td>\n",
       "    </tr>\n",
       "    <tr>\n",
       "      <th>1</th>\n",
       "      <td>A656520</td>\n",
       "      <td>Emily</td>\n",
       "      <td>2013-10-13 12:44:00</td>\n",
       "      <td>Suffering</td>\n",
       "      <td>Cat</td>\n",
       "      <td>Spayed Female</td>\n",
       "      <td>Domestic Shorthair Mix</td>\n",
       "      <td>Cream Tabby</td>\n",
       "      <td>365.0</td>\n",
       "      <td>2013</td>\n",
       "      <td>10</td>\n",
       "      <td>13</td>\n",
       "    </tr>\n",
       "    <tr>\n",
       "      <th>2</th>\n",
       "      <td>A686464</td>\n",
       "      <td>Pearce</td>\n",
       "      <td>2015-01-31 12:28:00</td>\n",
       "      <td>Foster</td>\n",
       "      <td>Dog</td>\n",
       "      <td>Neutered Male</td>\n",
       "      <td>Pit Bull Mix</td>\n",
       "      <td>Blue/White</td>\n",
       "      <td>730.0</td>\n",
       "      <td>2015</td>\n",
       "      <td>1</td>\n",
       "      <td>31</td>\n",
       "    </tr>\n",
       "    <tr>\n",
       "      <th>3</th>\n",
       "      <td>A683430</td>\n",
       "      <td>NaN</td>\n",
       "      <td>2014-07-11 19:09:00</td>\n",
       "      <td>Partner</td>\n",
       "      <td>Cat</td>\n",
       "      <td>Intact Male</td>\n",
       "      <td>Domestic Shorthair Mix</td>\n",
       "      <td>Blue Cream</td>\n",
       "      <td>21.0</td>\n",
       "      <td>2014</td>\n",
       "      <td>7</td>\n",
       "      <td>11</td>\n",
       "    </tr>\n",
       "    <tr>\n",
       "      <th>4</th>\n",
       "      <td>A667013</td>\n",
       "      <td>NaN</td>\n",
       "      <td>2013-11-15 12:52:00</td>\n",
       "      <td>Partner</td>\n",
       "      <td>Dog</td>\n",
       "      <td>Neutered Male</td>\n",
       "      <td>Lhasa Apso/Miniature Poodle</td>\n",
       "      <td>Tan</td>\n",
       "      <td>730.0</td>\n",
       "      <td>2013</td>\n",
       "      <td>11</td>\n",
       "      <td>15</td>\n",
       "    </tr>\n",
       "  </tbody>\n",
       "</table>\n",
       "</div>"
      ],
      "text/plain": [
       "  AnimalID     Name             DateTime OutcomeSubtype AnimalType  \\\n",
       "0  A671945  Hambone  2014-02-12 18:22:00            NaN        Dog   \n",
       "1  A656520    Emily  2013-10-13 12:44:00      Suffering        Cat   \n",
       "2  A686464   Pearce  2015-01-31 12:28:00         Foster        Dog   \n",
       "3  A683430      NaN  2014-07-11 19:09:00        Partner        Cat   \n",
       "4  A667013      NaN  2013-11-15 12:52:00        Partner        Dog   \n",
       "\n",
       "  SexuponOutcome                        Breed        Color  Age_days  Year  \\\n",
       "0  Neutered Male        Shetland Sheepdog Mix  Brown/White     365.0  2014   \n",
       "1  Spayed Female       Domestic Shorthair Mix  Cream Tabby     365.0  2013   \n",
       "2  Neutered Male                 Pit Bull Mix   Blue/White     730.0  2015   \n",
       "3    Intact Male       Domestic Shorthair Mix   Blue Cream      21.0  2014   \n",
       "4  Neutered Male  Lhasa Apso/Miniature Poodle          Tan     730.0  2013   \n",
       "\n",
       "  Month Day_Num  \n",
       "0     2      12  \n",
       "1    10      13  \n",
       "2     1      31  \n",
       "3     7      11  \n",
       "4    11      15  "
      ]
     },
     "execution_count": 5,
     "metadata": {},
     "output_type": "execute_result"
    }
   ],
   "source": [
    "data['Year'] = pd.to_datetime(data['DateTime']).dt.year.astype(str)\n",
    "data['Month'] = pd.to_datetime(data['DateTime']).dt.month.astype(str)\n",
    "data['Day_Num']= pd.to_datetime(data['DateTime']).dt.day.astype(str)\n",
    "data.head()"
   ]
  },
  {
   "cell_type": "code",
   "execution_count": 6,
   "metadata": {
    "collapsed": false
   },
   "outputs": [
    {
     "name": "stdout",
     "output_type": "stream",
     "text": [
      "Neutered    9779\n",
      "Spayed      8820\n",
      "Intact      7036\n",
      "Unknown     1093\n",
      "Name: fixed, dtype: int64\n",
      "Male      13304\n",
      "Female    12331\n",
      "Name: gender, dtype: int64\n"
     ]
    }
   ],
   "source": [
    "data['fixed']=data['SexuponOutcome'].str.split(' ', expand=True)[0]\n",
    "data['gender']=data['SexuponOutcome'].str.split(' ', expand=True)[1]\n",
    "print data['fixed'].value_counts()\n",
    "print data['gender'].value_counts()"
   ]
  },
  {
   "cell_type": "code",
   "execution_count": 7,
   "metadata": {
    "collapsed": false
   },
   "outputs": [],
   "source": [
    "# Replace outcome label: Return to owner = 1, Adoption = 2, Euthanasia = 3, Transfer = 4, Died = 5\n",
    "labels.replace(to_replace='Adoption', value=1, inplace=True)\n",
    "labels.replace(to_replace='Died', value=2, inplace=True)\n",
    "labels.replace(to_replace='Euthanasia', value=3, inplace=True)\n",
    "labels.replace(to_replace='Return_to_owner', value=4, inplace=True)\n",
    "labels.replace(to_replace='Transfer', value=5, inplace=True)"
   ]
  },
  {
   "cell_type": "code",
   "execution_count": 8,
   "metadata": {
    "collapsed": true
   },
   "outputs": [],
   "source": [
    "data['HasName']=-data['Name'].isnull()"
   ]
  },
  {
   "cell_type": "code",
   "execution_count": 9,
   "metadata": {
    "collapsed": true
   },
   "outputs": [],
   "source": [
    "temp = pd.to_datetime(data['DateTime']).dt.hour\n",
    "bins = [3, 7, 10, 14, 17, 20, 24]\n",
    "names = ['midnight','morning', 'lunch', 'afternoon','night', 'late night']\n",
    "data['OutcomeHour'] = pd.cut(temp, bins, labels=names)"
   ]
  },
  {
   "cell_type": "code",
   "execution_count": 10,
   "metadata": {
    "collapsed": true
   },
   "outputs": [],
   "source": [
    "temp = pd.to_datetime(data['DateTime']).dt.weekday\n",
    "data['weekend'] = temp.isin([5,6])"
   ]
  },
  {
   "cell_type": "code",
   "execution_count": 11,
   "metadata": {
    "collapsed": true
   },
   "outputs": [],
   "source": [
    "#Does the breed contain a mix?\n",
    "data['Mix_Breed'] = data['Breed'].map(lambda x: x.find('Mix') != -1)\n",
    "#Split breed into first and second\n",
    "data['First_Breed'] = data['Breed'].map(lambda x: x.split('/')[0].replace('Mix', '').strip())\n",
    "data['Second_Breed'] = data['Breed'].map(lambda x: x.split('/')[1].replace('Mix', '').strip() if len(x.split('/')) > 1 else np.nan)"
   ]
  },
  {
   "cell_type": "code",
   "execution_count": 12,
   "metadata": {
    "collapsed": true
   },
   "outputs": [],
   "source": [
    "#Split breed into first and second\n",
    "data['Mix_Color'] = data['Color'].map(lambda x: x.find('Mix') != -1)\n",
    "\n",
    "data['First_Color'] = data['Color'].map(lambda x: x.split('/')[0].replace('Mix', '').strip())\n",
    "data['Second_Color'] = data['Color'].map(lambda x: x.split('/')[1].replace('Mix', '').strip() if len(x.split('/')) > 1 else np.nan)"
   ]
  },
  {
   "cell_type": "code",
   "execution_count": 13,
   "metadata": {
    "collapsed": false
   },
   "outputs": [],
   "source": [
    "first_breeds = len(data['First_Breed'].value_counts())\n",
    "second_breeds = len(data['Second_Breed'].value_counts())\n",
    "\n",
    "rare_first_breeds=np.array((data['First_Breed'].value_counts()).index[int(first_breeds*.7):])\n",
    "rare_second_breeds=np.array((data['Second_Breed'].value_counts()).index[int(second_breeds*.1):])\n",
    "\n",
    "for first_breed in rare_first_breeds:\n",
    "    data['First_Breed'].replace(to_replace=first_breed, value='Rare', inplace=True)\n",
    "\n",
    "for sec_breed in rare_second_breeds:\n",
    "    data['Second_Breed'].replace(to_replace=sec_breed, value='Rare', inplace=True)"
   ]
  },
  {
   "cell_type": "code",
   "execution_count": 14,
   "metadata": {
    "collapsed": false
   },
   "outputs": [],
   "source": [
    "first_colors = len(data['First_Color'].value_counts())\n",
    "second_colors = len(data['Second_Color'].value_counts())\n",
    "\n",
    "rare_first_colors=np.array((data['First_Color'].value_counts()).index[int(first_colors*.45):])\n",
    "rare_second_colors=np.array((data['Second_Color'].value_counts()).index[int(second_colors*.2):])\n",
    "\n",
    "for first_color in rare_first_colors:\n",
    "    data['First_Color'].replace(to_replace=first_color, value='Rare', inplace=True)\n",
    "\n",
    "for sec_color in rare_second_colors:\n",
    "    data['Second_Color'].replace(to_replace=sec_color, value='Rare', inplace=True)"
   ]
  },
  {
   "cell_type": "code",
   "execution_count": null,
   "metadata": {
    "collapsed": false
   },
   "outputs": [],
   "source": [
    "int(first_colors*.45)"
   ]
  },
  {
   "cell_type": "code",
   "execution_count": 15,
   "metadata": {
    "collapsed": false
   },
   "outputs": [],
   "source": [
    "# Splitting data into train set and development set\n",
    "train_data, dev_data, train_labels, dev_labels = train_test_split(data, labels, test_size=0.3, random_state=0)"
   ]
  },
  {
   "cell_type": "code",
   "execution_count": 17,
   "metadata": {
    "collapsed": false
   },
   "outputs": [
    {
     "data": {
      "text/html": [
       "<div>\n",
       "<table border=\"1\" class=\"dataframe\">\n",
       "  <thead>\n",
       "    <tr style=\"text-align: right;\">\n",
       "      <th></th>\n",
       "      <th>AnimalID</th>\n",
       "      <th>Name</th>\n",
       "      <th>DateTime</th>\n",
       "      <th>OutcomeSubtype</th>\n",
       "      <th>AnimalType</th>\n",
       "      <th>SexuponOutcome</th>\n",
       "      <th>Breed</th>\n",
       "      <th>Color</th>\n",
       "      <th>Age_days</th>\n",
       "      <th>Year</th>\n",
       "      <th>...</th>\n",
       "      <th>gender</th>\n",
       "      <th>HasName</th>\n",
       "      <th>OutcomeHour</th>\n",
       "      <th>weekend</th>\n",
       "      <th>Mix_Breed</th>\n",
       "      <th>First_Breed</th>\n",
       "      <th>Second_Breed</th>\n",
       "      <th>Mix_Color</th>\n",
       "      <th>First_Color</th>\n",
       "      <th>Second_Color</th>\n",
       "    </tr>\n",
       "  </thead>\n",
       "  <tbody>\n",
       "    <tr>\n",
       "      <th>11109</th>\n",
       "      <td>A673979</td>\n",
       "      <td>Curly</td>\n",
       "      <td>2014-03-09 17:33:00</td>\n",
       "      <td>NaN</td>\n",
       "      <td>Dog</td>\n",
       "      <td>Neutered Male</td>\n",
       "      <td>Toy Poodle Mix</td>\n",
       "      <td>White</td>\n",
       "      <td>2555.0</td>\n",
       "      <td>2014</td>\n",
       "      <td>...</td>\n",
       "      <td>Male</td>\n",
       "      <td>True</td>\n",
       "      <td>afternoon</td>\n",
       "      <td>True</td>\n",
       "      <td>True</td>\n",
       "      <td>Toy Poodle</td>\n",
       "      <td>NaN</td>\n",
       "      <td>False</td>\n",
       "      <td>White</td>\n",
       "      <td>NaN</td>\n",
       "    </tr>\n",
       "    <tr>\n",
       "      <th>18649</th>\n",
       "      <td>A692191</td>\n",
       "      <td>NaN</td>\n",
       "      <td>2014-11-20 14:36:00</td>\n",
       "      <td>Suffering</td>\n",
       "      <td>Dog</td>\n",
       "      <td>Intact Female</td>\n",
       "      <td>Beagle Mix</td>\n",
       "      <td>Tricolor</td>\n",
       "      <td>2920.0</td>\n",
       "      <td>2014</td>\n",
       "      <td>...</td>\n",
       "      <td>Female</td>\n",
       "      <td>False</td>\n",
       "      <td>lunch</td>\n",
       "      <td>False</td>\n",
       "      <td>True</td>\n",
       "      <td>Beagle</td>\n",
       "      <td>NaN</td>\n",
       "      <td>False</td>\n",
       "      <td>Tricolor</td>\n",
       "      <td>NaN</td>\n",
       "    </tr>\n",
       "    <tr>\n",
       "      <th>15515</th>\n",
       "      <td>A705499</td>\n",
       "      <td>NaN</td>\n",
       "      <td>2015-06-18 13:44:00</td>\n",
       "      <td>Partner</td>\n",
       "      <td>Cat</td>\n",
       "      <td>Unknown</td>\n",
       "      <td>Domestic Shorthair Mix</td>\n",
       "      <td>White/Blue</td>\n",
       "      <td>7.0</td>\n",
       "      <td>2015</td>\n",
       "      <td>...</td>\n",
       "      <td>None</td>\n",
       "      <td>False</td>\n",
       "      <td>lunch</td>\n",
       "      <td>False</td>\n",
       "      <td>True</td>\n",
       "      <td>Domestic Shorthair</td>\n",
       "      <td>NaN</td>\n",
       "      <td>False</td>\n",
       "      <td>White</td>\n",
       "      <td>Blue</td>\n",
       "    </tr>\n",
       "    <tr>\n",
       "      <th>12078</th>\n",
       "      <td>A682480</td>\n",
       "      <td>Pebble</td>\n",
       "      <td>2014-08-01 11:28:00</td>\n",
       "      <td>NaN</td>\n",
       "      <td>Cat</td>\n",
       "      <td>Neutered Male</td>\n",
       "      <td>Domestic Shorthair Mix</td>\n",
       "      <td>Black/White</td>\n",
       "      <td>120.0</td>\n",
       "      <td>2014</td>\n",
       "      <td>...</td>\n",
       "      <td>Male</td>\n",
       "      <td>True</td>\n",
       "      <td>lunch</td>\n",
       "      <td>False</td>\n",
       "      <td>True</td>\n",
       "      <td>Domestic Shorthair</td>\n",
       "      <td>NaN</td>\n",
       "      <td>False</td>\n",
       "      <td>Black</td>\n",
       "      <td>White</td>\n",
       "    </tr>\n",
       "    <tr>\n",
       "      <th>8455</th>\n",
       "      <td>A689097</td>\n",
       "      <td>NaN</td>\n",
       "      <td>2014-10-04 19:15:00</td>\n",
       "      <td>NaN</td>\n",
       "      <td>Cat</td>\n",
       "      <td>Spayed Female</td>\n",
       "      <td>Domestic Shorthair Mix</td>\n",
       "      <td>Tortie</td>\n",
       "      <td>60.0</td>\n",
       "      <td>2014</td>\n",
       "      <td>...</td>\n",
       "      <td>Female</td>\n",
       "      <td>False</td>\n",
       "      <td>night</td>\n",
       "      <td>True</td>\n",
       "      <td>True</td>\n",
       "      <td>Domestic Shorthair</td>\n",
       "      <td>NaN</td>\n",
       "      <td>False</td>\n",
       "      <td>Tortie</td>\n",
       "      <td>NaN</td>\n",
       "    </tr>\n",
       "  </tbody>\n",
       "</table>\n",
       "<p>5 rows × 23 columns</p>\n",
       "</div>"
      ],
      "text/plain": [
       "      AnimalID    Name             DateTime OutcomeSubtype AnimalType  \\\n",
       "11109  A673979   Curly  2014-03-09 17:33:00            NaN        Dog   \n",
       "18649  A692191     NaN  2014-11-20 14:36:00      Suffering        Dog   \n",
       "15515  A705499     NaN  2015-06-18 13:44:00        Partner        Cat   \n",
       "12078  A682480  Pebble  2014-08-01 11:28:00            NaN        Cat   \n",
       "8455   A689097     NaN  2014-10-04 19:15:00            NaN        Cat   \n",
       "\n",
       "      SexuponOutcome                   Breed        Color  Age_days  Year  \\\n",
       "11109  Neutered Male          Toy Poodle Mix        White    2555.0  2014   \n",
       "18649  Intact Female              Beagle Mix     Tricolor    2920.0  2014   \n",
       "15515        Unknown  Domestic Shorthair Mix   White/Blue       7.0  2015   \n",
       "12078  Neutered Male  Domestic Shorthair Mix  Black/White     120.0  2014   \n",
       "8455   Spayed Female  Domestic Shorthair Mix       Tortie      60.0  2014   \n",
       "\n",
       "          ...       gender HasName OutcomeHour weekend Mix_Breed  \\\n",
       "11109     ...         Male    True   afternoon    True      True   \n",
       "18649     ...       Female   False       lunch   False      True   \n",
       "15515     ...         None   False       lunch   False      True   \n",
       "12078     ...         Male    True       lunch   False      True   \n",
       "8455      ...       Female   False       night    True      True   \n",
       "\n",
       "              First_Breed Second_Breed Mix_Color First_Color Second_Color  \n",
       "11109          Toy Poodle          NaN     False       White          NaN  \n",
       "18649              Beagle          NaN     False    Tricolor          NaN  \n",
       "15515  Domestic Shorthair          NaN     False       White         Blue  \n",
       "12078  Domestic Shorthair          NaN     False       Black        White  \n",
       "8455   Domestic Shorthair          NaN     False      Tortie          NaN  \n",
       "\n",
       "[5 rows x 23 columns]"
      ]
     },
     "execution_count": 17,
     "metadata": {},
     "output_type": "execute_result"
    }
   ],
   "source": [
    "train_data.head()"
   ]
  },
  {
   "cell_type": "markdown",
   "metadata": {},
   "source": [
    "### Hashing"
   ]
  },
  {
   "cell_type": "code",
   "execution_count": 16,
   "metadata": {
    "collapsed": false
   },
   "outputs": [],
   "source": [
    "from sklearn.feature_extraction import DictVectorizer\n",
    "dv = DictVectorizer(sparse=False)\n",
    "predictors = ['AnimalType','fixed','gender','Year','Month','Day_Num','First_Breed', 'Second_Breed','Mix_Breed','Mix_Color','First_Color','Second_Color','Age_days','HasName','OutcomeHour','weekend']\n",
    "\n",
    "hashed_train = pd.DataFrame(dv.fit_transform(train_data[predictors].to_dict(orient='records')),columns=dv.get_feature_names()).fillna(0)\n",
    "\n",
    "hashed_dev = pd.DataFrame(dv.transform(dev_data[predictors].to_dict(orient='records')),columns=dv.get_feature_names()).fillna(0)\n"
   ]
  },
  {
   "cell_type": "code",
   "execution_count": null,
   "metadata": {
    "collapsed": false
   },
   "outputs": [],
   "source": [
    "hashed_train.shape"
   ]
  },
  {
   "cell_type": "code",
   "execution_count": 17,
   "metadata": {
    "collapsed": false
   },
   "outputs": [
    {
     "name": "stdout",
     "output_type": "stream",
     "text": [
      "Prediction accuracy: 0.668537224093\n"
     ]
    }
   ],
   "source": [
    "from sklearn.ensemble import GradientBoostingClassifier\n",
    "from sklearn.model_selection import GridSearchCV\n",
    "#parameter = {'n_estimators':[100,400,800,1000]}\n",
    "dt = GradientBoostingClassifier()\n",
    "#gs = GridSearchCV(dt,parameter)\n",
    "\n",
    "dt.fit(hashed_train.to_sparse(), train_labels)\n",
    "prediction = dt.predict(hashed_dev.to_sparse())\n",
    "\n",
    "# Prediction accuracy\n",
    "print 'Prediction accuracy:', np.mean(prediction == dev_labels)\n"
   ]
  },
  {
   "cell_type": "markdown",
   "metadata": {
    "collapsed": true
   },
   "source": [
    "### Kaggle Evaluation"
   ]
  },
  {
   "cell_type": "code",
   "execution_count": 18,
   "metadata": {
    "collapsed": false
   },
   "outputs": [
    {
     "data": {
      "text/plain": [
       "0.79960915256039089"
      ]
     },
     "execution_count": 18,
     "metadata": {},
     "output_type": "execute_result"
    }
   ],
   "source": [
    "pred_prob = dt.predict_proba(hashed_dev.to_sparse())\n",
    "pred_prob\n",
    "pred_prob = pred_prob + 0.000000001   # A hack to deal with log transformation of zero\n",
    "-np.mean([np.log(pred_prob[x][dev_labels.iloc[x]-1]) for x in range(0, len(pred_prob))])"
   ]
  },
  {
   "cell_type": "code",
   "execution_count": null,
   "metadata": {
    "collapsed": false
   },
   "outputs": [],
   "source": [
    "from sklearn.metrics import confusion_matrix\n",
    "\n",
    "test = pd.DataFrame(prediction, columns = ['prediction'])\n",
    "print ['Adoption', 'Died', 'Euthanasia', 'Return_to_owner', 'Transfer']\n",
    "confusion_matrix(dev_labels, prediction)"
   ]
  },
  {
   "cell_type": "markdown",
   "metadata": {},
   "source": [
    "### Tune Percentage of Breed/Color Features to Include (don't put in final writeup)"
   ]
  },
  {
   "cell_type": "code",
   "execution_count": 19,
   "metadata": {
    "collapsed": false
   },
   "outputs": [
    {
     "name": "stdout",
     "output_type": "stream",
     "text": [
      "Second Color includes  1\n",
      "Shape:  (18710, 309)\n"
     ]
    },
    {
     "ename": "KeyboardInterrupt",
     "evalue": "",
     "output_type": "error",
     "traceback": [
      "\u001b[0;31m---------------------------------------------------------------------------\u001b[0m",
      "\u001b[0;31mKeyboardInterrupt\u001b[0m                         Traceback (most recent call last)",
      "\u001b[0;32m<ipython-input-19-b31d1fd2b21a>\u001b[0m in \u001b[0;36m<module>\u001b[0;34m()\u001b[0m\n\u001b[1;32m     47\u001b[0m     \u001b[1;31m#gs = GridSearchCV(dt,parameter)\u001b[0m\u001b[1;33m\u001b[0m\u001b[1;33m\u001b[0m\u001b[0m\n\u001b[1;32m     48\u001b[0m \u001b[1;33m\u001b[0m\u001b[0m\n\u001b[0;32m---> 49\u001b[0;31m     \u001b[0mdt\u001b[0m\u001b[1;33m.\u001b[0m\u001b[0mfit\u001b[0m\u001b[1;33m(\u001b[0m\u001b[0mhashed_train\u001b[0m\u001b[1;33m.\u001b[0m\u001b[0mto_sparse\u001b[0m\u001b[1;33m(\u001b[0m\u001b[1;33m)\u001b[0m\u001b[1;33m,\u001b[0m \u001b[0mtrain_labels\u001b[0m\u001b[1;33m)\u001b[0m\u001b[1;33m\u001b[0m\u001b[0m\n\u001b[0m\u001b[1;32m     50\u001b[0m     \u001b[0mprediction\u001b[0m \u001b[1;33m=\u001b[0m \u001b[0mdt\u001b[0m\u001b[1;33m.\u001b[0m\u001b[0mpredict\u001b[0m\u001b[1;33m(\u001b[0m\u001b[0mhashed_dev\u001b[0m\u001b[1;33m.\u001b[0m\u001b[0mto_sparse\u001b[0m\u001b[1;33m(\u001b[0m\u001b[1;33m)\u001b[0m\u001b[1;33m)\u001b[0m\u001b[1;33m\u001b[0m\u001b[0m\n\u001b[1;32m     51\u001b[0m \u001b[1;33m\u001b[0m\u001b[0m\n",
      "\u001b[0;32mC:\\Users\\owitek\\AppData\\Local\\Continuum\\Anaconda2\\lib\\site-packages\\sklearn\\ensemble\\gradient_boosting.pyc\u001b[0m in \u001b[0;36mfit\u001b[0;34m(self, X, y, sample_weight, monitor)\u001b[0m\n\u001b[1;32m   1026\u001b[0m         \u001b[1;31m# fit the boosting stages\u001b[0m\u001b[1;33m\u001b[0m\u001b[1;33m\u001b[0m\u001b[0m\n\u001b[1;32m   1027\u001b[0m         n_stages = self._fit_stages(X, y, y_pred, sample_weight, random_state,\n\u001b[0;32m-> 1028\u001b[0;31m                                     begin_at_stage, monitor, X_idx_sorted)\n\u001b[0m\u001b[1;32m   1029\u001b[0m         \u001b[1;31m# change shape of arrays after fit (early-stopping or additional ests)\u001b[0m\u001b[1;33m\u001b[0m\u001b[1;33m\u001b[0m\u001b[0m\n\u001b[1;32m   1030\u001b[0m         \u001b[1;32mif\u001b[0m \u001b[0mn_stages\u001b[0m \u001b[1;33m!=\u001b[0m \u001b[0mself\u001b[0m\u001b[1;33m.\u001b[0m\u001b[0mestimators_\u001b[0m\u001b[1;33m.\u001b[0m\u001b[0mshape\u001b[0m\u001b[1;33m[\u001b[0m\u001b[1;36m0\u001b[0m\u001b[1;33m]\u001b[0m\u001b[1;33m:\u001b[0m\u001b[1;33m\u001b[0m\u001b[0m\n",
      "\u001b[0;32mC:\\Users\\owitek\\AppData\\Local\\Continuum\\Anaconda2\\lib\\site-packages\\sklearn\\ensemble\\gradient_boosting.pyc\u001b[0m in \u001b[0;36m_fit_stages\u001b[0;34m(self, X, y, y_pred, sample_weight, random_state, begin_at_stage, monitor, X_idx_sorted)\u001b[0m\n\u001b[1;32m   1081\u001b[0m             y_pred = self._fit_stage(i, X, y, y_pred, sample_weight,\n\u001b[1;32m   1082\u001b[0m                                      \u001b[0msample_mask\u001b[0m\u001b[1;33m,\u001b[0m \u001b[0mrandom_state\u001b[0m\u001b[1;33m,\u001b[0m \u001b[0mX_idx_sorted\u001b[0m\u001b[1;33m,\u001b[0m\u001b[1;33m\u001b[0m\u001b[0m\n\u001b[0;32m-> 1083\u001b[0;31m                                      X_csc, X_csr)\n\u001b[0m\u001b[1;32m   1084\u001b[0m \u001b[1;33m\u001b[0m\u001b[0m\n\u001b[1;32m   1085\u001b[0m             \u001b[1;31m# track deviance (= loss)\u001b[0m\u001b[1;33m\u001b[0m\u001b[1;33m\u001b[0m\u001b[0m\n",
      "\u001b[0;32mC:\\Users\\owitek\\AppData\\Local\\Continuum\\Anaconda2\\lib\\site-packages\\sklearn\\ensemble\\gradient_boosting.pyc\u001b[0m in \u001b[0;36m_fit_stage\u001b[0;34m(self, i, X, y, y_pred, sample_weight, sample_mask, random_state, X_idx_sorted, X_csc, X_csr)\u001b[0m\n\u001b[1;32m    785\u001b[0m             \u001b[1;32melse\u001b[0m\u001b[1;33m:\u001b[0m\u001b[1;33m\u001b[0m\u001b[0m\n\u001b[1;32m    786\u001b[0m                 tree.fit(X, residual, sample_weight=sample_weight,\n\u001b[0;32m--> 787\u001b[0;31m                          check_input=False, X_idx_sorted=X_idx_sorted)\n\u001b[0m\u001b[1;32m    788\u001b[0m \u001b[1;33m\u001b[0m\u001b[0m\n\u001b[1;32m    789\u001b[0m             \u001b[1;31m# update tree leaves\u001b[0m\u001b[1;33m\u001b[0m\u001b[1;33m\u001b[0m\u001b[0m\n",
      "\u001b[0;32mC:\\Users\\owitek\\AppData\\Local\\Continuum\\Anaconda2\\lib\\site-packages\\sklearn\\tree\\tree.pyc\u001b[0m in \u001b[0;36mfit\u001b[0;34m(self, X, y, sample_weight, check_input, X_idx_sorted)\u001b[0m\n\u001b[1;32m   1027\u001b[0m             \u001b[0msample_weight\u001b[0m\u001b[1;33m=\u001b[0m\u001b[0msample_weight\u001b[0m\u001b[1;33m,\u001b[0m\u001b[1;33m\u001b[0m\u001b[0m\n\u001b[1;32m   1028\u001b[0m             \u001b[0mcheck_input\u001b[0m\u001b[1;33m=\u001b[0m\u001b[0mcheck_input\u001b[0m\u001b[1;33m,\u001b[0m\u001b[1;33m\u001b[0m\u001b[0m\n\u001b[0;32m-> 1029\u001b[0;31m             X_idx_sorted=X_idx_sorted)\n\u001b[0m\u001b[1;32m   1030\u001b[0m         \u001b[1;32mreturn\u001b[0m \u001b[0mself\u001b[0m\u001b[1;33m\u001b[0m\u001b[0m\n\u001b[1;32m   1031\u001b[0m \u001b[1;33m\u001b[0m\u001b[0m\n",
      "\u001b[0;32mC:\\Users\\owitek\\AppData\\Local\\Continuum\\Anaconda2\\lib\\site-packages\\sklearn\\tree\\tree.pyc\u001b[0m in \u001b[0;36mfit\u001b[0;34m(self, X, y, sample_weight, check_input, X_idx_sorted)\u001b[0m\n\u001b[1;32m    348\u001b[0m                                            self.min_impurity_split)\n\u001b[1;32m    349\u001b[0m \u001b[1;33m\u001b[0m\u001b[0m\n\u001b[0;32m--> 350\u001b[0;31m         \u001b[0mbuilder\u001b[0m\u001b[1;33m.\u001b[0m\u001b[0mbuild\u001b[0m\u001b[1;33m(\u001b[0m\u001b[0mself\u001b[0m\u001b[1;33m.\u001b[0m\u001b[0mtree_\u001b[0m\u001b[1;33m,\u001b[0m \u001b[0mX\u001b[0m\u001b[1;33m,\u001b[0m \u001b[0my\u001b[0m\u001b[1;33m,\u001b[0m \u001b[0msample_weight\u001b[0m\u001b[1;33m,\u001b[0m \u001b[0mX_idx_sorted\u001b[0m\u001b[1;33m)\u001b[0m\u001b[1;33m\u001b[0m\u001b[0m\n\u001b[0m\u001b[1;32m    351\u001b[0m \u001b[1;33m\u001b[0m\u001b[0m\n\u001b[1;32m    352\u001b[0m         \u001b[1;32mif\u001b[0m \u001b[0mself\u001b[0m\u001b[1;33m.\u001b[0m\u001b[0mn_outputs_\u001b[0m \u001b[1;33m==\u001b[0m \u001b[1;36m1\u001b[0m\u001b[1;33m:\u001b[0m\u001b[1;33m\u001b[0m\u001b[0m\n",
      "\u001b[0;31mKeyboardInterrupt\u001b[0m: "
     ]
    }
   ],
   "source": [
    "tuner=1\n",
    "while tuner>0:\n",
    "    #Does the breed contain a mix?\n",
    "    data['Mix_Breed'] = data['Breed'].map(lambda x: x.find('Mix') != -1)\n",
    "    #Split breed into first and second\n",
    "    data['First_Breed'] = data['Breed'].map(lambda x: x.split('/')[0].replace('Mix', '').strip())\n",
    "    data['Second_Breed'] = data['Breed'].map(lambda x: x.split('/')[1].replace('Mix', '').strip() if len(x.split('/')) > 1 else np.nan)\n",
    "\n",
    "    #Split breed into first and second\n",
    "    data['Mix_Color'] = data['Color'].map(lambda x: x.find('Mix') != -1)\n",
    "\n",
    "    data['First_Color'] = data['Color'].map(lambda x: x.split('/')[0].replace('Mix', '').strip())\n",
    "    data['Second_Color'] = data['Color'].map(lambda x: x.split('/')[1].replace('Mix', '').strip() if len(x.split('/')) > 1 else np.nan)\n",
    "\n",
    "    rare_first_breeds=np.array((data['First_Breed'].value_counts()).index[int(first_breeds*.7):])\n",
    "    rare_second_breeds=np.array((data['Second_Breed'].value_counts()).index[int(second_breeds*.1):])\n",
    "\n",
    "    for first_breed in rare_first_breeds:\n",
    "        data['First_Breed'].replace(to_replace=first_breed, value='Rare', inplace=True)\n",
    "\n",
    "    for sec_breed in rare_second_breeds:\n",
    "        data['Second_Breed'].replace(to_replace=sec_breed, value='Rare', inplace=True)\n",
    "\n",
    "    rare_first_colors=np.array((data['First_Color'].value_counts()).index[int(first_colors*.45):])\n",
    "    rare_second_colors=np.array((data['Second_Color'].value_counts()).index[int(second_colors*tuner):])\n",
    "\n",
    "    for first_color in rare_first_colors:\n",
    "        data['First_Color'].replace(to_replace=first_color, value='Rare', inplace=True)\n",
    "\n",
    "    for sec_color in rare_second_colors:\n",
    "        data['Second_Color'].replace(to_replace=sec_color, value='Rare', inplace=True)\n",
    "\n",
    "    train_data, dev_data, train_labels, dev_labels = train_test_split(data, labels, test_size=0.3, random_state=0)\n",
    "\n",
    "    dv = DictVectorizer(sparse=False)\n",
    "    predictors = ['AnimalType','fixed','gender','Year','Month','Day_Num','First_Breed', 'Second_Breed','Mix_Breed','Mix_Color','First_Color','Second_Color','Age_days','HasName','OutcomeHour','weekend']\n",
    "\n",
    "    hashed_train = pd.DataFrame(dv.fit_transform(train_data[predictors].to_dict(orient='records')),columns=dv.get_feature_names()).fillna(0)\n",
    "\n",
    "    hashed_dev = pd.DataFrame(dv.transform(dev_data[predictors].to_dict(orient='records')),columns=dv.get_feature_names()).fillna(0)\n",
    "\n",
    "    print 'Second Color includes ', tuner \n",
    "\n",
    "    print 'Shape: ', hashed_train.shape\n",
    "\n",
    "    dt = GradientBoostingClassifier()\n",
    "    #gs = GridSearchCV(dt,parameter)\n",
    "\n",
    "    dt.fit(hashed_train.to_sparse(), train_labels)\n",
    "    prediction = dt.predict(hashed_dev.to_sparse())\n",
    "\n",
    "    # Prediction accuracy\n",
    "    print 'Prediction accuracy:', np.mean(prediction == dev_labels)\n",
    "\n",
    "    pred_prob = dt.predict_proba(hashed_dev.to_sparse())\n",
    "    pred_prob\n",
    "    pred_prob = pred_prob + 0.000000001   # A hack to deal with log transformation of zero\n",
    "    print 'Log likelihood', -np.mean([np.log(pred_prob[x][dev_labels.iloc[x]-1]) for x in range(0, len(pred_prob))])\n",
    "    tuner-=.05"
   ]
  },
  {
   "cell_type": "markdown",
   "metadata": {},
   "source": [
    "### Submitting to Kaggle"
   ]
  },
  {
   "cell_type": "code",
   "execution_count": null,
   "metadata": {
    "collapsed": false
   },
   "outputs": [],
   "source": [
    "test_data.head()"
   ]
  },
  {
   "cell_type": "code",
   "execution_count": 20,
   "metadata": {
    "collapsed": false
   },
   "outputs": [],
   "source": [
    "test_data['Year'] = pd.to_datetime(test_data['DateTime']).dt.year.astype(str)\n",
    "test_data['Month'] = pd.to_datetime(test_data['DateTime']).dt.month.astype(str)\n",
    "test_data['Day_Num']= pd.to_datetime(test_data['DateTime']).dt.day.astype(str)\n",
    "\n",
    "test_data['fixed']=test_data['SexuponOutcome'].str.split(' ', expand=True)[0]\n",
    "test_data['gender']=test_data['SexuponOutcome'].str.split(' ', expand=True)[1]\n",
    "\n",
    "test_data['HasName']=-test_data['Name'].isnull()\n",
    "\n",
    "temp = pd.to_datetime(test_data['DateTime']).dt.hour\n",
    "bins = [3, 7, 10, 14, 17, 20, 24]\n",
    "names = ['midnight','morning', 'lunch', 'afternoon','night', 'late night']\n",
    "test_data['OutcomeHour'] = pd.cut(temp, bins, labels=names)\n",
    "\n",
    "temp = pd.to_datetime(test_data['DateTime']).dt.weekday\n",
    "test_data['weekend'] = temp.isin([5,6])\n",
    "\n",
    "#Does the breed contain a mix?\n",
    "test_data['Mix_Breed'] = test_data['Breed'].map(lambda x: x.find('Mix') != -1)\n",
    "#Split breed into first and second\n",
    "test_data['First_Breed'] = test_data['Breed'].map(lambda x: x.split('/')[0].replace('Mix', '').strip())\n",
    "test_data['Second_Breed'] = test_data['Breed'].map(lambda x: x.split('/')[1].replace('Mix', '').strip() if len(x.split('/')) > 1 else np.nan)\n",
    "\n",
    "#Split breed into first and second\n",
    "test_data['Mix_Color'] = test_data['Color'].map(lambda x: x.find('Mix') != -1)\n",
    "\n",
    "test_data['First_Color'] = test_data['Color'].map(lambda x: x.split('/')[0].replace('Mix', '').strip())\n",
    "test_data['Second_Color'] = test_data['Color'].map(lambda x: x.split('/')[1].replace('Mix', '').strip() if len(x.split('/')) > 1 else np.nan)\n",
    "\n",
    "first_breeds = len(test_data['First_Breed'].value_counts())\n",
    "second_breeds = len(test_data['Second_Breed'].value_counts())\n",
    "\n",
    "rare_first_breeds=np.array((test_data['First_Breed'].value_counts()).index[int(first_breeds*.7):])\n",
    "rare_second_breeds=np.array((test_data['Second_Breed'].value_counts()).index[int(second_breeds*.1):])\n",
    "\n",
    "for first_breed in rare_first_breeds:\n",
    "    test_data['First_Breed'].replace(to_replace=first_breed, value='Rare', inplace=True)\n",
    "\n",
    "for sec_breed in rare_second_breeds:\n",
    "    test_data['Second_Breed'].replace(to_replace=sec_breed, value='Rare', inplace=True)\n",
    "    \n",
    "first_colors = len(test_data['First_Color'].value_counts())\n",
    "second_colors = len(test_data['Second_Color'].value_counts())\n",
    "\n",
    "rare_first_colors=np.array((test_data['First_Color'].value_counts()).index[int(first_colors*.45):])\n",
    "rare_second_colors=np.array((test_data['Second_Color'].value_counts()).index[int(second_colors*.2):])\n",
    "\n",
    "for first_color in rare_first_colors:\n",
    "    test_data['First_Color'].replace(to_replace=first_color, value='Rare', inplace=True)\n",
    "\n",
    "for sec_color in rare_second_colors:\n",
    "    test_data['Second_Color'].replace(to_replace=sec_color, value='Rare', inplace=True)\n",
    "    \n",
    "dv = DictVectorizer(sparse=False)\n",
    "predictors = ['AnimalType','fixed','gender','Year','Month','Day_Num','First_Breed','Second_Breed','Mix_Breed','Mix_Color','First_Color','Second_Color','Age_days','HasName','OutcomeHour','weekend']\n",
    "\n",
    "hashed_train = pd.DataFrame(dv.fit_transform(train_data[predictors].to_dict(orient='records')),columns=dv.get_feature_names()).fillna(0)\n",
    "\n",
    "hashed_test = pd.DataFrame(dv.transform(test_data[predictors].to_dict(orient='records')),columns=dv.get_feature_names()).fillna(0)\n",
    "\n",
    "dt = GradientBoostingClassifier()\n",
    "\n",
    "dt.fit(hashed_train.to_sparse(), train_labels)\n",
    "prediction = dt.predict(hashed_test.to_sparse())"
   ]
  },
  {
   "cell_type": "code",
   "execution_count": 29,
   "metadata": {
    "collapsed": false
   },
   "outputs": [
    {
     "data": {
      "text/plain": [
       "array([5, 1, 5, ..., 5, 1, 4], dtype=int64)"
      ]
     },
     "execution_count": 29,
     "metadata": {},
     "output_type": "execute_result"
    }
   ],
   "source": [
    "prediction"
   ]
  },
  {
   "cell_type": "code",
   "execution_count": 21,
   "metadata": {
    "collapsed": false
   },
   "outputs": [],
   "source": [
    "# Format an output file\n",
    "out = np.zeros((prediction.shape[0], 5))\n",
    "\n",
    "for i in range(out.shape[0]):\n",
    "    out[i][prediction[i]-1] = 1\n",
    "\n",
    "# Convert to panda dataframe\n",
    "out = pd.DataFrame(data=out, index=test_data.ID, columns=['Adoption','Died','Euthanasia','Return_to_owner','Transfer'])"
   ]
  },
  {
   "cell_type": "code",
   "execution_count": null,
   "metadata": {
    "collapsed": false
   },
   "outputs": [],
   "source": [
    "out.head()"
   ]
  },
  {
   "cell_type": "code",
   "execution_count": 22,
   "metadata": {
    "collapsed": false
   },
   "outputs": [],
   "source": [
    "out.to_csv('results_4_23_v2.csv')"
   ]
  },
  {
   "cell_type": "code",
   "execution_count": null,
   "metadata": {
    "collapsed": true
   },
   "outputs": [],
   "source": []
  }
 ],
 "metadata": {
  "anaconda-cloud": {},
  "kernelspec": {
   "display_name": "Python 2",
   "language": "python",
   "name": "python2"
  },
  "language_info": {
   "codemirror_mode": {
    "name": "ipython",
    "version": 2
   },
   "file_extension": ".py",
   "mimetype": "text/x-python",
   "name": "python",
   "nbconvert_exporter": "python",
   "pygments_lexer": "ipython2",
   "version": "2.7.13"
  }
 },
 "nbformat": 4,
 "nbformat_minor": 1
}
