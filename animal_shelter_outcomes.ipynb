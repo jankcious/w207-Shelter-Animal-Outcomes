{
 "cells": [
  {
   "cell_type": "markdown",
   "metadata": {},
   "source": [
    "### Initial Setup"
   ]
  },
  {
   "cell_type": "code",
   "execution_count": 1,
   "metadata": {
    "collapsed": false
   },
   "outputs": [],
   "source": [
    "# Load libraries\n",
    "import numpy as np\n",
    "import pandas as pd\n",
    "from sklearn.model_selection import *\n",
    "from sklearn.linear_model import LogisticRegression"
   ]
  },
  {
   "cell_type": "code",
   "execution_count": 2,
   "metadata": {
    "collapsed": true
   },
   "outputs": [],
   "source": [
    "# Read in data\n",
    "raw_data = pd.read_csv('train.csv')\n",
    "test_data = pd.read_csv('test.csv')"
   ]
  },
  {
   "cell_type": "code",
   "execution_count": 3,
   "metadata": {
    "collapsed": false
   },
   "outputs": [
    {
     "name": "stdout",
     "output_type": "stream",
     "text": [
      "(26729, 10)\n",
      "  AnimalID     Name             DateTime      OutcomeType OutcomeSubtype  \\\n",
      "0  A671945  Hambone  2014-02-12 18:22:00  Return_to_owner            NaN   \n",
      "1  A656520    Emily  2013-10-13 12:44:00       Euthanasia      Suffering   \n",
      "2  A686464   Pearce  2015-01-31 12:28:00         Adoption         Foster   \n",
      "3  A683430      NaN  2014-07-11 19:09:00         Transfer        Partner   \n",
      "4  A667013      NaN  2013-11-15 12:52:00         Transfer        Partner   \n",
      "\n",
      "  AnimalType SexuponOutcome AgeuponOutcome                        Breed  \\\n",
      "0        Dog  Neutered Male         1 year        Shetland Sheepdog Mix   \n",
      "1        Cat  Spayed Female         1 year       Domestic Shorthair Mix   \n",
      "2        Dog  Neutered Male        2 years                 Pit Bull Mix   \n",
      "3        Cat    Intact Male        3 weeks       Domestic Shorthair Mix   \n",
      "4        Dog  Neutered Male        2 years  Lhasa Apso/Miniature Poodle   \n",
      "\n",
      "         Color  \n",
      "0  Brown/White  \n",
      "1  Cream Tabby  \n",
      "2   Blue/White  \n",
      "3   Blue Cream  \n",
      "4          Tan  \n"
     ]
    }
   ],
   "source": [
    "# Examine the data a little bit\n",
    "print raw_data.shape\n",
    "print raw_data.head()"
   ]
  },
  {
   "cell_type": "code",
   "execution_count": 10,
   "metadata": {
    "collapsed": false
   },
   "outputs": [],
   "source": [
    "# Seperate out label and data\n",
    "labels = raw_data.OutcomeType\n",
    "data = raw_data.drop('OutcomeType', 1)"
   ]
  },
  {
   "cell_type": "markdown",
   "metadata": {},
   "source": [
    "### Data manipulation: Convert string to numeric categories\n"
   ]
  },
  {
   "cell_type": "code",
   "execution_count": 11,
   "metadata": {
    "collapsed": true
   },
   "outputs": [],
   "source": [
    "# Replace animal type to numeric: Dog = 1, Cat = 0\n",
    "data.replace(to_replace='Dog', value=1, inplace=True)\n",
    "data.replace(to_replace='Cat', value=0, inplace=True)\n",
    "\n",
    "test_data.replace(to_replace='Dog', value=1, inplace=True)\n",
    "test_data.replace(to_replace='Cat', value=0, inplace=True)\n"
   ]
  },
  {
   "cell_type": "code",
   "execution_count": 12,
   "metadata": {
    "collapsed": true
   },
   "outputs": [],
   "source": [
    "# Replace sex upon outcome: intact = 1, otherwise = 0, unknown = 99 (temp)\n",
    "data.replace(to_replace='Neutered Male', value=0, inplace=True)\n",
    "data.replace(to_replace='Spayed Female', value=0, inplace=True)\n",
    "data.replace(to_replace='Intact Male', value=1, inplace=True)\n",
    "data.replace(to_replace='Intact Female', value=1, inplace=True)\n",
    "data.replace(to_replace='Unknown', value=99, inplace=True)\n",
    "data.replace(to_replace='nan', value=99, inplace=True)\n",
    "\n",
    "test_data.replace(to_replace='Neutered Male', value=0, inplace=True)\n",
    "test_data.replace(to_replace='Spayed Female', value=0, inplace=True)\n",
    "test_data.replace(to_replace='Intact Male', value=1, inplace=True)\n",
    "test_data.replace(to_replace='Intact Female', value=1, inplace=True)\n",
    "test_data.replace(to_replace='Unknown', value=99, inplace=True)\n",
    "test_data.replace(to_replace='nan', value=99, inplace=True)\n"
   ]
  },
  {
   "cell_type": "code",
   "execution_count": 13,
   "metadata": {
    "collapsed": false
   },
   "outputs": [],
   "source": [
    "# Replace outcome label: Return to owner = 1, Adoption = 2, Euthanasia = 3, Transfer = 4, Died = 5\n",
    "labels.replace(to_replace='Return_to_owner', value=1, inplace=True)\n",
    "labels.replace(to_replace='Adoption', value=2, inplace=True)\n",
    "labels.replace(to_replace='Euthanasia', value=3, inplace=True)\n",
    "labels.replace(to_replace='Transfer', value=4, inplace=True)\n",
    "labels.replace(to_replace='Died', value=5, inplace=True)"
   ]
  },
  {
   "cell_type": "code",
   "execution_count": 14,
   "metadata": {
    "collapsed": false
   },
   "outputs": [],
   "source": [
    "# Splitting data into train set and development set\n",
    "train_data, dev_data, train_labels, dev_labels = train_test_split(data, labels, test_size=0.3, random_state=0)"
   ]
  },
  {
   "cell_type": "markdown",
   "metadata": {},
   "source": [
    "### Determine features that are applicable"
   ]
  },
  {
   "cell_type": "code",
   "execution_count": 15,
   "metadata": {
    "collapsed": false
   },
   "outputs": [],
   "source": [
    "# Determine a feature set\n",
    "feature_names = ['AnimalType','SexuponOutcome','AgeuponOutcome','Breed','Color']\n",
    "features = train_data.loc[:, feature_names]"
   ]
  },
  {
   "cell_type": "code",
   "execution_count": 16,
   "metadata": {
    "collapsed": false
   },
   "outputs": [],
   "source": [
    "# Just for test, to be deleted\n",
    "sub_features = features.loc[:,['AnimalType','SexuponOutcome']]"
   ]
  },
  {
   "cell_type": "markdown",
   "metadata": {},
   "source": [
    "### Apply machine learning techniques"
   ]
  },
  {
   "cell_type": "code",
   "execution_count": 17,
   "metadata": {
    "collapsed": false
   },
   "outputs": [
    {
     "name": "stdout",
     "output_type": "stream",
     "text": [
      "Prediction accuracy: 0.573512906846\n"
     ]
    }
   ],
   "source": [
    "# Logictic regression\n",
    "mdl = LogisticRegression()\n",
    "mdl.fit(sub_features, train_labels)\n",
    "prediction = mdl.predict(dev_data.loc[:,['AnimalType','SexuponOutcome']])\n",
    "\n",
    "# Prediction accuracy\n",
    "print 'Prediction accuracy:', np.mean(prediction == dev_labels)"
   ]
  },
  {
   "cell_type": "code",
   "execution_count": 18,
   "metadata": {
    "collapsed": false
   },
   "outputs": [],
   "source": [
    "# Make predictions of test data\n",
    "prediction = mdl.predict_proba(test_data.loc[:,['AnimalType','SexuponOutcome']])"
   ]
  },
  {
   "cell_type": "code",
   "execution_count": 19,
   "metadata": {
    "collapsed": false
   },
   "outputs": [
    {
     "data": {
      "text/plain": [
       "array([[ 0.43788028,  0.0601568 ,  0.08797519,  0.40816452,  0.0058232 ],\n",
       "       [ 0.25107766,  0.46956622,  0.04946202,  0.22662606,  0.00326805],\n",
       "       [ 0.04058345,  0.53280522,  0.04787469,  0.36779416,  0.01094248],\n",
       "       ..., \n",
       "       [ 0.07589957,  0.10143432,  0.09171219,  0.70995469,  0.02099922],\n",
       "       [ 0.25107766,  0.46956622,  0.04946202,  0.22662606,  0.00326805],\n",
       "       [ 0.43788028,  0.0601568 ,  0.08797519,  0.40816452,  0.0058232 ]])"
      ]
     },
     "execution_count": 19,
     "metadata": {},
     "output_type": "execute_result"
    }
   ],
   "source": [
    "prediction"
   ]
  },
  {
   "cell_type": "code",
   "execution_count": 20,
   "metadata": {
    "collapsed": false
   },
   "outputs": [],
   "source": [
    "# Format an output file\n",
    "#out = np.zeros((prediction.shape[0], 5))\n",
    "\n",
    "#for i in range(out.shape[0]):\n",
    "#    out[i, prediction[i]] = 1\n",
    "\n",
    "# Convert to panda dataframe\n",
    "out = pd.DataFrame(data=prediction, index=test_data.ID, columns=['Return_to_owner','Adoption','Euthanasia','Transfer','Died'])"
   ]
  },
  {
   "cell_type": "code",
   "execution_count": 21,
   "metadata": {
    "collapsed": false
   },
   "outputs": [
    {
     "data": {
      "text/html": [
       "<div>\n",
       "<table border=\"1\" class=\"dataframe\">\n",
       "  <thead>\n",
       "    <tr style=\"text-align: right;\">\n",
       "      <th></th>\n",
       "      <th>Return_to_owner</th>\n",
       "      <th>Adoption</th>\n",
       "      <th>Euthanasia</th>\n",
       "      <th>Transfer</th>\n",
       "      <th>Died</th>\n",
       "    </tr>\n",
       "    <tr>\n",
       "      <th>ID</th>\n",
       "      <th></th>\n",
       "      <th></th>\n",
       "      <th></th>\n",
       "      <th></th>\n",
       "      <th></th>\n",
       "    </tr>\n",
       "  </thead>\n",
       "  <tbody>\n",
       "    <tr>\n",
       "      <th>1</th>\n",
       "      <td>0.437880</td>\n",
       "      <td>0.060157</td>\n",
       "      <td>0.087975</td>\n",
       "      <td>0.408165</td>\n",
       "      <td>0.005823</td>\n",
       "    </tr>\n",
       "    <tr>\n",
       "      <th>2</th>\n",
       "      <td>0.251078</td>\n",
       "      <td>0.469566</td>\n",
       "      <td>0.049462</td>\n",
       "      <td>0.226626</td>\n",
       "      <td>0.003268</td>\n",
       "    </tr>\n",
       "    <tr>\n",
       "      <th>3</th>\n",
       "      <td>0.040583</td>\n",
       "      <td>0.532805</td>\n",
       "      <td>0.047875</td>\n",
       "      <td>0.367794</td>\n",
       "      <td>0.010942</td>\n",
       "    </tr>\n",
       "    <tr>\n",
       "      <th>4</th>\n",
       "      <td>0.437880</td>\n",
       "      <td>0.060157</td>\n",
       "      <td>0.087975</td>\n",
       "      <td>0.408165</td>\n",
       "      <td>0.005823</td>\n",
       "    </tr>\n",
       "    <tr>\n",
       "      <th>5</th>\n",
       "      <td>0.251078</td>\n",
       "      <td>0.469566</td>\n",
       "      <td>0.049462</td>\n",
       "      <td>0.226626</td>\n",
       "      <td>0.003268</td>\n",
       "    </tr>\n",
       "  </tbody>\n",
       "</table>\n",
       "</div>"
      ],
      "text/plain": [
       "    Return_to_owner  Adoption  Euthanasia  Transfer      Died\n",
       "ID                                                           \n",
       "1          0.437880  0.060157    0.087975  0.408165  0.005823\n",
       "2          0.251078  0.469566    0.049462  0.226626  0.003268\n",
       "3          0.040583  0.532805    0.047875  0.367794  0.010942\n",
       "4          0.437880  0.060157    0.087975  0.408165  0.005823\n",
       "5          0.251078  0.469566    0.049462  0.226626  0.003268"
      ]
     },
     "execution_count": 21,
     "metadata": {},
     "output_type": "execute_result"
    }
   ],
   "source": [
    "out.head()"
   ]
  },
  {
   "cell_type": "code",
   "execution_count": 115,
   "metadata": {
    "collapsed": true
   },
   "outputs": [],
   "source": [
    "out.to_csv('results.csv')"
   ]
  }
 ],
 "metadata": {
  "anaconda-cloud": {},
  "kernelspec": {
   "display_name": "Python 2",
   "language": "python",
   "name": "python2"
  },
  "language_info": {
   "codemirror_mode": {
    "name": "ipython",
    "version": 2
   },
   "file_extension": ".py",
   "mimetype": "text/x-python",
   "name": "python",
   "nbconvert_exporter": "python",
   "pygments_lexer": "ipython2",
   "version": "2.7.13"
  }
 },
 "nbformat": 4,
 "nbformat_minor": 1
}
