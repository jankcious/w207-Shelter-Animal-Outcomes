{
 "cells": [
  {
   "cell_type": "markdown",
   "metadata": {},
   "source": [
    "### Initial Setup"
   ]
  },
  {
   "cell_type": "code",
   "execution_count": 294,
   "metadata": {
    "collapsed": false
   },
   "outputs": [],
   "source": [
    "# Load libraries\n",
    "import numpy as np\n",
    "import pandas as pd\n",
    "from sklearn.model_selection import *\n",
    "from sklearn.linear_model import LogisticRegression\n",
    "from sklearn import preprocessing\n",
    "import re\n",
    "import math\n",
    "import matplotlib.pyplot as plt\n",
    "import datetime\n",
    "%matplotlib inline\n",
    "plt.style.use('ggplot')"
   ]
  },
  {
   "cell_type": "code",
   "execution_count": 295,
   "metadata": {
    "collapsed": true
   },
   "outputs": [],
   "source": [
    "# Read in data\n",
    "raw_data = pd.read_csv('train.csv', index_col=0)\n",
    "test_data = pd.read_csv('test.csv', index_col=0)"
   ]
  },
  {
   "cell_type": "code",
   "execution_count": 296,
   "metadata": {
    "collapsed": false
   },
   "outputs": [
    {
     "name": "stdout",
     "output_type": "stream",
     "text": [
      "(26729, 9)\n",
      "             Name             DateTime      OutcomeType OutcomeSubtype  \\\n",
      "AnimalID                                                                 \n",
      "A671945   Hambone  2014-02-12 18:22:00  Return_to_owner            NaN   \n",
      "A656520     Emily  2013-10-13 12:44:00       Euthanasia      Suffering   \n",
      "A686464    Pearce  2015-01-31 12:28:00         Adoption         Foster   \n",
      "A683430       NaN  2014-07-11 19:09:00         Transfer        Partner   \n",
      "A667013       NaN  2013-11-15 12:52:00         Transfer        Partner   \n",
      "\n",
      "         AnimalType SexuponOutcome AgeuponOutcome  \\\n",
      "AnimalID                                            \n",
      "A671945         Dog  Neutered Male         1 year   \n",
      "A656520         Cat  Spayed Female         1 year   \n",
      "A686464         Dog  Neutered Male        2 years   \n",
      "A683430         Cat    Intact Male        3 weeks   \n",
      "A667013         Dog  Neutered Male        2 years   \n",
      "\n",
      "                                Breed        Color  \n",
      "AnimalID                                            \n",
      "A671945         Shetland Sheepdog Mix  Brown/White  \n",
      "A656520        Domestic Shorthair Mix  Cream Tabby  \n",
      "A686464                  Pit Bull Mix   Blue/White  \n",
      "A683430        Domestic Shorthair Mix   Blue Cream  \n",
      "A667013   Lhasa Apso/Miniature Poodle          Tan  \n"
     ]
    }
   ],
   "source": [
    "# Examine the data a little bit\n",
    "print raw_data.shape\n",
    "print raw_data.head()"
   ]
  },
  {
   "cell_type": "markdown",
   "metadata": {},
   "source": [
    "### Exploratory Data Analysis"
   ]
  },
  {
   "cell_type": "markdown",
   "metadata": {},
   "source": [
    "#### Dog cat split"
   ]
  },
  {
   "cell_type": "code",
   "execution_count": 297,
   "metadata": {
    "collapsed": false,
    "scrolled": true
   },
   "outputs": [
    {
     "name": "stdout",
     "output_type": "stream",
     "text": [
      "Dog    15595\n",
      "Cat    11134\n",
      "Name: AnimalType, dtype: int64\n"
     ]
    }
   ],
   "source": [
    "# Look at Proportion of dogs versus cats in the data\n",
    "print raw_data.AnimalType.value_counts()"
   ]
  },
  {
   "cell_type": "markdown",
   "metadata": {},
   "source": [
    "There are more dogs than cats in the training data, but both types have a reasonable amount of data. "
   ]
  },
  {
   "cell_type": "markdown",
   "metadata": {},
   "source": [
    "#### Count proportion of neutered/intact female/male"
   ]
  },
  {
   "cell_type": "code",
   "execution_count": 298,
   "metadata": {
    "collapsed": false
   },
   "outputs": [
    {
     "name": "stdout",
     "output_type": "stream",
     "text": [
      "Neutered Male    0.37\n",
      "Spayed Female    0.33\n",
      "Intact Male      0.13\n",
      "Intact Female    0.13\n",
      "Unknown          0.04\n",
      "Name: SexuponOutcome, dtype: float64\n"
     ]
    }
   ],
   "source": [
    "# Look at Proportion of males veruss females in the data\n",
    "print np.round(raw_data.SexuponOutcome.value_counts(normalize=True),2)"
   ]
  },
  {
   "cell_type": "markdown",
   "metadata": {},
   "source": [
    "There are about the same numbers of male vs female. Interestingly, there are a lot fewer intact dogs and cats."
   ]
  },
  {
   "cell_type": "markdown",
   "metadata": {},
   "source": [
    "#### Handling age variable"
   ]
  },
  {
   "cell_type": "markdown",
   "metadata": {},
   "source": [
    "Next we want to look at ages. However, the data appear to have different units (years/months/weeks/days). We will group them based on the following category:\n",
    "\n",
    "1. Puppy - Less than 1 year old\n",
    "2. Adult - Less than 7 years old\n",
    "3. Old - 7 years and above"
   ]
  },
  {
   "cell_type": "code",
   "execution_count": 299,
   "metadata": {
    "collapsed": true
   },
   "outputs": [],
   "source": [
    "data = raw_data"
   ]
  },
  {
   "cell_type": "code",
   "execution_count": 300,
   "metadata": {
    "collapsed": false
   },
   "outputs": [],
   "source": [
    "# Convert age to numeric based on below definition:\n",
    "# Age = 0 if age is less than 12 months. It is not necessary the best way to handle it because being \n",
    "data['AgeuponOutcome'] = data['AgeuponOutcome'].fillna('99 years')\n",
    "def age_handle(data):\n",
    "    out = []\n",
    "    for i in range(0, len(data)):\n",
    "        if 'year' in data[i]:\n",
    "            temp = int(re.sub(' [a-z]+', '', data[i]))\n",
    "            if temp >= 6:\n",
    "                out.append('old') #old\n",
    "            else:\n",
    "                out.append('adult') #adult\n",
    "        elif 'month' in data[i]:\n",
    "            temp = int(re.sub(' [a-z]+', '', data[i]))\n",
    "            out.append('puppy') #puppy\n",
    "        elif 'week' in data[i]:\n",
    "            out.append('puppy')\n",
    "        elif 'day' in data[i]:\n",
    "            out.append('puppy')\n",
    "    \n",
    "    return out\n",
    "\n",
    "data.AgeuponOutcome = age_handle(data.AgeuponOutcome)"
   ]
  },
  {
   "cell_type": "code",
   "execution_count": 301,
   "metadata": {
    "collapsed": false
   },
   "outputs": [
    {
     "data": {
      "text/plain": [
       "<matplotlib.axes._subplots.AxesSubplot at 0x1af32978>"
      ]
     },
     "execution_count": 301,
     "metadata": {},
     "output_type": "execute_result"
    },
    {
     "data": {
      "image/png": "[encoded data removed]",
      "text/plain": [
       "<matplotlib.figure.Figure at 0x1af32828>"
      ]
     },
     "metadata": {},
     "output_type": "display_data"
    }
   ],
   "source": [
    "data.AgeuponOutcome.value_counts(normalize=True).plot(kind='barh', figsize=(10, 3))"
   ]
  },
  {
   "cell_type": "markdown",
   "metadata": {},
   "source": [
    "It is interesting that many dogs and cats in the shelter are very young."
   ]
  },
  {
   "cell_type": "markdown",
   "metadata": {},
   "source": [
    "#### Outcome distribution"
   ]
  },
  {
   "cell_type": "code",
   "execution_count": 302,
   "metadata": {
    "collapsed": false
   },
   "outputs": [
    {
     "data": {
      "text/plain": [
       "<matplotlib.axes._subplots.AxesSubplot at 0x1adbdba8>"
      ]
     },
     "execution_count": 302,
     "metadata": {},
     "output_type": "execute_result"
    },
    {
     "data": {
      "image/png": "[encoded data removed]",
      "text/plain": [
       "<matplotlib.figure.Figure at 0x1adcf630>"
      ]
     },
     "metadata": {},
     "output_type": "display_data"
    }
   ],
   "source": [
    "# Look at outcome distribution\n",
    "labels.value_counts(normalize=True).plot(kind='barh', figsize=(10, 4))"
   ]
  },
  {
   "cell_type": "markdown",
   "metadata": {},
   "source": [
    "It is great that most sheltered animals are either adopted or transferred. Only 6% of them are euthanasiaed. "
   ]
  },
  {
   "cell_type": "markdown",
   "metadata": {},
   "source": [
    "#### Target distribution based on age outcome"
   ]
  },
  {
   "cell_type": "markdown",
   "metadata": {},
   "source": [
    "Next, we will look at the data based on the target variable to see if there are things that standout."
   ]
  },
  {
   "cell_type": "code",
   "execution_count": 303,
   "metadata": {
    "collapsed": false
   },
   "outputs": [
    {
     "data": {
      "text/plain": [
       "<matplotlib.legend.Legend at 0x1ad50cc0>"
      ]
     },
     "execution_count": 303,
     "metadata": {},
     "output_type": "execute_result"
    },
    {
     "data": {
      "image/png": "[encoded data removed]",
      "text/plain": [
       "<matplotlib.figure.Figure at 0x1ad50978>"
      ]
     },
     "metadata": {},
     "output_type": "display_data"
    }
   ],
   "source": [
    "ax = data.groupby(by='AgeuponOutcome')['OutcomeType'].value_counts(normalize=True).unstack().plot(kind='barh', stacked='True', figsize=(10,3))\n",
    "ax.legend(loc='best', bbox_to_anchor=(1.0, 0.5))"
   ]
  },
  {
   "cell_type": "markdown",
   "metadata": {},
   "source": [
    "** Observation **\n",
    "\n",
    "Puppies are much more likely to be adopted or transferred compared to adult and old. They are also less likely to be euthanasia but more likely to die. On the other hand, old and adult animals are more likely to be returned to owners, relative to puppies. "
   ]
  },
  {
   "cell_type": "markdown",
   "metadata": {},
   "source": [
    "#### Target distribution based on animal type"
   ]
  },
  {
   "cell_type": "code",
   "execution_count": 304,
   "metadata": {
    "collapsed": false
   },
   "outputs": [
    {
     "data": {
      "text/plain": [
       "<matplotlib.legend.Legend at 0x1f6700f0>"
      ]
     },
     "execution_count": 304,
     "metadata": {},
     "output_type": "execute_result"
    },
    {
     "data": {
      "image/png": "[encoded data removed]",
      "text/plain": [
       "<matplotlib.figure.Figure at 0x1f61e438>"
      ]
     },
     "metadata": {},
     "output_type": "display_data"
    }
   ],
   "source": [
    "ax = data.groupby(by='AnimalType')['OutcomeType'].value_counts(normalize=True).unstack().plot(kind='barh', stacked='True', figsize=(10,2))\n",
    "ax.legend(loc='best', bbox_to_anchor=(1.0,0.5))"
   ]
  },
  {
   "cell_type": "markdown",
   "metadata": {},
   "source": [
    "** Observation **\n",
    "\n",
    "There are couple interesting observation. First, cats' outcomes are disproportionally in the transfer category. Second, a lot more dogs were able to return to their owners than cats. It may indicate that the animal type can be a good feature to use. "
   ]
  },
  {
   "cell_type": "markdown",
   "metadata": {},
   "source": [
    "#### Target distribution based on sex and neutered status"
   ]
  },
  {
   "cell_type": "code",
   "execution_count": 305,
   "metadata": {
    "collapsed": false
   },
   "outputs": [
    {
     "data": {
      "text/plain": [
       "<matplotlib.legend.Legend at 0x1f8fed68>"
      ]
     },
     "execution_count": 305,
     "metadata": {},
     "output_type": "execute_result"
    },
    {
     "data": {
      "image/png": "[encoded data removed]",
      "text/plain": [
       "<matplotlib.figure.Figure at 0x1ad60160>"
      ]
     },
     "metadata": {},
     "output_type": "display_data"
    }
   ],
   "source": [
    "ax = data.groupby(by='SexuponOutcome')['OutcomeType'].value_counts(normalize=True).unstack().plot(kind='barh', stacked='True', figsize=(10,4))\n",
    "ax.legend(loc='best', bbox_to_anchor=(1.0,0.5))"
   ]
  },
  {
   "cell_type": "markdown",
   "metadata": {},
   "source": [
    "** Observation **\n",
    "\n",
    "This data point shows that neutered or spayed pets are much more likely to be adopted. One reason could be the cost associated with undergoing such surgeries, which discourage adopters to choose an intacted pet. On the other hand, whether the sheltered animals are male or female does not seem to make a difference in terms of outcome. This information can be useful when we do feature engineering. Lastly, there is an \"unknown\" type that seems to be closer to intact female. "
   ]
  },
  {
   "cell_type": "markdown",
   "metadata": {},
   "source": [
    "#### Date time variable"
   ]
  },
  {
   "cell_type": "markdown",
   "metadata": {},
   "source": [
    "First thing we want to do is to identify whether a date is a weekend or not. The intuition is that a weekend may lead to more adoption."
   ]
  },
  {
   "cell_type": "code",
   "execution_count": 306,
   "metadata": {
    "collapsed": false
   },
   "outputs": [],
   "source": [
    "# Check whether it is a weekend. Weekend may lead to more adoption?\n",
    "temp = pd.to_datetime(data['DateTime']).dt.weekday\n",
    "data['weekend'] = temp.isin([5,6])\n"
   ]
  },
  {
   "cell_type": "code",
   "execution_count": 307,
   "metadata": {
    "collapsed": false
   },
   "outputs": [
    {
     "data": {
      "text/plain": [
       "<matplotlib.legend.Legend at 0x1fa0b668>"
      ]
     },
     "execution_count": 307,
     "metadata": {},
     "output_type": "execute_result"
    },
    {
     "data": {
      "image/png": "[encoded data removed]",
      "text/plain": [
       "<matplotlib.figure.Figure at 0x1f9fcac8>"
      ]
     },
     "metadata": {},
     "output_type": "display_data"
    }
   ],
   "source": [
    "ax = data.groupby(by='weekend')['OutcomeType'].value_counts(normalize=True).unstack().plot(kind='barh', stacked='True', figsize=(10,4))\n",
    "ax.legend(loc='best', bbox_to_anchor=(1.0,0.5))"
   ]
  },
  {
   "cell_type": "markdown",
   "metadata": {},
   "source": [
    "**Observation**\n",
    "\n",
    "The results are in line with our intuition. Additionally, we also see more pets transferred or euthanasia on weekdays, which make sense as well. We will have a weekend flag to be a feature as well. "
   ]
  },
  {
   "cell_type": "markdown",
   "metadata": {},
   "source": [
    "A second thing we want to do is to group the time to a more reasonable category like morning, afternoon, and night. The reason is that we do not believe there is information to be extracted for small incremental time difference. Here is how we group them:\n",
    "\n",
    "1. Morning - Before 10am\n",
    "2. Lunch - 10am to 2pm\n",
    "3. Afternoon - 2pm to 5pm\n",
    "4. Night After 5pm"
   ]
  },
  {
   "cell_type": "code",
   "execution_count": 308,
   "metadata": {
    "collapsed": false
   },
   "outputs": [],
   "source": [
    "temp = pd.to_datetime(data['DateTime']).dt.hour\n",
    "bins = [0, 10, 14, 17, 24]\n",
    "names = ['morning', 'lunch', 'afternoon', 'night']\n",
    "data['OutcomeHour'] = pd.cut(temp, bins, labels=names)"
   ]
  },
  {
   "cell_type": "code",
   "execution_count": 309,
   "metadata": {
    "collapsed": false
   },
   "outputs": [
    {
     "data": {
      "text/plain": [
       "<matplotlib.legend.Legend at 0x1fc9bb38>"
      ]
     },
     "execution_count": 309,
     "metadata": {},
     "output_type": "execute_result"
    },
    {
     "data": {
      "image/png": "[encoded data removed]",
      "text/plain": [
       "<matplotlib.figure.Figure at 0x1fddb710>"
      ]
     },
     "metadata": {},
     "output_type": "display_data"
    }
   ],
   "source": [
    "ax = data.groupby(by='OutcomeHour')['OutcomeType'].value_counts(normalize=True).unstack().plot(kind='barh', stacked='True', figsize=(10,4))\n",
    "ax.legend(loc='best', bbox_to_anchor=(1.0,0.5))"
   ]
  },
  {
   "cell_type": "code",
   "execution_count": 310,
   "metadata": {
    "collapsed": false
   },
   "outputs": [
    {
     "data": {
      "text/plain": [
       "lunch        9823\n",
       "afternoon    9534\n",
       "night        4887\n",
       "morning      2107\n",
       "Name: OutcomeHour, dtype: int64"
      ]
     },
     "execution_count": 310,
     "metadata": {},
     "output_type": "execute_result"
    }
   ],
   "source": [
    "data.OutcomeHour.value_counts()"
   ]
  },
  {
   "cell_type": "markdown",
   "metadata": {},
   "source": [
    "** Observation **\n",
    "\n",
    "Most events take place during lunch time and afternoon. It is interesting to see that most adoption happened after 5pm. Adopting a pet is a big decision and involved many procedures which could potentially delayed the final time of adoption.\n",
    "\n",
    "On the other hand, Larger proportion of morning activities is euthanasia compared to other period. This seems to be in line with the typical practice in the shelter.  "
   ]
  },
  {
   "cell_type": "markdown",
   "metadata": {},
   "source": [
    "#### Breed variable"
   ]
  },
  {
   "cell_type": "markdown",
   "metadata": {},
   "source": [
    "There are way too many types of breed in the data. We will have to group them in a bigger category for it to be useful. "
   ]
  },
  {
   "cell_type": "code",
   "execution_count": 311,
   "metadata": {
    "collapsed": false
   },
   "outputs": [
    {
     "data": {
      "text/html": [
       "<div>\n",
       "<table border=\"1\" class=\"dataframe\">\n",
       "  <thead>\n",
       "    <tr style=\"text-align: right;\">\n",
       "      <th></th>\n",
       "      <th>Name</th>\n",
       "      <th>DateTime</th>\n",
       "      <th>OutcomeType</th>\n",
       "      <th>OutcomeSubtype</th>\n",
       "      <th>AnimalType</th>\n",
       "      <th>SexuponOutcome</th>\n",
       "      <th>AgeuponOutcome</th>\n",
       "      <th>Breed</th>\n",
       "      <th>Color</th>\n",
       "      <th>weekend</th>\n",
       "      <th>OutcomeHour</th>\n",
       "    </tr>\n",
       "    <tr>\n",
       "      <th>AnimalID</th>\n",
       "      <th></th>\n",
       "      <th></th>\n",
       "      <th></th>\n",
       "      <th></th>\n",
       "      <th></th>\n",
       "      <th></th>\n",
       "      <th></th>\n",
       "      <th></th>\n",
       "      <th></th>\n",
       "      <th></th>\n",
       "      <th></th>\n",
       "    </tr>\n",
       "  </thead>\n",
       "  <tbody>\n",
       "    <tr>\n",
       "      <th>A671945</th>\n",
       "      <td>Hambone</td>\n",
       "      <td>2014-02-12 18:22:00</td>\n",
       "      <td>Return_to_owner</td>\n",
       "      <td>NaN</td>\n",
       "      <td>Dog</td>\n",
       "      <td>Neutered Male</td>\n",
       "      <td>adult</td>\n",
       "      <td>Shetland Sheepdog Mix</td>\n",
       "      <td>Brown/White</td>\n",
       "      <td>False</td>\n",
       "      <td>night</td>\n",
       "    </tr>\n",
       "    <tr>\n",
       "      <th>A656520</th>\n",
       "      <td>Emily</td>\n",
       "      <td>2013-10-13 12:44:00</td>\n",
       "      <td>Euthanasia</td>\n",
       "      <td>Suffering</td>\n",
       "      <td>Cat</td>\n",
       "      <td>Spayed Female</td>\n",
       "      <td>adult</td>\n",
       "      <td>Domestic Shorthair Mix</td>\n",
       "      <td>Cream Tabby</td>\n",
       "      <td>True</td>\n",
       "      <td>lunch</td>\n",
       "    </tr>\n",
       "    <tr>\n",
       "      <th>A686464</th>\n",
       "      <td>Pearce</td>\n",
       "      <td>2015-01-31 12:28:00</td>\n",
       "      <td>Adoption</td>\n",
       "      <td>Foster</td>\n",
       "      <td>Dog</td>\n",
       "      <td>Neutered Male</td>\n",
       "      <td>adult</td>\n",
       "      <td>Pit Bull Mix</td>\n",
       "      <td>Blue/White</td>\n",
       "      <td>True</td>\n",
       "      <td>lunch</td>\n",
       "    </tr>\n",
       "    <tr>\n",
       "      <th>A683430</th>\n",
       "      <td>NaN</td>\n",
       "      <td>2014-07-11 19:09:00</td>\n",
       "      <td>Transfer</td>\n",
       "      <td>Partner</td>\n",
       "      <td>Cat</td>\n",
       "      <td>Intact Male</td>\n",
       "      <td>puppy</td>\n",
       "      <td>Domestic Shorthair Mix</td>\n",
       "      <td>Blue Cream</td>\n",
       "      <td>False</td>\n",
       "      <td>night</td>\n",
       "    </tr>\n",
       "    <tr>\n",
       "      <th>A667013</th>\n",
       "      <td>NaN</td>\n",
       "      <td>2013-11-15 12:52:00</td>\n",
       "      <td>Transfer</td>\n",
       "      <td>Partner</td>\n",
       "      <td>Dog</td>\n",
       "      <td>Neutered Male</td>\n",
       "      <td>adult</td>\n",
       "      <td>Lhasa Apso/Miniature Poodle</td>\n",
       "      <td>Tan</td>\n",
       "      <td>False</td>\n",
       "      <td>lunch</td>\n",
       "    </tr>\n",
       "  </tbody>\n",
       "</table>\n",
       "</div>"
      ],
      "text/plain": [
       "             Name             DateTime      OutcomeType OutcomeSubtype  \\\n",
       "AnimalID                                                                 \n",
       "A671945   Hambone  2014-02-12 18:22:00  Return_to_owner            NaN   \n",
       "A656520     Emily  2013-10-13 12:44:00       Euthanasia      Suffering   \n",
       "A686464    Pearce  2015-01-31 12:28:00         Adoption         Foster   \n",
       "A683430       NaN  2014-07-11 19:09:00         Transfer        Partner   \n",
       "A667013       NaN  2013-11-15 12:52:00         Transfer        Partner   \n",
       "\n",
       "         AnimalType SexuponOutcome AgeuponOutcome  \\\n",
       "AnimalID                                            \n",
       "A671945         Dog  Neutered Male          adult   \n",
       "A656520         Cat  Spayed Female          adult   \n",
       "A686464         Dog  Neutered Male          adult   \n",
       "A683430         Cat    Intact Male          puppy   \n",
       "A667013         Dog  Neutered Male          adult   \n",
       "\n",
       "                                Breed        Color weekend OutcomeHour  \n",
       "AnimalID                                                                \n",
       "A671945         Shetland Sheepdog Mix  Brown/White   False       night  \n",
       "A656520        Domestic Shorthair Mix  Cream Tabby    True       lunch  \n",
       "A686464                  Pit Bull Mix   Blue/White    True       lunch  \n",
       "A683430        Domestic Shorthair Mix   Blue Cream   False       night  \n",
       "A667013   Lhasa Apso/Miniature Poodle          Tan   False       lunch  "
      ]
     },
     "execution_count": 311,
     "metadata": {},
     "output_type": "execute_result"
    }
   ],
   "source": [
    "data.head()"
   ]
  },
  {
   "cell_type": "code",
   "execution_count": 312,
   "metadata": {
    "collapsed": false
   },
   "outputs": [
    {
     "data": {
      "text/plain": [
       "Domestic Shorthair Mix                     8810\n",
       "Domestic Medium Hair Mix                    839\n",
       "Domestic Longhair Mix                       520\n",
       "Siamese Mix                                 389\n",
       "Domestic Shorthair                          143\n",
       "Snowshoe Mix                                 75\n",
       "Maine Coon Mix                               44\n",
       "Manx Mix                                     44\n",
       "Domestic Medium Hair                         42\n",
       "Russian Blue Mix                             33\n",
       "Siamese                                      24\n",
       "Domestic Longhair                            23\n",
       "Himalayan Mix                                15\n",
       "Persian Mix                                  12\n",
       "Siamese/Domestic Shorthair                   11\n",
       "Ragdoll Mix                                  11\n",
       "American Shorthair Mix                        9\n",
       "Angora Mix                                    7\n",
       "Japanese Bobtail Mix                          6\n",
       "Bombay Mix                                    5\n",
       "Balinese Mix                                  5\n",
       "Tonkinese Mix                                 4\n",
       "Maine Coon                                    3\n",
       "Himalayan                                     3\n",
       "Pixiebob Shorthair Mix                        3\n",
       "Bengal Mix                                    3\n",
       "British Shorthair Mix                         3\n",
       "Abyssinian Mix                                2\n",
       "Domestic Medium Hair/Siamese                  2\n",
       "Siamese/Japanese Bobtail                      2\n",
       "Cymric Mix                                    2\n",
       "Turkish Van Mix                               2\n",
       "Russian Blue                                  2\n",
       "Manx/Domestic Shorthair                       2\n",
       "Bengal                                        2\n",
       "Exotic Shorthair Mix                          2\n",
       "Sphynx                                        2\n",
       "Domestic Shorthair/Siamese                    2\n",
       "Javanese Mix                                  2\n",
       "Domestic Longhair/Persian                     2\n",
       "Persian                                       2\n",
       "Snowshoe                                      2\n",
       "British Shorthair                             1\n",
       "Domestic Shorthair/Domestic Medium Hair       1\n",
       "Cornish Rex Mix                               1\n",
       "Ocicat Mix                                    1\n",
       "Domestic Shorthair/Manx                       1\n",
       "Devon Rex Mix                                 1\n",
       "Manx                                          1\n",
       "Havana Brown Mix                              1\n",
       "Manx/Domestic Longhair                        1\n",
       "Ragdoll                                       1\n",
       "Devon Rex                                     1\n",
       "Domestic Longhair/Rex                         1\n",
       "Norwegian Forest Cat Mix                      1\n",
       "Burmese                                       1\n",
       "Domestic Shorthair/British Shorthair          1\n",
       "Munchkin Longhair Mix                         1\n",
       "Snowshoe/Ragdoll                              1\n",
       "Domestic Longhair/Russian Blue                1\n",
       "Name: Breed, dtype: int64"
      ]
     },
     "execution_count": 312,
     "metadata": {},
     "output_type": "execute_result"
    }
   ],
   "source": [
    "data.loc[data['AnimalType']=='Cat',:].Breed.value_counts()"
   ]
  },
  {
   "cell_type": "code",
   "execution_count": 313,
   "metadata": {
    "collapsed": false
   },
   "outputs": [],
   "source": [
    "# Grouping various breeds\n",
    "\n",
    "def grouping_breeds(data):\n",
    "    \n",
    "    out = np.zeros(len(data))\n",
    "    for i in range(0, len(data)):\n",
    "        if 'Shepherd' in data[i]:\n",
    "            out[i] = 1\n",
    "            #out.append('Shepherd')\n",
    "        elif 'Golden Retriever' in data[i]:\n",
    "            out[i] = 1\n",
    "            #out.append('Golden Retriever')\n",
    "        elif 'Chihuahua' in data[i]:\n",
    "            out[i] = 0\n",
    "            #out.append('Chihuahua')\n",
    "        elif 'Terrier' in data[i]:\n",
    "            out[i] = 0\n",
    "            #out.append('Terrier')\n",
    "        elif 'Beagle' in data[i]:\n",
    "            out[i] = 0\n",
    "            #out.append('Beagle')\n",
    "        elif 'Husky' in data[i]:\n",
    "            out[i] = 1\n",
    "            #out.append('Husky')\n",
    "        elif 'Pit Bull' in data[i]:\n",
    "            out[i] = 1\n",
    "            #out.append('Pit Bull')\n",
    "        elif 'Labrador' in data[i]:\n",
    "            out[i] = 1\n",
    "            #out.append('Labrador')\n",
    "        elif 'Rottweiler' in data[i]:\n",
    "            out[i] = 1\n",
    "            #out.append('Rottweiler')\n",
    "        elif 'Siamese' in data[i]:\n",
    "            out[i] = 0\n",
    "            #out.append('Siamese')\n",
    "        elif 'Cattle' in data[i]:\n",
    "            out[i] = 0\n",
    "            #out.append('Cattle')\n",
    "        elif 'Bulldog' in data[i]:\n",
    "            out[i] = 1\n",
    "            #out.append('Bulldog')\n",
    "        elif 'Boxer' in data[i]:\n",
    "            out[i] = 1\n",
    "            #out.append('Boxer')\n",
    "        elif 'Dachshund' in data[i]:\n",
    "            out[i] = 0\n",
    "            #out.append('Dachshund')\n",
    "        elif 'Poodle' in data[i]:\n",
    "            out[i] = 0\n",
    "            #out.append('Poodle')\n",
    "        elif 'Shih Tzu' in data[i]:\n",
    "            out[i] = 1\n",
    "            #out.append('Shih Tzu')\n",
    "        elif 'Domestic Short' in data[i]:\n",
    "            out[i] = 0\n",
    "            #out.append('Domestic Short Hair')\n",
    "        elif 'Domestic Medium' in data[i]:\n",
    "            out[i] = 0\n",
    "            #out.append('Domestic Medium Hair')\n",
    "        elif 'Domestic Long' in data[i]:\n",
    "            out[i] = 0\n",
    "            #out.append('Domestic Long Hair')\n",
    "        else:\n",
    "            out[i] = 0\n",
    "            #out.append('Others')\n",
    "    return out\n",
    "\n",
    "data.Breed = grouping_breeds(data.Breed)"
   ]
  },
  {
   "cell_type": "markdown",
   "metadata": {},
   "source": [
    "There are many dogs and cats simply called \"domestic short hair\" or \"domestic long hair\", probably they are cats."
   ]
  },
  {
   "cell_type": "markdown",
   "metadata": {},
   "source": [
    "Next we will categorize date time."
   ]
  },
  {
   "cell_type": "code",
   "execution_count": 314,
   "metadata": {
    "collapsed": false
   },
   "outputs": [
    {
     "data": {
      "text/html": [
       "<div>\n",
       "<table border=\"1\" class=\"dataframe\">\n",
       "  <thead>\n",
       "    <tr style=\"text-align: right;\">\n",
       "      <th></th>\n",
       "      <th>Name</th>\n",
       "      <th>DateTime</th>\n",
       "      <th>OutcomeType</th>\n",
       "      <th>OutcomeSubtype</th>\n",
       "      <th>AnimalType</th>\n",
       "      <th>SexuponOutcome</th>\n",
       "      <th>AgeuponOutcome</th>\n",
       "      <th>Breed</th>\n",
       "      <th>Color</th>\n",
       "      <th>weekend</th>\n",
       "      <th>OutcomeHour</th>\n",
       "    </tr>\n",
       "    <tr>\n",
       "      <th>AnimalID</th>\n",
       "      <th></th>\n",
       "      <th></th>\n",
       "      <th></th>\n",
       "      <th></th>\n",
       "      <th></th>\n",
       "      <th></th>\n",
       "      <th></th>\n",
       "      <th></th>\n",
       "      <th></th>\n",
       "      <th></th>\n",
       "      <th></th>\n",
       "    </tr>\n",
       "  </thead>\n",
       "  <tbody>\n",
       "    <tr>\n",
       "      <th>A671945</th>\n",
       "      <td>Hambone</td>\n",
       "      <td>2014-02-12 18:22:00</td>\n",
       "      <td>Return_to_owner</td>\n",
       "      <td>NaN</td>\n",
       "      <td>Dog</td>\n",
       "      <td>Neutered Male</td>\n",
       "      <td>adult</td>\n",
       "      <td>0.0</td>\n",
       "      <td>Brown/White</td>\n",
       "      <td>False</td>\n",
       "      <td>night</td>\n",
       "    </tr>\n",
       "    <tr>\n",
       "      <th>A656520</th>\n",
       "      <td>Emily</td>\n",
       "      <td>2013-10-13 12:44:00</td>\n",
       "      <td>Euthanasia</td>\n",
       "      <td>Suffering</td>\n",
       "      <td>Cat</td>\n",
       "      <td>Spayed Female</td>\n",
       "      <td>adult</td>\n",
       "      <td>0.0</td>\n",
       "      <td>Cream Tabby</td>\n",
       "      <td>True</td>\n",
       "      <td>lunch</td>\n",
       "    </tr>\n",
       "    <tr>\n",
       "      <th>A686464</th>\n",
       "      <td>Pearce</td>\n",
       "      <td>2015-01-31 12:28:00</td>\n",
       "      <td>Adoption</td>\n",
       "      <td>Foster</td>\n",
       "      <td>Dog</td>\n",
       "      <td>Neutered Male</td>\n",
       "      <td>adult</td>\n",
       "      <td>1.0</td>\n",
       "      <td>Blue/White</td>\n",
       "      <td>True</td>\n",
       "      <td>lunch</td>\n",
       "    </tr>\n",
       "    <tr>\n",
       "      <th>A683430</th>\n",
       "      <td>NaN</td>\n",
       "      <td>2014-07-11 19:09:00</td>\n",
       "      <td>Transfer</td>\n",
       "      <td>Partner</td>\n",
       "      <td>Cat</td>\n",
       "      <td>Intact Male</td>\n",
       "      <td>puppy</td>\n",
       "      <td>0.0</td>\n",
       "      <td>Blue Cream</td>\n",
       "      <td>False</td>\n",
       "      <td>night</td>\n",
       "    </tr>\n",
       "    <tr>\n",
       "      <th>A667013</th>\n",
       "      <td>NaN</td>\n",
       "      <td>2013-11-15 12:52:00</td>\n",
       "      <td>Transfer</td>\n",
       "      <td>Partner</td>\n",
       "      <td>Dog</td>\n",
       "      <td>Neutered Male</td>\n",
       "      <td>adult</td>\n",
       "      <td>0.0</td>\n",
       "      <td>Tan</td>\n",
       "      <td>False</td>\n",
       "      <td>lunch</td>\n",
       "    </tr>\n",
       "  </tbody>\n",
       "</table>\n",
       "</div>"
      ],
      "text/plain": [
       "             Name             DateTime      OutcomeType OutcomeSubtype  \\\n",
       "AnimalID                                                                 \n",
       "A671945   Hambone  2014-02-12 18:22:00  Return_to_owner            NaN   \n",
       "A656520     Emily  2013-10-13 12:44:00       Euthanasia      Suffering   \n",
       "A686464    Pearce  2015-01-31 12:28:00         Adoption         Foster   \n",
       "A683430       NaN  2014-07-11 19:09:00         Transfer        Partner   \n",
       "A667013       NaN  2013-11-15 12:52:00         Transfer        Partner   \n",
       "\n",
       "         AnimalType SexuponOutcome AgeuponOutcome  Breed        Color weekend  \\\n",
       "AnimalID                                                                        \n",
       "A671945         Dog  Neutered Male          adult    0.0  Brown/White   False   \n",
       "A656520         Cat  Spayed Female          adult    0.0  Cream Tabby    True   \n",
       "A686464         Dog  Neutered Male          adult    1.0   Blue/White    True   \n",
       "A683430         Cat    Intact Male          puppy    0.0   Blue Cream   False   \n",
       "A667013         Dog  Neutered Male          adult    0.0          Tan   False   \n",
       "\n",
       "         OutcomeHour  \n",
       "AnimalID              \n",
       "A671945        night  \n",
       "A656520        lunch  \n",
       "A686464        lunch  \n",
       "A683430        night  \n",
       "A667013        lunch  "
      ]
     },
     "execution_count": 314,
     "metadata": {},
     "output_type": "execute_result"
    }
   ],
   "source": [
    "# Morning = 0, Afternoon = 1, Night = 2\n",
    "# Create a new variable to capture weekday vs weekend\n",
    "data.head()"
   ]
  },
  {
   "cell_type": "markdown",
   "metadata": {},
   "source": [
    "### Data manipulation: Convert string to numeric categories\n"
   ]
  },
  {
   "cell_type": "code",
   "execution_count": 315,
   "metadata": {
    "collapsed": false
   },
   "outputs": [],
   "source": [
    "le = preprocessing.LabelEncoder()\n",
    "data['AnimalType'] = le.fit_transform(data['AnimalType'])\n",
    "test_data['AnimalType'] = le.fit_transform(test_data['AnimalType'])"
   ]
  },
  {
   "cell_type": "code",
   "execution_count": 316,
   "metadata": {
    "collapsed": false,
    "scrolled": true
   },
   "outputs": [],
   "source": [
    "data.replace(to_replace=['Unknown','nan', 'Intact Male', 'Intact Female'], value=1, inplace=True)\n",
    "data.replace(to_replace=['Neutered Male', 'Spayed Female'], value=0, inplace=True)\n",
    "\n",
    "test_data.replace(to_replace=['Unknown','nan', 'Intact Male', 'Intact Female'], value=1, inplace=True)\n",
    "test_data.replace(to_replace=['Neutered Male', 'Spayed Female'], value=0, inplace=True)"
   ]
  },
  {
   "cell_type": "code",
   "execution_count": 317,
   "metadata": {
    "collapsed": false
   },
   "outputs": [],
   "source": [
    "data['AgeuponOutcome'] = le.fit_transform(data['AgeuponOutcome'])\n",
    "data['weekend'] = le.fit_transform(data['weekend'])\n",
    "data['OutcomeHour'] = le.fit_transform(data['OutcomeHour'])\n",
    "data['OutcomeType'] = le.fit_transform(data['OutcomeType'])"
   ]
  },
  {
   "cell_type": "code",
   "execution_count": 318,
   "metadata": {
    "collapsed": false
   },
   "outputs": [
    {
     "data": {
      "text/html": [
       "<div>\n",
       "<table border=\"1\" class=\"dataframe\">\n",
       "  <thead>\n",
       "    <tr style=\"text-align: right;\">\n",
       "      <th></th>\n",
       "      <th>Name</th>\n",
       "      <th>DateTime</th>\n",
       "      <th>OutcomeType</th>\n",
       "      <th>OutcomeSubtype</th>\n",
       "      <th>AnimalType</th>\n",
       "      <th>SexuponOutcome</th>\n",
       "      <th>AgeuponOutcome</th>\n",
       "      <th>Breed</th>\n",
       "      <th>Color</th>\n",
       "      <th>weekend</th>\n",
       "      <th>OutcomeHour</th>\n",
       "    </tr>\n",
       "    <tr>\n",
       "      <th>AnimalID</th>\n",
       "      <th></th>\n",
       "      <th></th>\n",
       "      <th></th>\n",
       "      <th></th>\n",
       "      <th></th>\n",
       "      <th></th>\n",
       "      <th></th>\n",
       "      <th></th>\n",
       "      <th></th>\n",
       "      <th></th>\n",
       "      <th></th>\n",
       "    </tr>\n",
       "  </thead>\n",
       "  <tbody>\n",
       "    <tr>\n",
       "      <th>A671945</th>\n",
       "      <td>Hambone</td>\n",
       "      <td>2014-02-12 18:22:00</td>\n",
       "      <td>3</td>\n",
       "      <td>NaN</td>\n",
       "      <td>1</td>\n",
       "      <td>0.0</td>\n",
       "      <td>0</td>\n",
       "      <td>0.0</td>\n",
       "      <td>Brown/White</td>\n",
       "      <td>0</td>\n",
       "      <td>4</td>\n",
       "    </tr>\n",
       "    <tr>\n",
       "      <th>A656520</th>\n",
       "      <td>Emily</td>\n",
       "      <td>2013-10-13 12:44:00</td>\n",
       "      <td>2</td>\n",
       "      <td>Suffering</td>\n",
       "      <td>0</td>\n",
       "      <td>0.0</td>\n",
       "      <td>0</td>\n",
       "      <td>0.0</td>\n",
       "      <td>Cream Tabby</td>\n",
       "      <td>1</td>\n",
       "      <td>2</td>\n",
       "    </tr>\n",
       "    <tr>\n",
       "      <th>A686464</th>\n",
       "      <td>Pearce</td>\n",
       "      <td>2015-01-31 12:28:00</td>\n",
       "      <td>0</td>\n",
       "      <td>Foster</td>\n",
       "      <td>1</td>\n",
       "      <td>0.0</td>\n",
       "      <td>0</td>\n",
       "      <td>1.0</td>\n",
       "      <td>Blue/White</td>\n",
       "      <td>1</td>\n",
       "      <td>2</td>\n",
       "    </tr>\n",
       "    <tr>\n",
       "      <th>A683430</th>\n",
       "      <td>NaN</td>\n",
       "      <td>2014-07-11 19:09:00</td>\n",
       "      <td>4</td>\n",
       "      <td>Partner</td>\n",
       "      <td>0</td>\n",
       "      <td>1.0</td>\n",
       "      <td>2</td>\n",
       "      <td>0.0</td>\n",
       "      <td>Blue Cream</td>\n",
       "      <td>0</td>\n",
       "      <td>4</td>\n",
       "    </tr>\n",
       "    <tr>\n",
       "      <th>A667013</th>\n",
       "      <td>NaN</td>\n",
       "      <td>2013-11-15 12:52:00</td>\n",
       "      <td>4</td>\n",
       "      <td>Partner</td>\n",
       "      <td>1</td>\n",
       "      <td>0.0</td>\n",
       "      <td>0</td>\n",
       "      <td>0.0</td>\n",
       "      <td>Tan</td>\n",
       "      <td>0</td>\n",
       "      <td>2</td>\n",
       "    </tr>\n",
       "  </tbody>\n",
       "</table>\n",
       "</div>"
      ],
      "text/plain": [
       "             Name             DateTime  OutcomeType OutcomeSubtype  \\\n",
       "AnimalID                                                             \n",
       "A671945   Hambone  2014-02-12 18:22:00            3            NaN   \n",
       "A656520     Emily  2013-10-13 12:44:00            2      Suffering   \n",
       "A686464    Pearce  2015-01-31 12:28:00            0         Foster   \n",
       "A683430       NaN  2014-07-11 19:09:00            4        Partner   \n",
       "A667013       NaN  2013-11-15 12:52:00            4        Partner   \n",
       "\n",
       "          AnimalType  SexuponOutcome  AgeuponOutcome  Breed        Color  \\\n",
       "AnimalID                                                                   \n",
       "A671945            1             0.0               0    0.0  Brown/White   \n",
       "A656520            0             0.0               0    0.0  Cream Tabby   \n",
       "A686464            1             0.0               0    1.0   Blue/White   \n",
       "A683430            0             1.0               2    0.0   Blue Cream   \n",
       "A667013            1             0.0               0    0.0          Tan   \n",
       "\n",
       "          weekend  OutcomeHour  \n",
       "AnimalID                        \n",
       "A671945         0            4  \n",
       "A656520         1            2  \n",
       "A686464         1            2  \n",
       "A683430         0            4  \n",
       "A667013         0            2  "
      ]
     },
     "execution_count": 318,
     "metadata": {},
     "output_type": "execute_result"
    }
   ],
   "source": [
    "data.head()"
   ]
  },
  {
   "cell_type": "code",
   "execution_count": 319,
   "metadata": {
    "collapsed": false
   },
   "outputs": [],
   "source": [
    "labels = data.OutcomeType\n",
    "data = data.drop('OutcomeType', 1)"
   ]
  },
  {
   "cell_type": "code",
   "execution_count": 320,
   "metadata": {
    "collapsed": false
   },
   "outputs": [],
   "source": [
    "# Splitting data into train set and development set\n",
    "train_data, dev_data, train_labels, dev_labels = train_test_split(data, labels, test_size=0.3, random_state=0)"
   ]
  },
  {
   "cell_type": "markdown",
   "metadata": {},
   "source": [
    "### Determine features that are applicable"
   ]
  },
  {
   "cell_type": "code",
   "execution_count": 321,
   "metadata": {
    "collapsed": false
   },
   "outputs": [],
   "source": [
    "# Determine a feature set\n",
    "feature_names = ['AnimalType','SexuponOutcome','AgeuponOutcome', 'weekend', 'OutcomeHour']\n",
    "features = train_data.loc[:, feature_names]"
   ]
  },
  {
   "cell_type": "code",
   "execution_count": 334,
   "metadata": {
    "collapsed": false
   },
   "outputs": [
    {
     "data": {
      "text/plain": [
       "(18710, 5)"
      ]
     },
     "execution_count": 334,
     "metadata": {},
     "output_type": "execute_result"
    }
   ],
   "source": [
    "features.shape"
   ]
  },
  {
   "cell_type": "markdown",
   "metadata": {},
   "source": [
    "### Apply machine learning techniques"
   ]
  },
  {
   "cell_type": "code",
   "execution_count": 323,
   "metadata": {
    "collapsed": false
   },
   "outputs": [
    {
     "ename": "ValueError",
     "evalue": "Input contains NaN, infinity or a value too large for dtype('float64').",
     "output_type": "error",
     "traceback": [
      "\u001b[0;31m\u001b[0m",
      "\u001b[0;31mValueError\u001b[0mTraceback (most recent call last)",
      "\u001b[0;32m<ipython-input-323-9ea5b023fcce>\u001b[0m in \u001b[0;36m<module>\u001b[0;34m()\u001b[0m\n\u001b[1;32m      1\u001b[0m \u001b[1;31m# Logictic regression\u001b[0m\u001b[1;33m\u001b[0m\u001b[1;33m\u001b[0m\u001b[0m\n\u001b[1;32m      2\u001b[0m \u001b[0mmdl\u001b[0m \u001b[1;33m=\u001b[0m \u001b[0mLogisticRegression\u001b[0m\u001b[1;33m(\u001b[0m\u001b[1;33m)\u001b[0m\u001b[1;33m\u001b[0m\u001b[0m\n\u001b[0;32m----> 3\u001b[0;31m \u001b[0mmdl\u001b[0m\u001b[1;33m.\u001b[0m\u001b[0mfit\u001b[0m\u001b[1;33m(\u001b[0m\u001b[0mfeatures\u001b[0m\u001b[1;33m,\u001b[0m \u001b[0mtrain_labels\u001b[0m\u001b[1;33m)\u001b[0m\u001b[1;33m\u001b[0m\u001b[0m\n\u001b[0m\u001b[1;32m      4\u001b[0m \u001b[0mprediction\u001b[0m \u001b[1;33m=\u001b[0m \u001b[0mmdl\u001b[0m\u001b[1;33m.\u001b[0m\u001b[0mpredict\u001b[0m\u001b[1;33m(\u001b[0m\u001b[0mdev_data\u001b[0m\u001b[1;33m.\u001b[0m\u001b[0mloc\u001b[0m\u001b[1;33m[\u001b[0m\u001b[1;33m:\u001b[0m\u001b[1;33m,\u001b[0m\u001b[0mfeatures\u001b[0m\u001b[1;33m.\u001b[0m\u001b[0mcolumns\u001b[0m\u001b[1;33m.\u001b[0m\u001b[0mvalues\u001b[0m\u001b[1;33m]\u001b[0m\u001b[1;33m)\u001b[0m\u001b[1;33m\u001b[0m\u001b[0m\n\u001b[1;32m      5\u001b[0m \u001b[1;33m\u001b[0m\u001b[0m\n",
      "\u001b[0;32mC:\\Users\\kasey\\Anaconda2\\lib\\site-packages\\sklearn\\linear_model\\logistic.pyc\u001b[0m in \u001b[0;36mfit\u001b[0;34m(self, X, y, sample_weight)\u001b[0m\n\u001b[1;32m   1171\u001b[0m \u001b[1;33m\u001b[0m\u001b[0m\n\u001b[1;32m   1172\u001b[0m         X, y = check_X_y(X, y, accept_sparse='csr', dtype=np.float64,\n\u001b[0;32m-> 1173\u001b[0;31m                          order=\"C\")\n\u001b[0m\u001b[1;32m   1174\u001b[0m         \u001b[0mcheck_classification_targets\u001b[0m\u001b[1;33m(\u001b[0m\u001b[0my\u001b[0m\u001b[1;33m)\u001b[0m\u001b[1;33m\u001b[0m\u001b[0m\n\u001b[1;32m   1175\u001b[0m         \u001b[0mself\u001b[0m\u001b[1;33m.\u001b[0m\u001b[0mclasses_\u001b[0m \u001b[1;33m=\u001b[0m \u001b[0mnp\u001b[0m\u001b[1;33m.\u001b[0m\u001b[0munique\u001b[0m\u001b[1;33m(\u001b[0m\u001b[0my\u001b[0m\u001b[1;33m)\u001b[0m\u001b[1;33m\u001b[0m\u001b[0m\n",
      "\u001b[0;32mC:\\Users\\kasey\\Anaconda2\\lib\\site-packages\\sklearn\\utils\\validation.pyc\u001b[0m in \u001b[0;36mcheck_X_y\u001b[0;34m(X, y, accept_sparse, dtype, order, copy, force_all_finite, ensure_2d, allow_nd, multi_output, ensure_min_samples, ensure_min_features, y_numeric, warn_on_dtype, estimator)\u001b[0m\n\u001b[1;32m    519\u001b[0m     X = check_array(X, accept_sparse, dtype, order, copy, force_all_finite,\n\u001b[1;32m    520\u001b[0m                     \u001b[0mensure_2d\u001b[0m\u001b[1;33m,\u001b[0m \u001b[0mallow_nd\u001b[0m\u001b[1;33m,\u001b[0m \u001b[0mensure_min_samples\u001b[0m\u001b[1;33m,\u001b[0m\u001b[1;33m\u001b[0m\u001b[0m\n\u001b[0;32m--> 521\u001b[0;31m                     ensure_min_features, warn_on_dtype, estimator)\n\u001b[0m\u001b[1;32m    522\u001b[0m     \u001b[1;32mif\u001b[0m \u001b[0mmulti_output\u001b[0m\u001b[1;33m:\u001b[0m\u001b[1;33m\u001b[0m\u001b[0m\n\u001b[1;32m    523\u001b[0m         y = check_array(y, 'csr', force_all_finite=True, ensure_2d=False,\n",
      "\u001b[0;32mC:\\Users\\kasey\\Anaconda2\\lib\\site-packages\\sklearn\\utils\\validation.pyc\u001b[0m in \u001b[0;36mcheck_array\u001b[0;34m(array, accept_sparse, dtype, order, copy, force_all_finite, ensure_2d, allow_nd, ensure_min_samples, ensure_min_features, warn_on_dtype, estimator)\u001b[0m\n\u001b[1;32m    405\u001b[0m                              % (array.ndim, estimator_name))\n\u001b[1;32m    406\u001b[0m         \u001b[1;32mif\u001b[0m \u001b[0mforce_all_finite\u001b[0m\u001b[1;33m:\u001b[0m\u001b[1;33m\u001b[0m\u001b[0m\n\u001b[0;32m--> 407\u001b[0;31m             \u001b[0m_assert_all_finite\u001b[0m\u001b[1;33m(\u001b[0m\u001b[0marray\u001b[0m\u001b[1;33m)\u001b[0m\u001b[1;33m\u001b[0m\u001b[0m\n\u001b[0m\u001b[1;32m    408\u001b[0m \u001b[1;33m\u001b[0m\u001b[0m\n\u001b[1;32m    409\u001b[0m     \u001b[0mshape_repr\u001b[0m \u001b[1;33m=\u001b[0m \u001b[0m_shape_repr\u001b[0m\u001b[1;33m(\u001b[0m\u001b[0marray\u001b[0m\u001b[1;33m.\u001b[0m\u001b[0mshape\u001b[0m\u001b[1;33m)\u001b[0m\u001b[1;33m\u001b[0m\u001b[0m\n",
      "\u001b[0;32mC:\\Users\\kasey\\Anaconda2\\lib\\site-packages\\sklearn\\utils\\validation.pyc\u001b[0m in \u001b[0;36m_assert_all_finite\u001b[0;34m(X)\u001b[0m\n\u001b[1;32m     56\u001b[0m             and not np.isfinite(X).all()):\n\u001b[1;32m     57\u001b[0m         raise ValueError(\"Input contains NaN, infinity\"\n\u001b[0;32m---> 58\u001b[0;31m                          \" or a value too large for %r.\" % X.dtype)\n\u001b[0m\u001b[1;32m     59\u001b[0m \u001b[1;33m\u001b[0m\u001b[0m\n\u001b[1;32m     60\u001b[0m \u001b[1;33m\u001b[0m\u001b[0m\n",
      "\u001b[0;31mValueError\u001b[0m: Input contains NaN, infinity or a value too large for dtype('float64')."
     ]
    }
   ],
   "source": [
    "# Logictic regression\n",
    "mdl = LogisticRegression()\n",
    "mdl.fit(features, train_labels)\n",
    "prediction = mdl.predict(dev_data.loc[:,features.columns.values])\n",
    "\n",
    "# Prediction accuracy\n",
    "print 'Prediction accuracy:', np.mean(prediction == dev_labels)"
   ]
  },
  {
   "cell_type": "code",
   "execution_count": null,
   "metadata": {
    "collapsed": false
   },
   "outputs": [],
   "source": [
    "train_data.Breed.value_counts()"
   ]
  },
  {
   "cell_type": "code",
   "execution_count": null,
   "metadata": {
    "collapsed": false
   },
   "outputs": [],
   "source": [
    "# Make predictions of test data\n",
    "#prediction = mdl.predict_proba(test_data.loc[:,['AnimalType','SexuponOutcome']])"
   ]
  },
  {
   "cell_type": "code",
   "execution_count": null,
   "metadata": {
    "collapsed": false
   },
   "outputs": [],
   "source": [
    "# Format an output file\n",
    "#out = np.zeros((prediction.shape[0], 5))\n",
    "\n",
    "#for i in range(out.shape[0]):\n",
    "#    out[i, prediction[i]] = 1\n",
    "\n",
    "# Convert to panda dataframe\n",
    "#out = pd.DataFrame(data=prediction, index=test_data.ID, columns=['Return_to_owner','Adoption','Euthanasia','Transfer','Died'])"
   ]
  },
  {
   "cell_type": "code",
   "execution_count": null,
   "metadata": {
    "collapsed": false
   },
   "outputs": [],
   "source": [
    "#out.head()"
   ]
  },
  {
   "cell_type": "code",
   "execution_count": null,
   "metadata": {
    "collapsed": true
   },
   "outputs": [],
   "source": [
    "#out.to_csv('results.csv')"
   ]
  },
  {
   "cell_type": "code",
   "execution_count": null,
   "metadata": {
    "collapsed": true
   },
   "outputs": [],
   "source": []
  }
 ],
 "metadata": {
  "anaconda-cloud": {},
  "kernelspec": {
   "display_name": "Python [default]",
   "language": "python",
   "name": "python2"
  },
  "language_info": {
   "codemirror_mode": {
    "name": "ipython",
    "version": 2
   },
   "file_extension": ".py",
   "mimetype": "text/x-python",
   "name": "python",
   "nbconvert_exporter": "python",
   "pygments_lexer": "ipython2",
   "version": "2.7.12"
  }
 },
 "nbformat": 4,
 "nbformat_minor": 1
}
