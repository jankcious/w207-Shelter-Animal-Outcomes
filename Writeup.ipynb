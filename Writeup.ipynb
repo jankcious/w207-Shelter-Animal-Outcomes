{
 "cells": [
  {
   "cell_type": "markdown",
   "metadata": {},
   "source": [
    "# Animal Shelter Outcomes\n",
    "\n"
   ]
  },
  {
   "cell_type": "markdown",
   "metadata": {},
   "source": [
    "## Business Understanding\n",
    "\n",
    "### What problem are we trying to solve?\n",
    "Every year, approximately 7.6 million companion animals end up in US shelters. Many animals are given up as unwanted by their owners, while others are picked up after getting lost or taken out of cruelty situations. Many of these animals find forever families to take them home, but just as many are not so lucky. 2.7 million dogs and cats are euthanized in the US every year.  We need to understand which animals are at the greatest risk of euthanization in order to help them.\n",
    "\n",
    "### What are the relevant metrics?  How much do we plan to improve them?\n",
    "We will use the multiclass logarithmic loss of our predictions on the test data to evaluate the successfullness.\n",
    "\n",
    "### What will we deliver?\n",
    "We will deliver a model that can predict the probability of each of the four possible outcomes for every animal in the data set, and an overall score for that model.  If possible, we will identify some of the more prominent features in the model in order to give visibility into risk factors for euthanization.\n"
   ]
  },
  {
   "cell_type": "markdown",
   "metadata": {},
   "source": [
    "## Data Understanding"
   ]
  },
  {
   "cell_type": "code",
   "execution_count": 335,
   "metadata": {
    "collapsed": true
   },
   "outputs": [],
   "source": [
    "# Load libraries\n",
    "import numpy as np\n",
    "import pandas as pd\n",
    "from sklearn.model_selection import *\n",
    "from sklearn.linear_model import LogisticRegression\n",
    "from sklearn.ensemble import RandomForestClassifier\n",
    "from sklearn.ensemble import GradientBoostingClassifier\n",
    "from sklearn import preprocessing\n",
    "from sklearn.feature_extraction.text import CountVectorizer\n",
    "from sklearn.feature_extraction import DictVectorizer\n",
    "from sklearn.model_selection import GridSearchCV\n",
    "from scipy.stats import randint as sp_randint\n",
    "from sklearn.model_selection import cross_val_score\n",
    "from sklearn.preprocessing import OneHotEncoder\n",
    "from sklearn.metrics import confusion_matrix\n",
    "import matplotlib.pyplot as plt\n",
    "import datetime\n",
    "%matplotlib inline\n",
    "plt.style.use('ggplot')"
   ]
  },
  {
   "cell_type": "code",
   "execution_count": 336,
   "metadata": {
    "collapsed": true
   },
   "outputs": [],
   "source": [
    "# Read in data\n",
    "raw_data = pd.read_csv('train.csv', index_col=False)\n",
    "test_data = pd.read_csv('test.csv', index_col=False)"
   ]
  },
  {
   "cell_type": "code",
   "execution_count": 337,
   "metadata": {
    "collapsed": false,
    "scrolled": true
   },
   "outputs": [
    {
     "data": {
      "text/html": [
       "<div>\n",
       "<table border=\"1\" class=\"dataframe\">\n",
       "  <thead>\n",
       "    <tr style=\"text-align: right;\">\n",
       "      <th></th>\n",
       "      <th>AnimalID</th>\n",
       "      <th>Name</th>\n",
       "      <th>DateTime</th>\n",
       "      <th>OutcomeType</th>\n",
       "      <th>OutcomeSubtype</th>\n",
       "      <th>AnimalType</th>\n",
       "      <th>SexuponOutcome</th>\n",
       "      <th>AgeuponOutcome</th>\n",
       "      <th>Breed</th>\n",
       "      <th>Color</th>\n",
       "    </tr>\n",
       "  </thead>\n",
       "  <tbody>\n",
       "    <tr>\n",
       "      <th>0</th>\n",
       "      <td>A671945</td>\n",
       "      <td>Hambone</td>\n",
       "      <td>2014-02-12 18:22:00</td>\n",
       "      <td>Return_to_owner</td>\n",
       "      <td>NaN</td>\n",
       "      <td>Dog</td>\n",
       "      <td>Neutered Male</td>\n",
       "      <td>1 year</td>\n",
       "      <td>Shetland Sheepdog Mix</td>\n",
       "      <td>Brown/White</td>\n",
       "    </tr>\n",
       "    <tr>\n",
       "      <th>1</th>\n",
       "      <td>A656520</td>\n",
       "      <td>Emily</td>\n",
       "      <td>2013-10-13 12:44:00</td>\n",
       "      <td>Euthanasia</td>\n",
       "      <td>Suffering</td>\n",
       "      <td>Cat</td>\n",
       "      <td>Spayed Female</td>\n",
       "      <td>1 year</td>\n",
       "      <td>Domestic Shorthair Mix</td>\n",
       "      <td>Cream Tabby</td>\n",
       "    </tr>\n",
       "    <tr>\n",
       "      <th>2</th>\n",
       "      <td>A686464</td>\n",
       "      <td>Pearce</td>\n",
       "      <td>2015-01-31 12:28:00</td>\n",
       "      <td>Adoption</td>\n",
       "      <td>Foster</td>\n",
       "      <td>Dog</td>\n",
       "      <td>Neutered Male</td>\n",
       "      <td>2 years</td>\n",
       "      <td>Pit Bull Mix</td>\n",
       "      <td>Blue/White</td>\n",
       "    </tr>\n",
       "    <tr>\n",
       "      <th>3</th>\n",
       "      <td>A683430</td>\n",
       "      <td>NaN</td>\n",
       "      <td>2014-07-11 19:09:00</td>\n",
       "      <td>Transfer</td>\n",
       "      <td>Partner</td>\n",
       "      <td>Cat</td>\n",
       "      <td>Intact Male</td>\n",
       "      <td>3 weeks</td>\n",
       "      <td>Domestic Shorthair Mix</td>\n",
       "      <td>Blue Cream</td>\n",
       "    </tr>\n",
       "    <tr>\n",
       "      <th>4</th>\n",
       "      <td>A667013</td>\n",
       "      <td>NaN</td>\n",
       "      <td>2013-11-15 12:52:00</td>\n",
       "      <td>Transfer</td>\n",
       "      <td>Partner</td>\n",
       "      <td>Dog</td>\n",
       "      <td>Neutered Male</td>\n",
       "      <td>2 years</td>\n",
       "      <td>Lhasa Apso/Miniature Poodle</td>\n",
       "      <td>Tan</td>\n",
       "    </tr>\n",
       "  </tbody>\n",
       "</table>\n",
       "</div>"
      ],
      "text/plain": [
       "  AnimalID     Name             DateTime      OutcomeType OutcomeSubtype  \\\n",
       "0  A671945  Hambone  2014-02-12 18:22:00  Return_to_owner            NaN   \n",
       "1  A656520    Emily  2013-10-13 12:44:00       Euthanasia      Suffering   \n",
       "2  A686464   Pearce  2015-01-31 12:28:00         Adoption         Foster   \n",
       "3  A683430      NaN  2014-07-11 19:09:00         Transfer        Partner   \n",
       "4  A667013      NaN  2013-11-15 12:52:00         Transfer        Partner   \n",
       "\n",
       "  AnimalType SexuponOutcome AgeuponOutcome                        Breed  \\\n",
       "0        Dog  Neutered Male         1 year        Shetland Sheepdog Mix   \n",
       "1        Cat  Spayed Female         1 year       Domestic Shorthair Mix   \n",
       "2        Dog  Neutered Male        2 years                 Pit Bull Mix   \n",
       "3        Cat    Intact Male        3 weeks       Domestic Shorthair Mix   \n",
       "4        Dog  Neutered Male        2 years  Lhasa Apso/Miniature Poodle   \n",
       "\n",
       "         Color  \n",
       "0  Brown/White  \n",
       "1  Cream Tabby  \n",
       "2   Blue/White  \n",
       "3   Blue Cream  \n",
       "4          Tan  "
      ]
     },
     "execution_count": 337,
     "metadata": {},
     "output_type": "execute_result"
    }
   ],
   "source": [
    "# Check the raw data\n",
    "raw_data.head()"
   ]
  },
  {
   "cell_type": "code",
   "execution_count": 338,
   "metadata": {
    "collapsed": false
   },
   "outputs": [
    {
     "data": {
      "text/html": [
       "<div>\n",
       "<table border=\"1\" class=\"dataframe\">\n",
       "  <thead>\n",
       "    <tr style=\"text-align: right;\">\n",
       "      <th></th>\n",
       "      <th>ID</th>\n",
       "      <th>Name</th>\n",
       "      <th>DateTime</th>\n",
       "      <th>AnimalType</th>\n",
       "      <th>SexuponOutcome</th>\n",
       "      <th>AgeuponOutcome</th>\n",
       "      <th>Breed</th>\n",
       "      <th>Color</th>\n",
       "    </tr>\n",
       "  </thead>\n",
       "  <tbody>\n",
       "    <tr>\n",
       "      <th>0</th>\n",
       "      <td>1</td>\n",
       "      <td>Summer</td>\n",
       "      <td>2015-10-12 12:15:00</td>\n",
       "      <td>Dog</td>\n",
       "      <td>Intact Female</td>\n",
       "      <td>10 months</td>\n",
       "      <td>Labrador Retriever Mix</td>\n",
       "      <td>Red/White</td>\n",
       "    </tr>\n",
       "    <tr>\n",
       "      <th>1</th>\n",
       "      <td>2</td>\n",
       "      <td>Cheyenne</td>\n",
       "      <td>2014-07-26 17:59:00</td>\n",
       "      <td>Dog</td>\n",
       "      <td>Spayed Female</td>\n",
       "      <td>2 years</td>\n",
       "      <td>German Shepherd/Siberian Husky</td>\n",
       "      <td>Black/Tan</td>\n",
       "    </tr>\n",
       "    <tr>\n",
       "      <th>2</th>\n",
       "      <td>3</td>\n",
       "      <td>Gus</td>\n",
       "      <td>2016-01-13 12:20:00</td>\n",
       "      <td>Cat</td>\n",
       "      <td>Neutered Male</td>\n",
       "      <td>1 year</td>\n",
       "      <td>Domestic Shorthair Mix</td>\n",
       "      <td>Brown Tabby</td>\n",
       "    </tr>\n",
       "    <tr>\n",
       "      <th>3</th>\n",
       "      <td>4</td>\n",
       "      <td>Pongo</td>\n",
       "      <td>2013-12-28 18:12:00</td>\n",
       "      <td>Dog</td>\n",
       "      <td>Intact Male</td>\n",
       "      <td>4 months</td>\n",
       "      <td>Collie Smooth Mix</td>\n",
       "      <td>Tricolor</td>\n",
       "    </tr>\n",
       "    <tr>\n",
       "      <th>4</th>\n",
       "      <td>5</td>\n",
       "      <td>Skooter</td>\n",
       "      <td>2015-09-24 17:59:00</td>\n",
       "      <td>Dog</td>\n",
       "      <td>Neutered Male</td>\n",
       "      <td>2 years</td>\n",
       "      <td>Miniature Poodle Mix</td>\n",
       "      <td>White</td>\n",
       "    </tr>\n",
       "  </tbody>\n",
       "</table>\n",
       "</div>"
      ],
      "text/plain": [
       "   ID      Name             DateTime AnimalType SexuponOutcome AgeuponOutcome  \\\n",
       "0   1    Summer  2015-10-12 12:15:00        Dog  Intact Female      10 months   \n",
       "1   2  Cheyenne  2014-07-26 17:59:00        Dog  Spayed Female        2 years   \n",
       "2   3       Gus  2016-01-13 12:20:00        Cat  Neutered Male         1 year   \n",
       "3   4     Pongo  2013-12-28 18:12:00        Dog    Intact Male       4 months   \n",
       "4   5   Skooter  2015-09-24 17:59:00        Dog  Neutered Male        2 years   \n",
       "\n",
       "                            Breed        Color  \n",
       "0          Labrador Retriever Mix    Red/White  \n",
       "1  German Shepherd/Siberian Husky    Black/Tan  \n",
       "2          Domestic Shorthair Mix  Brown Tabby  \n",
       "3               Collie Smooth Mix     Tricolor  \n",
       "4            Miniature Poodle Mix        White  "
      ]
     },
     "execution_count": 338,
     "metadata": {},
     "output_type": "execute_result"
    }
   ],
   "source": [
    "# Check the test data\n",
    "test_data.head()"
   ]
  },
  {
   "cell_type": "markdown",
   "metadata": {},
   "source": [
    "### What are the raw data sources and what does each unit of data represent?"
   ]
  },
  {
   "cell_type": "markdown",
   "metadata": {},
   "source": [
    "- The raw data is sourced from Austin Animal Center, and each unit is an animal record that had stayed in the that shelter in the past."
   ]
  },
  {
   "cell_type": "markdown",
   "metadata": {},
   "source": [
    "**What are the fields?**"
   ]
  },
  {
   "cell_type": "markdown",
   "metadata": {},
   "source": [
    "- AnimalID – A unique identifier of each shelter animal\n",
    "- Name – An animal’s name\n",
    "- OutcomeType – Different kind of outcomes for shelter animals. Possibly options are adopted, return to owner, died, euthanized, and transfer\n",
    "- DateTime – The time when one of the OutcomeType occurred for an animal\n",
    "- OutcomeSubtype – Further breakdown of major outcome type.  This is not present in test data\n",
    "- AnimalType – Dog or cat\n",
    "- SexuponOutcome – Male or Female. Whether an animal is intact, neutered or spayed\n",
    "- AgeuponOutcome – An animal’s age when one of the outcomes happened\n",
    "- Breed – Different breeds of dogs and cats\n",
    "- Color – Colors of the shelter animals\n"
   ]
  },
  {
   "cell_type": "markdown",
   "metadata": {},
   "source": [
    "### Exploratory Data Analysis"
   ]
  },
  {
   "cell_type": "markdown",
   "metadata": {},
   "source": [
    "   * *Distribution of Outcome*"
   ]
  },
  {
   "cell_type": "code",
   "execution_count": 339,
   "metadata": {
    "collapsed": false
   },
   "outputs": [
    {
     "data": {
      "text/plain": [
       "<matplotlib.axes._subplots.AxesSubplot at 0x29e39198>"
      ]
     },
     "execution_count": 339,
     "metadata": {},
     "output_type": "execute_result"
    },
    {
     "data": {
      "image/png": "[encoded data removed]",
      "text/plain": [
       "<matplotlib.figure.Figure at 0x29e356a0>"
      ]
     },
     "metadata": {},
     "output_type": "display_data"
    }
   ],
   "source": [
    "raw_data.OutcomeType.value_counts(normalize=True).plot(kind='barh', figsize=(10, 4), title='Distribution of targets')"
   ]
  },
  {
   "cell_type": "markdown",
   "metadata": {},
   "source": [
    "It is great that most sheltered animals are either adopted or transferred, and only 6% of them are euthanasiaed. For our project purposes, it can be challenging to predict targets such as 'Died' or 'Euthanasia' because of the low percentage of occurances."
   ]
  },
  {
   "cell_type": "markdown",
   "metadata": {},
   "source": [
    "   * *Distribution of each feature*"
   ]
  },
  {
   "cell_type": "markdown",
   "metadata": {},
   "source": [
    "#### AnimalType"
   ]
  },
  {
   "cell_type": "code",
   "execution_count": 340,
   "metadata": {
    "collapsed": false
   },
   "outputs": [
    {
     "name": "stdout",
     "output_type": "stream",
     "text": [
      "Dog    15595\n",
      "Cat    11134\n",
      "Name: AnimalType, dtype: int64\n"
     ]
    }
   ],
   "source": [
    "print raw_data.AnimalType.value_counts()"
   ]
  },
  {
   "cell_type": "markdown",
   "metadata": {},
   "source": [
    "There are more dogs than cats in the training data, but both types have sufficient amount of data for us to train a model. "
   ]
  },
  {
   "cell_type": "code",
   "execution_count": 341,
   "metadata": {
    "collapsed": false
   },
   "outputs": [
    {
     "data": {
      "text/plain": [
       "<matplotlib.legend.Legend at 0x4a484358>"
      ]
     },
     "execution_count": 341,
     "metadata": {},
     "output_type": "execute_result"
    },
    {
     "data": {
      "image/png": "[encoded data removed]",
      "text/plain": [
       "<matplotlib.figure.Figure at 0x4a484080>"
      ]
     },
     "metadata": {},
     "output_type": "display_data"
    }
   ],
   "source": [
    "ax = raw_data.groupby(by='AnimalType')['OutcomeType'].value_counts(normalize=True).unstack().plot(kind='barh', stacked='True', figsize=(10,2), title='Target distribution based on animal type')\n",
    "ax.legend(loc='best', bbox_to_anchor=(1.0, 0.5))"
   ]
  },
  {
   "cell_type": "markdown",
   "metadata": {},
   "source": [
    "- Cats are disproportionally in the transfer category. Second, a lot more dogs were able to return to their owners than cats. These characteristics can be used to predict the outcomes. "
   ]
  },
  {
   "cell_type": "markdown",
   "metadata": {},
   "source": [
    "#### SexuponOutcome"
   ]
  },
  {
   "cell_type": "code",
   "execution_count": 342,
   "metadata": {
    "collapsed": false
   },
   "outputs": [
    {
     "name": "stdout",
     "output_type": "stream",
     "text": [
      "Neutered Male    0.37\n",
      "Spayed Female    0.33\n",
      "Intact Male      0.13\n",
      "Intact Female    0.13\n",
      "Unknown          0.04\n",
      "Name: SexuponOutcome, dtype: float64\n"
     ]
    }
   ],
   "source": [
    "print np.round(raw_data.SexuponOutcome.value_counts(normalize=True),2)"
   ]
  },
  {
   "cell_type": "markdown",
   "metadata": {},
   "source": [
    "- There are about the same numbers of male vs female. Interestingly, Majority of animals are either neutered or spayed, which can increase the adoptability since on average neutered or spayed animals have better health on average.\n",
    "\n",
    "- 4% of animals have unknown gender, which we need to handle it later when we do feature engineering. "
   ]
  },
  {
   "cell_type": "code",
   "execution_count": 343,
   "metadata": {
    "collapsed": false
   },
   "outputs": [
    {
     "data": {
      "text/plain": [
       "<matplotlib.legend.Legend at 0x385abfd0>"
      ]
     },
     "execution_count": 343,
     "metadata": {},
     "output_type": "execute_result"
    },
    {
     "data": {
      "image/png": "[encoded data removed]",
      "text/plain": [
       "<matplotlib.figure.Figure at 0x385b93c8>"
      ]
     },
     "metadata": {},
     "output_type": "display_data"
    }
   ],
   "source": [
    "ax = raw_data.groupby(by='SexuponOutcome')['OutcomeType'].value_counts(normalize=True).unstack().plot(kind='barh', stacked='True', figsize=(10,4), title='Target distribution based on sex')\n",
    "ax.legend(loc='best', bbox_to_anchor=(1.0,0.5))"
   ]
  },
  {
   "cell_type": "markdown",
   "metadata": {},
   "source": [
    "- Neutered or spayed pets are much more likely to be adopted. One reason could be the cost associated with undergoing such surgeries, which discourage adopters to choose an intact pet. On the other hand, whether the sheltered animals are male or female does not seem to make a difference in terms of outcome. This information can be useful when we do feature engineering. Lastly, there is an \"unknown\" type that seems to be closer to intact female. "
   ]
  },
  {
   "cell_type": "markdown",
   "metadata": {},
   "source": [
    "#### AgeuponOutcome"
   ]
  },
  {
   "cell_type": "markdown",
   "metadata": {},
   "source": [
    "- The AgeuponOutcome variable is stored as a string containing an amount and a unit.  \n",
    "- We will convert these into days so that we have a continous variable when we build the model. For EDA purposes we will first look at it categorically."
   ]
  },
  {
   "cell_type": "code",
   "execution_count": 344,
   "metadata": {
    "collapsed": false
   },
   "outputs": [],
   "source": [
    "data = raw_data.copy()\n",
    "\n",
    "# Convert ages to categories for EDA purposes\n",
    "data['AgeuponOutcome'] = data['AgeuponOutcome'].fillna('99 years')\n",
    "def age_handle(data):\n",
    "    out = []\n",
    "    for i in range(0, len(data)):\n",
    "        if 'year' in data[i]:\n",
    "            temp = int(re.sub(' [a-z]+', '', data[i]))\n",
    "            if temp >= 11:\n",
    "                out.append('super senior')\n",
    "            elif temp >= 8:\n",
    "                out.append('senior')\n",
    "            elif temp <= 1:\n",
    "                out.append('<1yr adult') #adult\n",
    "            elif temp <= 3:\n",
    "                out.append('1-3yr adult')\n",
    "            else:\n",
    "                out.append('>3yr adult')\n",
    "        elif 'month' in data[i]:\n",
    "            temp = int(re.sub(' [a-z]+', '', data[i]))\n",
    "            if temp <= 1:\n",
    "                out.append('1m pup')\n",
    "            elif temp <= 2:\n",
    "                out.append('2m pup')\n",
    "            elif temp <= 3:\n",
    "                out.append('3m pup')\n",
    "            else:\n",
    "                out.append('>3m pup')\n",
    "        elif 'week' in data[i]:\n",
    "            out.append('baby')\n",
    "        elif 'day' in data[i]:\n",
    "            out.append('baby')\n",
    "    \n",
    "    return out\n",
    "\n",
    "data.AgeuponOutcome = age_handle(data.AgeuponOutcome)"
   ]
  },
  {
   "cell_type": "code",
   "execution_count": 345,
   "metadata": {
    "collapsed": false
   },
   "outputs": [
    {
     "data": {
      "text/plain": [
       "<matplotlib.legend.Legend at 0x38a7f588>"
      ]
     },
     "execution_count": 345,
     "metadata": {},
     "output_type": "execute_result"
    },
    {
     "data": {
      "image/png": "[encoded data removed]",
      "text/plain": [
       "<matplotlib.figure.Figure at 0x38a7f9e8>"
      ]
     },
     "metadata": {},
     "output_type": "display_data"
    }
   ],
   "source": [
    "ax = data.groupby(by='AgeuponOutcome')['OutcomeType'].value_counts(normalize=True).unstack().plot(title='Target distribution based on age', kind='barh', stacked='True', figsize=(10,5))\n",
    "ax.legend(loc='best', bbox_to_anchor=(1.0, 0.5))"
   ]
  },
  {
   "cell_type": "markdown",
   "metadata": {},
   "source": []
  },
  {
   "cell_type": "markdown",
   "metadata": {},
   "source": [
    "- Majority of animals are younger than 1 year. The reason can be because most pet owners cannot handle so many babies at the same time so they have to abandom some of them. We can see that the number gradually decreases as the age increases.\n",
    "\n",
    "\n",
    "- The younger the animals, the more likely they will be adopted. However, this is not true in the infant case where there are no adoption case. It is probably because animals that are younger than 2 months are not made available to be adopted, as it requires extra care. \n",
    "\n",
    "\n",
    "- On the other hand, the older the animals, the more likely they will either be euthanized or returned to their owners. Both scenarios make intuitive sense. Older animals are probably owned and hence more likely to be returned. Also, older animals tend to have worse health and people typically prefer to adopt younger animals, so they are more likely to be euthanized. "
   ]
  },
  {
   "cell_type": "markdown",
   "metadata": {},
   "source": [
    "#### Datetime"
   ]
  },
  {
   "cell_type": "code",
   "execution_count": 346,
   "metadata": {
    "collapsed": true
   },
   "outputs": [],
   "source": [
    "# Categorize hours into various intervals of a day\n",
    "temp = pd.to_datetime(data['DateTime']).dt.hour\n",
    "bins = [3, 7, 10, 14, 17, 20, 24]\n",
    "\n",
    "# Different segments of the day\n",
    "names = ['midnight','morning', 'lunch', 'afternoon','night', 'late night']\n",
    "data['OutcomeHour'] = pd.cut(temp, bins, labels=names)\n",
    "\n",
    "temp = pd.to_datetime(test_data['DateTime']).dt.hour\n",
    "test_data['OutcomeHour'] = pd.cut(temp, bins, labels=names)"
   ]
  },
  {
   "cell_type": "code",
   "execution_count": 347,
   "metadata": {
    "collapsed": false,
    "scrolled": true
   },
   "outputs": [
    {
     "data": {
      "text/plain": [
       "<matplotlib.legend.Legend at 0x38ec2160>"
      ]
     },
     "execution_count": 347,
     "metadata": {},
     "output_type": "execute_result"
    },
    {
     "data": {
      "image/png": "[encoded data removed]",
      "text/plain": [
       "<matplotlib.figure.Figure at 0x38e649b0>"
      ]
     },
     "metadata": {},
     "output_type": "display_data"
    }
   ],
   "source": [
    "ax = data.groupby(by='OutcomeHour')['OutcomeType'].value_counts(normalize=True).unstack().plot(kind='barh', stacked='True', figsize=(10,4), title='Target distribution of outcome hour')\n",
    "ax.legend(loc='best', bbox_to_anchor=(1.0,0.5))"
   ]
  },
  {
   "cell_type": "markdown",
   "metadata": {},
   "source": [
    "- We notice that a lot of adoption occurred during night time, which is surprising since we expect that to happen during afternoon. We also see more transferring and euthanasia happen in the morning, which can make sense since morning is less busy with adoption."
   ]
  },
  {
   "cell_type": "markdown",
   "metadata": {},
   "source": [
    "#### Breed"
   ]
  },
  {
   "cell_type": "markdown",
   "metadata": {},
   "source": [
    "- There are way too many types of breed in the data. We will use feature hashing techniques and category reduction to handle it. Additionally, one thing we can do is to categorize breeds that are popular in America versus breeds that are typically not 'loved' by general public."
   ]
  },
  {
   "cell_type": "code",
   "execution_count": 348,
   "metadata": {
    "collapsed": false
   },
   "outputs": [
    {
     "data": {
      "text/plain": [
       "1380"
      ]
     },
     "execution_count": 348,
     "metadata": {},
     "output_type": "execute_result"
    }
   ],
   "source": [
    "len(data.Breed.unique())"
   ]
  },
  {
   "cell_type": "code",
   "execution_count": 349,
   "metadata": {
    "collapsed": false
   },
   "outputs": [],
   "source": [
    "# Examine whether popular/unpopular breed make a difference\n",
    "popular_names = ['german shepherd', 'labrador', 'golden retriever', 'beagle', 'bulldog', 'terrier', 'boxer', 'poodle', 'rottweiler', 'dachshund']\n",
    "unpopular_names = ['pit bull', 'chihuahua']\n",
    "\n",
    "# Use countvectorizer function\n",
    "cv = CountVectorizer(vocabulary=popular_names)\n",
    "test = cv.fit_transform(data['Breed'])\n",
    "\n",
    "# I only want a dummy variable\n",
    "test = np.sum(test.toarray(), axis=1)\n",
    "test[test==2] = 1\n",
    "\n",
    "data['popular'] = test\n",
    "\n",
    "data['unpopular'] = data.Breed.str.contains('Chihuahua') + data.Breed.str.contains('Pit Bull')"
   ]
  },
  {
   "cell_type": "code",
   "execution_count": 350,
   "metadata": {
    "collapsed": false
   },
   "outputs": [
    {
     "data": {
      "text/plain": [
       "<matplotlib.legend.Legend at 0x3909d978>"
      ]
     },
     "execution_count": 350,
     "metadata": {},
     "output_type": "execute_result"
    },
    {
     "data": {
      "image/png": "[encoded data removed]",
      "text/plain": [
       "<matplotlib.figure.Figure at 0x3908f278>"
      ]
     },
     "metadata": {},
     "output_type": "display_data"
    }
   ],
   "source": [
    "ax = data.groupby(by='unpopular')['OutcomeType'].value_counts(normalize=True).unstack().plot(title='Target distribution based on unpopular breeds',kind='barh', stacked='True', figsize=(10,4))\n",
    "ax.legend(loc='best', bbox_to_anchor=(1.0,0.5))"
   ]
  },
  {
   "cell_type": "markdown",
   "metadata": {},
   "source": [
    "- Unpopular dogs have slightly larger percentage of euthanasia, albeit it is small."
   ]
  },
  {
   "cell_type": "markdown",
   "metadata": {},
   "source": [
    "#### Color"
   ]
  },
  {
   "cell_type": "markdown",
   "metadata": {},
   "source": [
    "- Similar to breed, there are too many color types for us to visualize. What we can potentially look at is to see whether there is a difference between mix color versus pure color. "
   ]
  },
  {
   "cell_type": "code",
   "execution_count": 351,
   "metadata": {
    "collapsed": false
   },
   "outputs": [
    {
     "data": {
      "text/plain": [
       "366"
      ]
     },
     "execution_count": 351,
     "metadata": {},
     "output_type": "execute_result"
    }
   ],
   "source": [
    "len(data.Color.unique())"
   ]
  },
  {
   "cell_type": "code",
   "execution_count": 352,
   "metadata": {
    "collapsed": false
   },
   "outputs": [
    {
     "data": {
      "text/plain": [
       "<matplotlib.legend.Legend at 0x25654048>"
      ]
     },
     "execution_count": 352,
     "metadata": {},
     "output_type": "execute_result"
    },
    {
     "data": {
      "image/png": "[encoded data removed]",
      "text/plain": [
       "<matplotlib.figure.Figure at 0x39330630>"
      ]
     },
     "metadata": {},
     "output_type": "display_data"
    }
   ],
   "source": [
    "# Identify animals that have mix colors and check whether their outcomes are different\n",
    "temp = ['/' in data.Color[x] for x in range(0, len(data.Color))]\n",
    "data['MixColor'] = temp\n",
    "\n",
    "ax = data.groupby(by='MixColor')['OutcomeType'].value_counts(normalize=True).unstack().plot(title='Target distribution based on mix versus pure color', kind='barh', stacked='True', figsize=(10,4))\n",
    "ax.legend(loc='best', bbox_to_anchor=(1.0,0.5))"
   ]
  },
  {
   "cell_type": "markdown",
   "metadata": {},
   "source": [
    "### Missing Values"
   ]
  },
  {
   "cell_type": "markdown",
   "metadata": {},
   "source": [
    "Fortunately, most columns do not have missing values. The only two features that have missing values are 'Name' and 'Age'."
   ]
  },
  {
   "cell_type": "markdown",
   "metadata": {},
   "source": [
    "#### Name"
   ]
  },
  {
   "cell_type": "markdown",
   "metadata": {},
   "source": [
    "We decided to use the missing value to create a new feature. The idea is that animals that do not have names may be less likely to be returned to owners."
   ]
  },
  {
   "cell_type": "code",
   "execution_count": 353,
   "metadata": {
    "collapsed": false
   },
   "outputs": [
    {
     "data": {
      "text/plain": [
       "<matplotlib.legend.Legend at 0x38ec2860>"
      ]
     },
     "execution_count": 353,
     "metadata": {},
     "output_type": "execute_result"
    },
    {
     "data": {
      "image/png": "[encoded data removed]",
      "text/plain": [
       "<matplotlib.figure.Figure at 0x629507b8>"
      ]
     },
     "metadata": {},
     "output_type": "display_data"
    }
   ],
   "source": [
    "data['HasName'] = -data['Name'].isnull()\n",
    "\n",
    "ax = data.groupby(by='HasName')['OutcomeType'].value_counts(normalize=True).unstack().plot(title='Target distribution based on names', kind='barh', stacked='True', figsize=(10,4))\n",
    "ax.legend(loc='best', bbox_to_anchor=(1.0,0.5))"
   ]
  },
  {
   "cell_type": "markdown",
   "metadata": {},
   "source": [
    "In line with our intutition, animals that have no names are much less likely to be returned to their owners. We also see lower adoption rate, and a higher euthanasia rate."
   ]
  },
  {
   "cell_type": "markdown",
   "metadata": {},
   "source": [
    "**Relationship Between Features**"
   ]
  },
  {
   "cell_type": "markdown",
   "metadata": {},
   "source": [
    "In order to compare different features we convert categorical variables into integers"
   ]
  },
  {
   "cell_type": "code",
   "execution_count": 354,
   "metadata": {
    "collapsed": false
   },
   "outputs": [
    {
     "data": {
      "text/html": [
       "<div>\n",
       "<table border=\"1\" class=\"dataframe\">\n",
       "  <thead>\n",
       "    <tr style=\"text-align: right;\">\n",
       "      <th></th>\n",
       "      <th>AnimalType</th>\n",
       "      <th>SexuponOutcome</th>\n",
       "      <th>AgeuponOutcome</th>\n",
       "      <th>OutcomeHour</th>\n",
       "      <th>popular</th>\n",
       "      <th>unpopular</th>\n",
       "      <th>MixColor</th>\n",
       "      <th>HasName</th>\n",
       "    </tr>\n",
       "  </thead>\n",
       "  <tbody>\n",
       "    <tr>\n",
       "      <th>AnimalType</th>\n",
       "      <td>1.000000</td>\n",
       "      <td>0.092029</td>\n",
       "      <td>-0.054914</td>\n",
       "      <td>-0.081887</td>\n",
       "      <td>0.458788</td>\n",
       "      <td>0.403973</td>\n",
       "      <td>0.284541</td>\n",
       "      <td>0.304307</td>\n",
       "    </tr>\n",
       "    <tr>\n",
       "      <th>SexuponOutcome</th>\n",
       "      <td>0.092029</td>\n",
       "      <td>1.000000</td>\n",
       "      <td>-0.011468</td>\n",
       "      <td>0.005000</td>\n",
       "      <td>0.067792</td>\n",
       "      <td>0.001807</td>\n",
       "      <td>0.037798</td>\n",
       "      <td>0.221411</td>\n",
       "    </tr>\n",
       "    <tr>\n",
       "      <th>AgeuponOutcome</th>\n",
       "      <td>-0.054914</td>\n",
       "      <td>-0.011468</td>\n",
       "      <td>1.000000</td>\n",
       "      <td>-0.005018</td>\n",
       "      <td>-0.008570</td>\n",
       "      <td>-0.065853</td>\n",
       "      <td>-0.047636</td>\n",
       "      <td>-0.101854</td>\n",
       "    </tr>\n",
       "    <tr>\n",
       "      <th>OutcomeHour</th>\n",
       "      <td>-0.081887</td>\n",
       "      <td>0.005000</td>\n",
       "      <td>-0.005018</td>\n",
       "      <td>1.000000</td>\n",
       "      <td>-0.035889</td>\n",
       "      <td>-0.042510</td>\n",
       "      <td>-0.007766</td>\n",
       "      <td>-0.093785</td>\n",
       "    </tr>\n",
       "    <tr>\n",
       "      <th>popular</th>\n",
       "      <td>0.458788</td>\n",
       "      <td>0.067792</td>\n",
       "      <td>-0.008570</td>\n",
       "      <td>-0.035889</td>\n",
       "      <td>1.000000</td>\n",
       "      <td>-0.105533</td>\n",
       "      <td>0.074938</td>\n",
       "      <td>0.121434</td>\n",
       "    </tr>\n",
       "    <tr>\n",
       "      <th>unpopular</th>\n",
       "      <td>0.403973</td>\n",
       "      <td>0.001807</td>\n",
       "      <td>-0.065853</td>\n",
       "      <td>-0.042510</td>\n",
       "      <td>-0.105533</td>\n",
       "      <td>1.000000</td>\n",
       "      <td>0.171163</td>\n",
       "      <td>0.133138</td>\n",
       "    </tr>\n",
       "    <tr>\n",
       "      <th>MixColor</th>\n",
       "      <td>0.284541</td>\n",
       "      <td>0.037798</td>\n",
       "      <td>-0.047636</td>\n",
       "      <td>-0.007766</td>\n",
       "      <td>0.074938</td>\n",
       "      <td>0.171163</td>\n",
       "      <td>1.000000</td>\n",
       "      <td>0.113565</td>\n",
       "    </tr>\n",
       "    <tr>\n",
       "      <th>HasName</th>\n",
       "      <td>0.304307</td>\n",
       "      <td>0.221411</td>\n",
       "      <td>-0.101854</td>\n",
       "      <td>-0.093785</td>\n",
       "      <td>0.121434</td>\n",
       "      <td>0.133138</td>\n",
       "      <td>0.113565</td>\n",
       "      <td>1.000000</td>\n",
       "    </tr>\n",
       "  </tbody>\n",
       "</table>\n",
       "</div>"
      ],
      "text/plain": [
       "                AnimalType  SexuponOutcome  AgeuponOutcome  OutcomeHour  \\\n",
       "AnimalType        1.000000        0.092029       -0.054914    -0.081887   \n",
       "SexuponOutcome    0.092029        1.000000       -0.011468     0.005000   \n",
       "AgeuponOutcome   -0.054914       -0.011468        1.000000    -0.005018   \n",
       "OutcomeHour      -0.081887        0.005000       -0.005018     1.000000   \n",
       "popular           0.458788        0.067792       -0.008570    -0.035889   \n",
       "unpopular         0.403973        0.001807       -0.065853    -0.042510   \n",
       "MixColor          0.284541        0.037798       -0.047636    -0.007766   \n",
       "HasName           0.304307        0.221411       -0.101854    -0.093785   \n",
       "\n",
       "                 popular  unpopular  MixColor   HasName  \n",
       "AnimalType      0.458788   0.403973  0.284541  0.304307  \n",
       "SexuponOutcome  0.067792   0.001807  0.037798  0.221411  \n",
       "AgeuponOutcome -0.008570  -0.065853 -0.047636 -0.101854  \n",
       "OutcomeHour    -0.035889  -0.042510 -0.007766 -0.093785  \n",
       "popular         1.000000  -0.105533  0.074938  0.121434  \n",
       "unpopular      -0.105533   1.000000  0.171163  0.133138  \n",
       "MixColor        0.074938   0.171163  1.000000  0.113565  \n",
       "HasName         0.121434   0.133138  0.113565  1.000000  "
      ]
     },
     "execution_count": 354,
     "metadata": {},
     "output_type": "execute_result"
    }
   ],
   "source": [
    "le = preprocessing.LabelEncoder()\n",
    "data['AnimalType'] = le.fit_transform(data['AnimalType'])\n",
    "data['SexuponOutcome'] = le.fit_transform(data['SexuponOutcome'])\n",
    "data['AgeuponOutcome'] = le.fit_transform(data['AgeuponOutcome'])\n",
    "data['OutcomeHour'] = le.fit_transform(data['OutcomeHour'])\n",
    "# Calculate a correlation matrix of all features\n",
    "data.loc[:,['AnimalType','SexuponOutcome','AgeuponOutcome','OutcomeHour','popular','unpopular','MixColor','HasName']].corr()"
   ]
  },
  {
   "cell_type": "markdown",
   "metadata": {},
   "source": [
    "It seems that our features are not strongly correlated with each other, which is very important when we apply prediction algorithm such as logistic regression.  "
   ]
  },
  {
   "cell_type": "markdown",
   "metadata": {},
   "source": [
    "### Data Preparation\n",
    "We have completed several modifications to the dataset in order to enrich the features and tested their improvements on predictive modeling.  Each step is completed on both the training and test sets.  All modifications are performed on the `raw_data` and `test_data` sets"
   ]
  },
  {
   "cell_type": "markdown",
   "metadata": {},
   "source": [
    "#### AgeuponOutcome\n",
    "As mentioned above, we will standardize the age feature as days. For example, 2 years = 730 days."
   ]
  },
  {
   "cell_type": "code",
   "execution_count": 355,
   "metadata": {
    "collapsed": false
   },
   "outputs": [],
   "source": [
    "# A fresh copy of raw data\n",
    "train_data = raw_data.copy()"
   ]
  },
  {
   "cell_type": "code",
   "execution_count": 356,
   "metadata": {
    "collapsed": false
   },
   "outputs": [],
   "source": [
    "#Separate age into a number and a string\n",
    "train_data['Age_num'] = train_data['AgeuponOutcome'].str[:2].str.strip().astype(int, raise_on_error=False)\n",
    "train_data['Age_str'] = train_data['AgeuponOutcome'].str[2:].str.strip()\n",
    "\n",
    "test_data['Age_num'] = test_data['AgeuponOutcome'].str[:2].str.strip().astype(int, raise_on_error=False)\n",
    "test_data['Age_str'] = test_data['AgeuponOutcome'].str[2:].str.strip()\n",
    "\n",
    "#Create an age factor column based on each possible unit of measure\n",
    "factor = {'years':365, 'year':365, 'month':30, 'months':30, 'week': 7, 'weeks':7, 'day':1, 'days':1}\n",
    "train_data['Age_factor'] = train_data['Age_str'].map(lambda x: factor[x] if x in factor.keys() else 0)\n",
    "test_data['Age_factor'] = test_data['Age_str'].map(lambda x: factor[x] if x in factor.keys() else 0)\n",
    "\n",
    "#Multiply the number in the age by the factor for comparable numerical column.  Drop and derivitive columns\n",
    "train_data['Age_num'] = train_data['Age_num'].astype(float)\n",
    "train_data['Age_days'] = train_data['Age_num'].mul(train_data['Age_factor'], axis='index').fillna(0)\n",
    "train_data.drop(['AgeuponOutcome', 'Age_num', 'Age_str', 'Age_factor'], 1, inplace = True)\n",
    "\n",
    "test_data['Age_num'] = test_data['Age_num'].astype(float)\n",
    "test_data['Age_days'] = test_data['Age_num'].mul(test_data['Age_factor'], axis='index').fillna(0)\n",
    "test_data.drop(['AgeuponOutcome', 'Age_num', 'Age_str', 'Age_factor'], 1, inplace = True)"
   ]
  },
  {
   "cell_type": "markdown",
   "metadata": {},
   "source": [
    "#### DateTime\n",
    "We turn a single timestamp feature into various components such as year, month, day, hour, minute, and whether or not it was a weekend."
   ]
  },
  {
   "cell_type": "code",
   "execution_count": 357,
   "metadata": {
    "collapsed": false
   },
   "outputs": [],
   "source": [
    "#Build up date features. Extract year, month, age, hour out of the datetime feature \n",
    "train_data['DateTime'] = train_data['DateTime'].astype(np.datetime64)\n",
    "train_data['Year'] = train_data['DateTime'].map(lambda x: x.year)\n",
    "train_data['Month'] = train_data['DateTime'].map(lambda x: x.month)\n",
    "train_data['Day'] = train_data['DateTime'].map(lambda x: x.day)\n",
    "train_data['Hour'] = train_data['DateTime'].map(lambda x: x.hour)\n",
    "\n",
    "test_data['DateTime'] = test_data['DateTime'].astype(np.datetime64)\n",
    "test_data['Year'] = test_data['DateTime'].map(lambda x: x.year)\n",
    "test_data['Month'] = test_data['DateTime'].map(lambda x: x.month)\n",
    "test_data['Day'] = test_data['DateTime'].map(lambda x: x.day)\n",
    "test_data['Hour'] = test_data['DateTime'].map(lambda x: x.hour)\n",
    "\n",
    "# Extract a feature 'weekend'\n",
    "temp = pd.to_datetime(raw_data['DateTime']).dt.weekday\n",
    "train_data['weekend'] = temp.isin([5,6])\n",
    "temp = pd.to_datetime(test_data['DateTime']).dt.weekday\n",
    "test_data['weekend'] = temp.isin([5,6])\n"
   ]
  },
  {
   "cell_type": "markdown",
   "metadata": {},
   "source": [
    "#### Breed\n",
    "We split multiple breeds into a primary and secondary breed feature, as well as generating a `Mix` column for those that are identified as a mixed breed"
   ]
  },
  {
   "cell_type": "code",
   "execution_count": 358,
   "metadata": {
    "collapsed": false
   },
   "outputs": [],
   "source": [
    "#Does the breed contain a mix?\n",
    "train_data['Mix'] = train_data['Breed'].map(lambda x: x.find('Mix') != -1)\n",
    "test_data['Mix'] = test_data['Breed'].map(lambda x: x.find('Mix') != -1)\n",
    "#Split breed into first and second\n",
    "train_data['First_Breed'] = train_data['Breed'].map(lambda x: x.split('/')[0].replace('Mix', '').strip())\n",
    "test_data['First_Breed'] = test_data['Breed'].map(lambda x: x.split('/')[0].replace('Mix', '').strip())\n",
    "train_data['Second_Breed'] = train_data['Breed'].map(lambda x: x.split('/')[1].replace('Mix', '').strip() if len(x.split('/')) > 1 else np.nan)\n",
    "test_data['Second_Breed'] = test_data['Breed'].map(lambda x: x.split('/')[1].replace('Mix', '').strip() if len(x.split('/')) > 1 else np.nan)\n",
    "train_data.drop('Breed', inplace=True, axis=1)\n",
    "test_data.drop('Breed', inplace=True, axis=1)\n"
   ]
  },
  {
   "cell_type": "markdown",
   "metadata": {},
   "source": [
    "#### Name\n",
    "Name has far too many unique categories, we we instead reduced it into a binary variable of whether or not the animal had a name"
   ]
  },
  {
   "cell_type": "code",
   "execution_count": 359,
   "metadata": {
    "collapsed": false
   },
   "outputs": [],
   "source": [
    "#Does the animal have a name?\n",
    "train_data['has_name'] = train_data['Name'].isnull()\n",
    "test_data['has_name'] = test_data['Name'].isnull()\n",
    "train_data.drop('Name', inplace=True, axis=1)\n",
    "test_data.drop('Name', inplace=True, axis=1)"
   ]
  },
  {
   "cell_type": "markdown",
   "metadata": {},
   "source": [
    "#### Color\n",
    "Similar to breed, there can be multiple colors listed as well as the string `mix`.  We split the colors into a first and second color, as well as a mixed color feature."
   ]
  },
  {
   "cell_type": "code",
   "execution_count": 360,
   "metadata": {
    "collapsed": false
   },
   "outputs": [],
   "source": [
    "# Split color to primary versus secondary if exist\n",
    "train_data['First_Color'] = train_data['Color'].map(lambda x: x.split('/')[0].replace('Mix', '').strip())\n",
    "train_data['Second_Color'] = train_data['Color'].map(lambda x: x.split('/')[1].replace('Mix', '').strip() if len(x.split('/')) > 1 else np.nan)\n",
    "\n",
    "test_data['First_Color'] = test_data['Color'].map(lambda x: x.split('/')[0].replace('Mix', '').strip())\n",
    "test_data['Second_Color'] = test_data['Color'].map(lambda x: x.split('/')[1].replace('Mix', '').strip() if len(x.split('/')) > 1 else np.nan)\n",
    "\n",
    "# Extract a feature if the animal has mix colors\n",
    "train_data['Mix_Color'] = train_data['Color'].map(lambda x: x.find('Mix') != -1)\n",
    "test_data['Mix_Color'] = test_data['Color'].map(lambda x: x.find('Mix') != -1)\n",
    "\n",
    "train_data.drop('Color', axis=1, inplace=True)\n",
    "test_data.drop('Color', axis=1, inplace=True)\n"
   ]
  },
  {
   "cell_type": "markdown",
   "metadata": {},
   "source": [
    "#### Feature Hashing\n",
    "Many of the features are categorical with potentially thousands of unique values.  In order to better model the data, we turn each possible category into its own feature.  After testing we found that removing some of the more rare categories, and simply lumping them into a `Rare_Breed` feature improved results."
   ]
  },
  {
   "cell_type": "code",
   "execution_count": 361,
   "metadata": {
    "collapsed": false,
    "scrolled": true
   },
   "outputs": [
    {
     "data": {
      "text/plain": [
       "array(['AnimalID', 'DateTime', 'OutcomeType', 'OutcomeSubtype',\n",
       "       'AnimalType', 'SexuponOutcome', 'Age_days', 'Year', 'Month', 'Day',\n",
       "       'Hour', 'weekend', 'Mix', 'First_Breed', 'Second_Breed', 'has_name',\n",
       "       'First_Color', 'Second_Color', 'Mix_Color'], dtype=object)"
      ]
     },
     "execution_count": 361,
     "metadata": {},
     "output_type": "execute_result"
    }
   ],
   "source": [
    "train_data.columns.values"
   ]
  },
  {
   "cell_type": "code",
   "execution_count": 362,
   "metadata": {
    "collapsed": false
   },
   "outputs": [],
   "source": [
    "# Use dictionary vectorizer to do feature hashing\n",
    "dv = DictVectorizer(sparse=False)\n",
    "\n",
    "# Features that we want to hash\n",
    "hash_preds = ['AnimalType','SexuponOutcome','First_Breed', 'Second_Breed','First_Color','Second_Color', 'Year','Month','Day','Age_days','Hour']\n",
    "\n",
    "# Features that do not need to be hashed\n",
    "non_hash_preds = ['OutcomeType', 'weekend', 'Mix', 'has_name', 'Mix_Color']\n",
    "\n",
    "hashed_train = pd.DataFrame(dv.fit_transform(train_data[hash_preds].to_dict(orient='records')), \n",
    "                            columns=dv.get_feature_names()).fillna(0)\n",
    "hashed_test = pd.DataFrame(dv.transform(test_data[hash_preds].to_dict(orient='records')), \n",
    "                           columns=dv.get_feature_names()).fillna(0)"
   ]
  },
  {
   "cell_type": "code",
   "execution_count": 363,
   "metadata": {
    "collapsed": false,
    "scrolled": true
   },
   "outputs": [
    {
     "data": {
      "text/plain": [
       "(26729, 478)"
      ]
     },
     "execution_count": 363,
     "metadata": {},
     "output_type": "execute_result"
    }
   ],
   "source": [
    "hashed_train.shape"
   ]
  },
  {
   "cell_type": "code",
   "execution_count": 364,
   "metadata": {
    "collapsed": false
   },
   "outputs": [
    {
     "data": {
      "text/html": [
       "<div>\n",
       "<table border=\"1\" class=\"dataframe\">\n",
       "  <thead>\n",
       "    <tr style=\"text-align: right;\">\n",
       "      <th></th>\n",
       "      <th>Age_days</th>\n",
       "      <th>AnimalType=Cat</th>\n",
       "      <th>AnimalType=Dog</th>\n",
       "      <th>Day</th>\n",
       "      <th>First_Breed=Abyssinian</th>\n",
       "      <th>First_Breed=Affenpinscher</th>\n",
       "      <th>First_Breed=Afghan Hound</th>\n",
       "      <th>First_Breed=Airedale Terrier</th>\n",
       "      <th>First_Breed=Akita</th>\n",
       "      <th>First_Breed=Alaskan Husky</th>\n",
       "      <th>...</th>\n",
       "      <th>Second_Color=White</th>\n",
       "      <th>Second_Color=Yellow</th>\n",
       "      <th>Second_Color=Yellow Brindle</th>\n",
       "      <th>SexuponOutcome</th>\n",
       "      <th>SexuponOutcome=Intact Female</th>\n",
       "      <th>SexuponOutcome=Intact Male</th>\n",
       "      <th>SexuponOutcome=Neutered Male</th>\n",
       "      <th>SexuponOutcome=Spayed Female</th>\n",
       "      <th>SexuponOutcome=Unknown</th>\n",
       "      <th>Year</th>\n",
       "    </tr>\n",
       "  </thead>\n",
       "  <tbody>\n",
       "    <tr>\n",
       "      <th>0</th>\n",
       "      <td>365.0</td>\n",
       "      <td>0.0</td>\n",
       "      <td>1.0</td>\n",
       "      <td>12.0</td>\n",
       "      <td>0.0</td>\n",
       "      <td>0.0</td>\n",
       "      <td>0.0</td>\n",
       "      <td>0.0</td>\n",
       "      <td>0.0</td>\n",
       "      <td>0.0</td>\n",
       "      <td>...</td>\n",
       "      <td>1.0</td>\n",
       "      <td>0.0</td>\n",
       "      <td>0.0</td>\n",
       "      <td>0.0</td>\n",
       "      <td>0.0</td>\n",
       "      <td>0.0</td>\n",
       "      <td>1.0</td>\n",
       "      <td>0.0</td>\n",
       "      <td>0.0</td>\n",
       "      <td>2014.0</td>\n",
       "    </tr>\n",
       "    <tr>\n",
       "      <th>1</th>\n",
       "      <td>365.0</td>\n",
       "      <td>1.0</td>\n",
       "      <td>0.0</td>\n",
       "      <td>13.0</td>\n",
       "      <td>0.0</td>\n",
       "      <td>0.0</td>\n",
       "      <td>0.0</td>\n",
       "      <td>0.0</td>\n",
       "      <td>0.0</td>\n",
       "      <td>0.0</td>\n",
       "      <td>...</td>\n",
       "      <td>0.0</td>\n",
       "      <td>0.0</td>\n",
       "      <td>0.0</td>\n",
       "      <td>0.0</td>\n",
       "      <td>0.0</td>\n",
       "      <td>0.0</td>\n",
       "      <td>0.0</td>\n",
       "      <td>1.0</td>\n",
       "      <td>0.0</td>\n",
       "      <td>2013.0</td>\n",
       "    </tr>\n",
       "    <tr>\n",
       "      <th>2</th>\n",
       "      <td>730.0</td>\n",
       "      <td>0.0</td>\n",
       "      <td>1.0</td>\n",
       "      <td>31.0</td>\n",
       "      <td>0.0</td>\n",
       "      <td>0.0</td>\n",
       "      <td>0.0</td>\n",
       "      <td>0.0</td>\n",
       "      <td>0.0</td>\n",
       "      <td>0.0</td>\n",
       "      <td>...</td>\n",
       "      <td>1.0</td>\n",
       "      <td>0.0</td>\n",
       "      <td>0.0</td>\n",
       "      <td>0.0</td>\n",
       "      <td>0.0</td>\n",
       "      <td>0.0</td>\n",
       "      <td>1.0</td>\n",
       "      <td>0.0</td>\n",
       "      <td>0.0</td>\n",
       "      <td>2015.0</td>\n",
       "    </tr>\n",
       "    <tr>\n",
       "      <th>3</th>\n",
       "      <td>21.0</td>\n",
       "      <td>1.0</td>\n",
       "      <td>0.0</td>\n",
       "      <td>11.0</td>\n",
       "      <td>0.0</td>\n",
       "      <td>0.0</td>\n",
       "      <td>0.0</td>\n",
       "      <td>0.0</td>\n",
       "      <td>0.0</td>\n",
       "      <td>0.0</td>\n",
       "      <td>...</td>\n",
       "      <td>0.0</td>\n",
       "      <td>0.0</td>\n",
       "      <td>0.0</td>\n",
       "      <td>0.0</td>\n",
       "      <td>0.0</td>\n",
       "      <td>1.0</td>\n",
       "      <td>0.0</td>\n",
       "      <td>0.0</td>\n",
       "      <td>0.0</td>\n",
       "      <td>2014.0</td>\n",
       "    </tr>\n",
       "    <tr>\n",
       "      <th>4</th>\n",
       "      <td>730.0</td>\n",
       "      <td>0.0</td>\n",
       "      <td>1.0</td>\n",
       "      <td>15.0</td>\n",
       "      <td>0.0</td>\n",
       "      <td>0.0</td>\n",
       "      <td>0.0</td>\n",
       "      <td>0.0</td>\n",
       "      <td>0.0</td>\n",
       "      <td>0.0</td>\n",
       "      <td>...</td>\n",
       "      <td>0.0</td>\n",
       "      <td>0.0</td>\n",
       "      <td>0.0</td>\n",
       "      <td>0.0</td>\n",
       "      <td>0.0</td>\n",
       "      <td>0.0</td>\n",
       "      <td>1.0</td>\n",
       "      <td>0.0</td>\n",
       "      <td>0.0</td>\n",
       "      <td>2013.0</td>\n",
       "    </tr>\n",
       "  </tbody>\n",
       "</table>\n",
       "<p>5 rows × 478 columns</p>\n",
       "</div>"
      ],
      "text/plain": [
       "   Age_days  AnimalType=Cat  AnimalType=Dog   Day  First_Breed=Abyssinian  \\\n",
       "0     365.0             0.0             1.0  12.0                     0.0   \n",
       "1     365.0             1.0             0.0  13.0                     0.0   \n",
       "2     730.0             0.0             1.0  31.0                     0.0   \n",
       "3      21.0             1.0             0.0  11.0                     0.0   \n",
       "4     730.0             0.0             1.0  15.0                     0.0   \n",
       "\n",
       "   First_Breed=Affenpinscher  First_Breed=Afghan Hound  \\\n",
       "0                        0.0                       0.0   \n",
       "1                        0.0                       0.0   \n",
       "2                        0.0                       0.0   \n",
       "3                        0.0                       0.0   \n",
       "4                        0.0                       0.0   \n",
       "\n",
       "   First_Breed=Airedale Terrier  First_Breed=Akita  First_Breed=Alaskan Husky  \\\n",
       "0                           0.0                0.0                        0.0   \n",
       "1                           0.0                0.0                        0.0   \n",
       "2                           0.0                0.0                        0.0   \n",
       "3                           0.0                0.0                        0.0   \n",
       "4                           0.0                0.0                        0.0   \n",
       "\n",
       "    ...    Second_Color=White  Second_Color=Yellow  \\\n",
       "0   ...                   1.0                  0.0   \n",
       "1   ...                   0.0                  0.0   \n",
       "2   ...                   1.0                  0.0   \n",
       "3   ...                   0.0                  0.0   \n",
       "4   ...                   0.0                  0.0   \n",
       "\n",
       "   Second_Color=Yellow Brindle  SexuponOutcome  SexuponOutcome=Intact Female  \\\n",
       "0                          0.0             0.0                           0.0   \n",
       "1                          0.0             0.0                           0.0   \n",
       "2                          0.0             0.0                           0.0   \n",
       "3                          0.0             0.0                           0.0   \n",
       "4                          0.0             0.0                           0.0   \n",
       "\n",
       "   SexuponOutcome=Intact Male  SexuponOutcome=Neutered Male  \\\n",
       "0                         0.0                           1.0   \n",
       "1                         0.0                           0.0   \n",
       "2                         0.0                           1.0   \n",
       "3                         1.0                           0.0   \n",
       "4                         0.0                           1.0   \n",
       "\n",
       "   SexuponOutcome=Spayed Female  SexuponOutcome=Unknown    Year  \n",
       "0                           0.0                     0.0  2014.0  \n",
       "1                           1.0                     0.0  2013.0  \n",
       "2                           0.0                     0.0  2015.0  \n",
       "3                           0.0                     0.0  2014.0  \n",
       "4                           0.0                     0.0  2013.0  \n",
       "\n",
       "[5 rows x 478 columns]"
      ]
     },
     "execution_count": 364,
     "metadata": {},
     "output_type": "execute_result"
    }
   ],
   "source": [
    "hashed_train.head()"
   ]
  },
  {
   "cell_type": "code",
   "execution_count": 365,
   "metadata": {
    "collapsed": false,
    "scrolled": true
   },
   "outputs": [],
   "source": [
    "# Merge hashed and non-hashed features\n",
    "final_train_data = train_data[non_hash_preds].merge(hashed_train, how='inner', left_index=True, right_index=True)\n",
    "final_test_data = test_data[non_hash_preds[1:]].merge(hashed_test, how = 'inner', left_index=True, right_index=True)"
   ]
  },
  {
   "cell_type": "code",
   "execution_count": 366,
   "metadata": {
    "collapsed": false,
    "scrolled": false
   },
   "outputs": [
    {
     "data": {
      "text/html": [
       "<div>\n",
       "<table border=\"1\" class=\"dataframe\">\n",
       "  <thead>\n",
       "    <tr style=\"text-align: right;\">\n",
       "      <th></th>\n",
       "      <th>OutcomeType</th>\n",
       "      <th>weekend</th>\n",
       "      <th>Mix</th>\n",
       "      <th>has_name</th>\n",
       "      <th>Mix_Color</th>\n",
       "      <th>Age_days</th>\n",
       "      <th>AnimalType=Cat</th>\n",
       "      <th>AnimalType=Dog</th>\n",
       "      <th>Day</th>\n",
       "      <th>First_Breed=Abyssinian</th>\n",
       "      <th>...</th>\n",
       "      <th>Second_Color=White</th>\n",
       "      <th>Second_Color=Yellow</th>\n",
       "      <th>Second_Color=Yellow Brindle</th>\n",
       "      <th>SexuponOutcome</th>\n",
       "      <th>SexuponOutcome=Intact Female</th>\n",
       "      <th>SexuponOutcome=Intact Male</th>\n",
       "      <th>SexuponOutcome=Neutered Male</th>\n",
       "      <th>SexuponOutcome=Spayed Female</th>\n",
       "      <th>SexuponOutcome=Unknown</th>\n",
       "      <th>Year</th>\n",
       "    </tr>\n",
       "  </thead>\n",
       "  <tbody>\n",
       "    <tr>\n",
       "      <th>0</th>\n",
       "      <td>Return_to_owner</td>\n",
       "      <td>False</td>\n",
       "      <td>True</td>\n",
       "      <td>False</td>\n",
       "      <td>False</td>\n",
       "      <td>365.0</td>\n",
       "      <td>0.0</td>\n",
       "      <td>1.0</td>\n",
       "      <td>12.0</td>\n",
       "      <td>0.0</td>\n",
       "      <td>...</td>\n",
       "      <td>1.0</td>\n",
       "      <td>0.0</td>\n",
       "      <td>0.0</td>\n",
       "      <td>0.0</td>\n",
       "      <td>0.0</td>\n",
       "      <td>0.0</td>\n",
       "      <td>1.0</td>\n",
       "      <td>0.0</td>\n",
       "      <td>0.0</td>\n",
       "      <td>2014.0</td>\n",
       "    </tr>\n",
       "    <tr>\n",
       "      <th>1</th>\n",
       "      <td>Euthanasia</td>\n",
       "      <td>True</td>\n",
       "      <td>True</td>\n",
       "      <td>False</td>\n",
       "      <td>False</td>\n",
       "      <td>365.0</td>\n",
       "      <td>1.0</td>\n",
       "      <td>0.0</td>\n",
       "      <td>13.0</td>\n",
       "      <td>0.0</td>\n",
       "      <td>...</td>\n",
       "      <td>0.0</td>\n",
       "      <td>0.0</td>\n",
       "      <td>0.0</td>\n",
       "      <td>0.0</td>\n",
       "      <td>0.0</td>\n",
       "      <td>0.0</td>\n",
       "      <td>0.0</td>\n",
       "      <td>1.0</td>\n",
       "      <td>0.0</td>\n",
       "      <td>2013.0</td>\n",
       "    </tr>\n",
       "    <tr>\n",
       "      <th>2</th>\n",
       "      <td>Adoption</td>\n",
       "      <td>True</td>\n",
       "      <td>True</td>\n",
       "      <td>False</td>\n",
       "      <td>False</td>\n",
       "      <td>730.0</td>\n",
       "      <td>0.0</td>\n",
       "      <td>1.0</td>\n",
       "      <td>31.0</td>\n",
       "      <td>0.0</td>\n",
       "      <td>...</td>\n",
       "      <td>1.0</td>\n",
       "      <td>0.0</td>\n",
       "      <td>0.0</td>\n",
       "      <td>0.0</td>\n",
       "      <td>0.0</td>\n",
       "      <td>0.0</td>\n",
       "      <td>1.0</td>\n",
       "      <td>0.0</td>\n",
       "      <td>0.0</td>\n",
       "      <td>2015.0</td>\n",
       "    </tr>\n",
       "    <tr>\n",
       "      <th>3</th>\n",
       "      <td>Transfer</td>\n",
       "      <td>False</td>\n",
       "      <td>True</td>\n",
       "      <td>True</td>\n",
       "      <td>False</td>\n",
       "      <td>21.0</td>\n",
       "      <td>1.0</td>\n",
       "      <td>0.0</td>\n",
       "      <td>11.0</td>\n",
       "      <td>0.0</td>\n",
       "      <td>...</td>\n",
       "      <td>0.0</td>\n",
       "      <td>0.0</td>\n",
       "      <td>0.0</td>\n",
       "      <td>0.0</td>\n",
       "      <td>0.0</td>\n",
       "      <td>1.0</td>\n",
       "      <td>0.0</td>\n",
       "      <td>0.0</td>\n",
       "      <td>0.0</td>\n",
       "      <td>2014.0</td>\n",
       "    </tr>\n",
       "    <tr>\n",
       "      <th>4</th>\n",
       "      <td>Transfer</td>\n",
       "      <td>False</td>\n",
       "      <td>False</td>\n",
       "      <td>True</td>\n",
       "      <td>False</td>\n",
       "      <td>730.0</td>\n",
       "      <td>0.0</td>\n",
       "      <td>1.0</td>\n",
       "      <td>15.0</td>\n",
       "      <td>0.0</td>\n",
       "      <td>...</td>\n",
       "      <td>0.0</td>\n",
       "      <td>0.0</td>\n",
       "      <td>0.0</td>\n",
       "      <td>0.0</td>\n",
       "      <td>0.0</td>\n",
       "      <td>0.0</td>\n",
       "      <td>1.0</td>\n",
       "      <td>0.0</td>\n",
       "      <td>0.0</td>\n",
       "      <td>2013.0</td>\n",
       "    </tr>\n",
       "  </tbody>\n",
       "</table>\n",
       "<p>5 rows × 483 columns</p>\n",
       "</div>"
      ],
      "text/plain": [
       "       OutcomeType weekend    Mix has_name Mix_Color  Age_days  \\\n",
       "0  Return_to_owner   False   True    False     False     365.0   \n",
       "1       Euthanasia    True   True    False     False     365.0   \n",
       "2         Adoption    True   True    False     False     730.0   \n",
       "3         Transfer   False   True     True     False      21.0   \n",
       "4         Transfer   False  False     True     False     730.0   \n",
       "\n",
       "   AnimalType=Cat  AnimalType=Dog   Day  First_Breed=Abyssinian   ...    \\\n",
       "0             0.0             1.0  12.0                     0.0   ...     \n",
       "1             1.0             0.0  13.0                     0.0   ...     \n",
       "2             0.0             1.0  31.0                     0.0   ...     \n",
       "3             1.0             0.0  11.0                     0.0   ...     \n",
       "4             0.0             1.0  15.0                     0.0   ...     \n",
       "\n",
       "   Second_Color=White  Second_Color=Yellow  Second_Color=Yellow Brindle  \\\n",
       "0                 1.0                  0.0                          0.0   \n",
       "1                 0.0                  0.0                          0.0   \n",
       "2                 1.0                  0.0                          0.0   \n",
       "3                 0.0                  0.0                          0.0   \n",
       "4                 0.0                  0.0                          0.0   \n",
       "\n",
       "   SexuponOutcome  SexuponOutcome=Intact Female  SexuponOutcome=Intact Male  \\\n",
       "0             0.0                           0.0                         0.0   \n",
       "1             0.0                           0.0                         0.0   \n",
       "2             0.0                           0.0                         0.0   \n",
       "3             0.0                           0.0                         1.0   \n",
       "4             0.0                           0.0                         0.0   \n",
       "\n",
       "   SexuponOutcome=Neutered Male  SexuponOutcome=Spayed Female  \\\n",
       "0                           1.0                           0.0   \n",
       "1                           0.0                           1.0   \n",
       "2                           1.0                           0.0   \n",
       "3                           0.0                           0.0   \n",
       "4                           1.0                           0.0   \n",
       "\n",
       "   SexuponOutcome=Unknown    Year  \n",
       "0                     0.0  2014.0  \n",
       "1                     0.0  2013.0  \n",
       "2                     0.0  2015.0  \n",
       "3                     0.0  2014.0  \n",
       "4                     0.0  2013.0  \n",
       "\n",
       "[5 rows x 483 columns]"
      ]
     },
     "execution_count": 366,
     "metadata": {},
     "output_type": "execute_result"
    }
   ],
   "source": [
    "final_train_data.head()"
   ]
  },
  {
   "cell_type": "markdown",
   "metadata": {},
   "source": [
    "### Label\n",
    "\n",
    "We will convert the outcome to numeric"
   ]
  },
  {
   "cell_type": "code",
   "execution_count": 367,
   "metadata": {
    "collapsed": false
   },
   "outputs": [],
   "source": [
    "# Convert the label to numeric category\n",
    "le = preprocessing.LabelEncoder()\n",
    "train_labels = le.fit_transform(final_train_data['OutcomeType'])\n",
    "\n",
    "final_train_data = final_train_data.drop(['OutcomeType'], axis=1)"
   ]
  },
  {
   "cell_type": "code",
   "execution_count": 370,
   "metadata": {
    "collapsed": true
   },
   "outputs": [],
   "source": [
    "final_train_data.to_csv('train_data_engineered.csv', index=False)\n",
    "final_test_data.to_csv('test_data_engineered.csv', index=False)"
   ]
  },
  {
   "cell_type": "markdown",
   "metadata": {},
   "source": [
    "## Modeling"
   ]
  },
  {
   "cell_type": "markdown",
   "metadata": {},
   "source": [
    "### What model are we using?  Why?"
   ]
  },
  {
   "cell_type": "code",
   "execution_count": 371,
   "metadata": {
    "collapsed": false
   },
   "outputs": [
    {
     "data": {
      "text/html": [
       "<div>\n",
       "<table border=\"1\" class=\"dataframe\">\n",
       "  <thead>\n",
       "    <tr style=\"text-align: right;\">\n",
       "      <th></th>\n",
       "      <th>weekend</th>\n",
       "      <th>Mix</th>\n",
       "      <th>has_name</th>\n",
       "      <th>Mix_Color</th>\n",
       "      <th>Age_days</th>\n",
       "      <th>AnimalType=Cat</th>\n",
       "      <th>AnimalType=Dog</th>\n",
       "      <th>Day</th>\n",
       "      <th>First_Breed=Abyssinian</th>\n",
       "      <th>First_Breed=Affenpinscher</th>\n",
       "      <th>...</th>\n",
       "      <th>Second_Color=White</th>\n",
       "      <th>Second_Color=Yellow</th>\n",
       "      <th>Second_Color=Yellow Brindle</th>\n",
       "      <th>SexuponOutcome</th>\n",
       "      <th>SexuponOutcome=Intact Female</th>\n",
       "      <th>SexuponOutcome=Intact Male</th>\n",
       "      <th>SexuponOutcome=Neutered Male</th>\n",
       "      <th>SexuponOutcome=Spayed Female</th>\n",
       "      <th>SexuponOutcome=Unknown</th>\n",
       "      <th>Year</th>\n",
       "    </tr>\n",
       "  </thead>\n",
       "  <tbody>\n",
       "    <tr>\n",
       "      <th>0</th>\n",
       "      <td>False</td>\n",
       "      <td>True</td>\n",
       "      <td>False</td>\n",
       "      <td>False</td>\n",
       "      <td>365.0</td>\n",
       "      <td>0.0</td>\n",
       "      <td>1.0</td>\n",
       "      <td>12.0</td>\n",
       "      <td>0.0</td>\n",
       "      <td>0.0</td>\n",
       "      <td>...</td>\n",
       "      <td>1.0</td>\n",
       "      <td>0.0</td>\n",
       "      <td>0.0</td>\n",
       "      <td>0.0</td>\n",
       "      <td>0.0</td>\n",
       "      <td>0.0</td>\n",
       "      <td>1.0</td>\n",
       "      <td>0.0</td>\n",
       "      <td>0.0</td>\n",
       "      <td>2014.0</td>\n",
       "    </tr>\n",
       "    <tr>\n",
       "      <th>1</th>\n",
       "      <td>True</td>\n",
       "      <td>True</td>\n",
       "      <td>False</td>\n",
       "      <td>False</td>\n",
       "      <td>365.0</td>\n",
       "      <td>1.0</td>\n",
       "      <td>0.0</td>\n",
       "      <td>13.0</td>\n",
       "      <td>0.0</td>\n",
       "      <td>0.0</td>\n",
       "      <td>...</td>\n",
       "      <td>0.0</td>\n",
       "      <td>0.0</td>\n",
       "      <td>0.0</td>\n",
       "      <td>0.0</td>\n",
       "      <td>0.0</td>\n",
       "      <td>0.0</td>\n",
       "      <td>0.0</td>\n",
       "      <td>1.0</td>\n",
       "      <td>0.0</td>\n",
       "      <td>2013.0</td>\n",
       "    </tr>\n",
       "    <tr>\n",
       "      <th>2</th>\n",
       "      <td>True</td>\n",
       "      <td>True</td>\n",
       "      <td>False</td>\n",
       "      <td>False</td>\n",
       "      <td>730.0</td>\n",
       "      <td>0.0</td>\n",
       "      <td>1.0</td>\n",
       "      <td>31.0</td>\n",
       "      <td>0.0</td>\n",
       "      <td>0.0</td>\n",
       "      <td>...</td>\n",
       "      <td>1.0</td>\n",
       "      <td>0.0</td>\n",
       "      <td>0.0</td>\n",
       "      <td>0.0</td>\n",
       "      <td>0.0</td>\n",
       "      <td>0.0</td>\n",
       "      <td>1.0</td>\n",
       "      <td>0.0</td>\n",
       "      <td>0.0</td>\n",
       "      <td>2015.0</td>\n",
       "    </tr>\n",
       "    <tr>\n",
       "      <th>3</th>\n",
       "      <td>False</td>\n",
       "      <td>True</td>\n",
       "      <td>True</td>\n",
       "      <td>False</td>\n",
       "      <td>21.0</td>\n",
       "      <td>1.0</td>\n",
       "      <td>0.0</td>\n",
       "      <td>11.0</td>\n",
       "      <td>0.0</td>\n",
       "      <td>0.0</td>\n",
       "      <td>...</td>\n",
       "      <td>0.0</td>\n",
       "      <td>0.0</td>\n",
       "      <td>0.0</td>\n",
       "      <td>0.0</td>\n",
       "      <td>0.0</td>\n",
       "      <td>1.0</td>\n",
       "      <td>0.0</td>\n",
       "      <td>0.0</td>\n",
       "      <td>0.0</td>\n",
       "      <td>2014.0</td>\n",
       "    </tr>\n",
       "    <tr>\n",
       "      <th>4</th>\n",
       "      <td>False</td>\n",
       "      <td>False</td>\n",
       "      <td>True</td>\n",
       "      <td>False</td>\n",
       "      <td>730.0</td>\n",
       "      <td>0.0</td>\n",
       "      <td>1.0</td>\n",
       "      <td>15.0</td>\n",
       "      <td>0.0</td>\n",
       "      <td>0.0</td>\n",
       "      <td>...</td>\n",
       "      <td>0.0</td>\n",
       "      <td>0.0</td>\n",
       "      <td>0.0</td>\n",
       "      <td>0.0</td>\n",
       "      <td>0.0</td>\n",
       "      <td>0.0</td>\n",
       "      <td>1.0</td>\n",
       "      <td>0.0</td>\n",
       "      <td>0.0</td>\n",
       "      <td>2013.0</td>\n",
       "    </tr>\n",
       "  </tbody>\n",
       "</table>\n",
       "<p>5 rows × 482 columns</p>\n",
       "</div>"
      ],
      "text/plain": [
       "  weekend    Mix has_name Mix_Color  Age_days  AnimalType=Cat  AnimalType=Dog  \\\n",
       "0   False   True    False     False     365.0             0.0             1.0   \n",
       "1    True   True    False     False     365.0             1.0             0.0   \n",
       "2    True   True    False     False     730.0             0.0             1.0   \n",
       "3   False   True     True     False      21.0             1.0             0.0   \n",
       "4   False  False     True     False     730.0             0.0             1.0   \n",
       "\n",
       "    Day  First_Breed=Abyssinian  First_Breed=Affenpinscher   ...    \\\n",
       "0  12.0                     0.0                        0.0   ...     \n",
       "1  13.0                     0.0                        0.0   ...     \n",
       "2  31.0                     0.0                        0.0   ...     \n",
       "3  11.0                     0.0                        0.0   ...     \n",
       "4  15.0                     0.0                        0.0   ...     \n",
       "\n",
       "   Second_Color=White  Second_Color=Yellow  Second_Color=Yellow Brindle  \\\n",
       "0                 1.0                  0.0                          0.0   \n",
       "1                 0.0                  0.0                          0.0   \n",
       "2                 1.0                  0.0                          0.0   \n",
       "3                 0.0                  0.0                          0.0   \n",
       "4                 0.0                  0.0                          0.0   \n",
       "\n",
       "   SexuponOutcome  SexuponOutcome=Intact Female  SexuponOutcome=Intact Male  \\\n",
       "0             0.0                           0.0                         0.0   \n",
       "1             0.0                           0.0                         0.0   \n",
       "2             0.0                           0.0                         0.0   \n",
       "3             0.0                           0.0                         1.0   \n",
       "4             0.0                           0.0                         0.0   \n",
       "\n",
       "   SexuponOutcome=Neutered Male  SexuponOutcome=Spayed Female  \\\n",
       "0                           1.0                           0.0   \n",
       "1                           0.0                           1.0   \n",
       "2                           1.0                           0.0   \n",
       "3                           0.0                           0.0   \n",
       "4                           1.0                           0.0   \n",
       "\n",
       "   SexuponOutcome=Unknown    Year  \n",
       "0                     0.0  2014.0  \n",
       "1                     0.0  2013.0  \n",
       "2                     0.0  2015.0  \n",
       "3                     0.0  2014.0  \n",
       "4                     0.0  2013.0  \n",
       "\n",
       "[5 rows x 482 columns]"
      ]
     },
     "execution_count": 371,
     "metadata": {},
     "output_type": "execute_result"
    }
   ],
   "source": [
    "final_train_data.head()"
   ]
  },
  {
   "cell_type": "code",
   "execution_count": 372,
   "metadata": {
    "collapsed": false
   },
   "outputs": [
    {
     "data": {
      "text/plain": [
       "GradientBoostingClassifier(criterion='friedman_mse', init=None,\n",
       "              learning_rate=0.1, loss='deviance', max_depth=3,\n",
       "              max_features=None, max_leaf_nodes=None,\n",
       "              min_impurity_split=1e-07, min_samples_leaf=1,\n",
       "              min_samples_split=2, min_weight_fraction_leaf=0.0,\n",
       "              n_estimators=200, presort='auto', random_state=None,\n",
       "              subsample=0.8, verbose=0, warm_start=False)"
      ]
     },
     "execution_count": 372,
     "metadata": {},
     "output_type": "execute_result"
    }
   ],
   "source": [
    "clf = GradientBoostingClassifier(n_estimators=200, subsample=0.8)\n",
    "#gs = GridSearchCV(dt,parameter)\n",
    "\n",
    "clf.fit(final_train_data, train_labels)"
   ]
  },
  {
   "cell_type": "code",
   "execution_count": 373,
   "metadata": {
    "collapsed": false
   },
   "outputs": [
    {
     "data": {
      "text/plain": [
       "array(['Adoption', 'Died', 'Euthanasia', 'Return_to_owner', 'Transfer'], dtype=object)"
      ]
     },
     "execution_count": 373,
     "metadata": {},
     "output_type": "execute_result"
    }
   ],
   "source": [
    "le.classes_"
   ]
  },
  {
   "cell_type": "code",
   "execution_count": 374,
   "metadata": {
    "collapsed": false
   },
   "outputs": [],
   "source": [
    "pred_prob = clf.predict_proba(final_test_data)"
   ]
  },
  {
   "cell_type": "code",
   "execution_count": 375,
   "metadata": {
    "collapsed": true
   },
   "outputs": [],
   "source": [
    "np.savetxt('prediction.csv', pred_prob)"
   ]
  },
  {
   "cell_type": "markdown",
   "metadata": {},
   "source": [
    "### Assumptions?"
   ]
  },
  {
   "cell_type": "markdown",
   "metadata": {},
   "source": [
    "### Regularization?"
   ]
  },
  {
   "cell_type": "markdown",
   "metadata": {},
   "source": [
    "## Evaluation"
   ]
  },
  {
   "cell_type": "markdown",
   "metadata": {},
   "source": [
    "### How well does the model perform?\n",
    "- Accuracy\n",
    "- ROC Curves\n",
    "- Cross-validation\n",
    "- other metrics?  performance?"
   ]
  },
  {
   "cell_type": "markdown",
   "metadata": {},
   "source": [
    "#### AB test results (if any)"
   ]
  },
  {
   "cell_type": "markdown",
   "metadata": {},
   "source": [
    "## Deployment"
   ]
  },
  {
   "cell_type": "markdown",
   "metadata": {},
   "source": [
    "#### How is the model deployed?\n",
    "- prediction service?\n",
    "- serialized model?\n",
    "- regression coefficients?"
   ]
  },
  {
   "cell_type": "markdown",
   "metadata": {},
   "source": [
    "#### What support is provided after initial deployment?"
   ]
  },
  {
   "cell_type": "markdown",
   "metadata": {},
   "source": []
  }
 ],
 "metadata": {
  "anaconda-cloud": {},
  "kernelspec": {
   "display_name": "Python [default]",
   "language": "python",
   "name": "python2"
  },
  "language_info": {
   "codemirror_mode": {
    "name": "ipython",
    "version": 2
   },
   "file_extension": ".py",
   "mimetype": "text/x-python",
   "name": "python",
   "nbconvert_exporter": "python",
   "pygments_lexer": "ipython2",
   "version": "2.7.12"
  }
 },
 "nbformat": 4,
 "nbformat_minor": 1
}
